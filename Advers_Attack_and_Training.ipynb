{
 "cells": [
  {
   "cell_type": "markdown",
   "id": "cd61c6ab",
   "metadata": {},
   "source": [
    "# Importing Required Libraries"
   ]
  },
  {
   "cell_type": "code",
   "execution_count": 1,
   "id": "8a21dc69",
   "metadata": {},
   "outputs": [],
   "source": [
    "import pandas as pd\n",
    "import numpy as np\n",
    "import os\n",
    "from sklearn.model_selection import train_test_split\n",
    "from sklearn.preprocessing import MinMaxScaler\n",
    "from unidecode import unidecode\n",
    "from sklearn.model_selection import train_test_split\n",
    "from sklearn.preprocessing import OneHotEncoder, StandardScaler, LabelEncoder\n",
    "from keras.models import Sequential, Model\n",
    "from keras import callbacks\n",
    "from keras.layers import Dense, Activation, Flatten, Convolution1D, Dropout,Input\n",
    "from sklearn import metrics\n",
    "from hyperopt import fmin, hp, tpe, Trials, STATUS_OK\n",
    "from hyperopt.plotting import main_plot_history, main_plot_vars\n",
    "import uuid\n",
    "import gc\n",
    "from tensorflow import keras\n",
    "import tensorflow as tf\n",
    "from sklearn.metrics import confusion_matrix, precision_score, recall_score\n",
    "from sklearn.metrics import confusion_matrix , classification_report\n",
    "from sklearn.metrics import balanced_accuracy_score\n",
    "from keras.optimizers import Adam\n",
    "from keras.regularizers import l2\n",
    "import numpy as np\n",
    "import pandas as pd\n",
    "from keras.models import Sequential, Model\n",
    "from keras.layers import Dense, LeakyReLU, BatchNormalization, Input, Reshape, Flatten\n",
    "from keras.optimizers import RMSprop\n",
    "from keras import backend as K\n",
    "from keras.models import load_model\n",
    "import matplotlib.pyplot as plt\n",
    "from keras.callbacks import EarlyStopping\n",
    "tf.compat.v1.disable_eager_execution()\n",
    "from keras.utils import plot_model"
   ]
  },
  {
   "cell_type": "markdown",
   "id": "568fa48d",
   "metadata": {},
   "source": [
    "# Loading Dataset and spilting into Training dataset, Testing dataset and Validation dataset"
   ]
  },
  {
   "cell_type": "code",
   "execution_count": 2,
   "id": "b32261e0",
   "metadata": {},
   "outputs": [],
   "source": [
    "df = pd.read_csv(\"IDS_2018/combined_DF.csv\")"
   ]
  },
  {
   "cell_type": "code",
   "execution_count": 3,
   "id": "1f948432",
   "metadata": {},
   "outputs": [
    {
     "data": {
      "text/plain": [
       "(1643244, 6)"
      ]
     },
     "execution_count": 3,
     "metadata": {},
     "output_type": "execute_result"
    }
   ],
   "source": [
    "df.shape"
   ]
  },
  {
   "cell_type": "code",
   "execution_count": 4,
   "id": "5ce36c28",
   "metadata": {},
   "outputs": [
    {
     "data": {
      "text/plain": [
       "Label\n",
       "Benign    957232\n",
       "DDOS      686012\n",
       "Name: count, dtype: int64"
      ]
     },
     "execution_count": 4,
     "metadata": {},
     "output_type": "execute_result"
    }
   ],
   "source": [
    "df[\"Label\"].value_counts()"
   ]
  },
  {
   "cell_type": "code",
   "execution_count": 5,
   "id": "6ef1baf3",
   "metadata": {},
   "outputs": [],
   "source": [
    "class_counts = df[\"Label\"].value_counts()"
   ]
  },
  {
   "cell_type": "code",
   "execution_count": 6,
   "id": "c76f31eb",
   "metadata": {},
   "outputs": [
    {
     "data": {
      "image/png": "[encoded data removed]",
      "text/plain": [
       "<Figure size 1000x600 with 1 Axes>"
      ]
     },
     "metadata": {},
     "output_type": "display_data"
    }
   ],
   "source": [
    "plt.figure(figsize=(10, 6))\n",
    "plt.pie(class_counts, labels=class_counts.index, autopct='%1.1f%%')\n",
    "plt.show()"
   ]
  },
  {
   "cell_type": "code",
   "execution_count": 7,
   "id": "9031818c",
   "metadata": {},
   "outputs": [],
   "source": [
    "df.drop('Unnamed: 0', axis=1, inplace=True)"
   ]
  },
  {
   "cell_type": "code",
   "execution_count": 8,
   "id": "cae6c63f",
   "metadata": {},
   "outputs": [],
   "source": [
    "X = df[list(df.columns)]\n",
    "y = df.loc[:, df.columns == \"Label\"]\n",
    "X_train, X_, y_train, y_ = train_test_split(X, y, test_size=0.2, random_state=1)"
   ]
  },
  {
   "cell_type": "code",
   "execution_count": 9,
   "id": "c1dc13ed",
   "metadata": {},
   "outputs": [],
   "source": [
    "X_val, X_test, y_val, y_test = train_test_split(X_, y_, test_size=0.9, random_state=1)"
   ]
  },
  {
   "cell_type": "code",
   "execution_count": 299,
   "id": "5e04b706",
   "metadata": {},
   "outputs": [],
   "source": [
    "# X_train.to_csv('X_train.csv', index=False)\n",
    "# y_train.to_csv('y_train.csv', index=False)\n",
    "# X_val.to_csv('X_val.csv', index=False)\n",
    "# y_val.to_csv('y_val.csv', index=False)\n",
    "# X_test.to_csv('X_test.csv', index=False)\n",
    "# y_test.to_csv('y_test.csv', index=False)"
   ]
  },
  {
   "cell_type": "code",
   "execution_count": 8,
   "id": "adf3e8bd",
   "metadata": {},
   "outputs": [],
   "source": [
    "X_train = pd.read_csv('Thesis/X_train.csv')\n",
    "y_train = pd.read_csv('Thesis/y_train.csv')\n",
    "X_val = pd.read_csv('Thesis/X_val.csv')\n",
    "X_test = pd.read_csv('Thesis/X_test.csv')\n",
    "y_val = pd.read_csv('Thesis/y_val.csv')\n",
    "y_test = pd.read_csv('Thesis/y_test.csv')"
   ]
  },
  {
   "cell_type": "code",
   "execution_count": 9,
   "id": "c6f101da",
   "metadata": {},
   "outputs": [],
   "source": [
    "scaler = MinMaxScaler()"
   ]
  },
  {
   "cell_type": "code",
   "execution_count": 10,
   "id": "54cc95cd",
   "metadata": {},
   "outputs": [],
   "source": [
    "cols_X = X_train.select_dtypes(include=['float64','int64']).columns\n",
    "cols_test_X = X_test.select_dtypes(include=['float64','int64']).columns\n",
    "sc_train_X = scaler.fit_transform(X_train.select_dtypes(include=['float64','int64']))\n",
    "sc_test_X = scaler.fit_transform(X_test.select_dtypes(include=['float64','int64']))\n",
    "sc_traindf_X = pd.DataFrame(sc_train_X, columns = cols_X)\n",
    "sc_testdf_X = pd.DataFrame(sc_test_X, columns = cols_test_X)\n",
    "\n",
    "cols_x_val=X_val.select_dtypes(include=['float64','int64']).columns\n",
    "sc_val_X=scaler.fit_transform(X_val.select_dtypes(include=['float64','int64']))\n",
    "sc_valdf_X=pd.DataFrame(sc_val_X, columns = cols_x_val)"
   ]
  },
  {
   "cell_type": "code",
   "execution_count": 12,
   "id": "97cc7a67",
   "metadata": {},
   "outputs": [
    {
     "data": {
      "text/html": [
       "<div>\n",
       "<style scoped>\n",
       "    .dataframe tbody tr th:only-of-type {\n",
       "        vertical-align: middle;\n",
       "    }\n",
       "\n",
       "    .dataframe tbody tr th {\n",
       "        vertical-align: top;\n",
       "    }\n",
       "\n",
       "    .dataframe thead th {\n",
       "        text-align: right;\n",
       "    }\n",
       "</style>\n",
       "<table border=\"1\" class=\"dataframe\">\n",
       "  <thead>\n",
       "    <tr style=\"text-align: right;\">\n",
       "      <th></th>\n",
       "      <th>Flow Duration</th>\n",
       "      <th>Bwd Pkt Len Std</th>\n",
       "      <th>Pkt Size Avg</th>\n",
       "      <th>Flow IAT Std</th>\n",
       "    </tr>\n",
       "  </thead>\n",
       "  <tbody>\n",
       "    <tr>\n",
       "      <th>0</th>\n",
       "      <td>0.000002</td>\n",
       "      <td>0.000000</td>\n",
       "      <td>0.000000</td>\n",
       "      <td>0.000000</td>\n",
       "    </tr>\n",
       "    <tr>\n",
       "      <th>1</th>\n",
       "      <td>0.922048</td>\n",
       "      <td>0.429952</td>\n",
       "      <td>0.169415</td>\n",
       "      <td>0.039595</td>\n",
       "    </tr>\n",
       "    <tr>\n",
       "      <th>2</th>\n",
       "      <td>0.000010</td>\n",
       "      <td>0.000000</td>\n",
       "      <td>0.053620</td>\n",
       "      <td>0.000000</td>\n",
       "    </tr>\n",
       "    <tr>\n",
       "      <th>3</th>\n",
       "      <td>0.000010</td>\n",
       "      <td>0.000000</td>\n",
       "      <td>0.044740</td>\n",
       "      <td>0.000000</td>\n",
       "    </tr>\n",
       "    <tr>\n",
       "      <th>4</th>\n",
       "      <td>0.000088</td>\n",
       "      <td>0.000000</td>\n",
       "      <td>0.000000</td>\n",
       "      <td>0.000000</td>\n",
       "    </tr>\n",
       "  </tbody>\n",
       "</table>\n",
       "</div>"
      ],
      "text/plain": [
       "   Flow Duration  Bwd Pkt Len Std  Pkt Size Avg  Flow IAT Std\n",
       "0       0.000002         0.000000      0.000000      0.000000\n",
       "1       0.922048         0.429952      0.169415      0.039595\n",
       "2       0.000010         0.000000      0.053620      0.000000\n",
       "3       0.000010         0.000000      0.044740      0.000000\n",
       "4       0.000088         0.000000      0.000000      0.000000"
      ]
     },
     "execution_count": 12,
     "metadata": {},
     "output_type": "execute_result"
    }
   ],
   "source": [
    "sc_traindf_X.head()"
   ]
  },
  {
   "cell_type": "code",
   "execution_count": 13,
   "id": "2f1c4da9",
   "metadata": {},
   "outputs": [
    {
     "data": {
      "text/html": [
       "<div>\n",
       "<style scoped>\n",
       "    .dataframe tbody tr th:only-of-type {\n",
       "        vertical-align: middle;\n",
       "    }\n",
       "\n",
       "    .dataframe tbody tr th {\n",
       "        vertical-align: top;\n",
       "    }\n",
       "\n",
       "    .dataframe thead th {\n",
       "        text-align: right;\n",
       "    }\n",
       "</style>\n",
       "<table border=\"1\" class=\"dataframe\">\n",
       "  <thead>\n",
       "    <tr style=\"text-align: right;\">\n",
       "      <th></th>\n",
       "      <th>Flow Duration</th>\n",
       "      <th>Bwd Pkt Len Std</th>\n",
       "      <th>Pkt Size Avg</th>\n",
       "      <th>Flow IAT Std</th>\n",
       "    </tr>\n",
       "  </thead>\n",
       "  <tbody>\n",
       "    <tr>\n",
       "      <th>0</th>\n",
       "      <td>0.000180</td>\n",
       "      <td>0.0</td>\n",
       "      <td>0.0</td>\n",
       "      <td>0.0</td>\n",
       "    </tr>\n",
       "    <tr>\n",
       "      <th>1</th>\n",
       "      <td>0.000104</td>\n",
       "      <td>0.0</td>\n",
       "      <td>0.0</td>\n",
       "      <td>0.0</td>\n",
       "    </tr>\n",
       "    <tr>\n",
       "      <th>2</th>\n",
       "      <td>0.000008</td>\n",
       "      <td>0.0</td>\n",
       "      <td>0.0</td>\n",
       "      <td>0.0</td>\n",
       "    </tr>\n",
       "    <tr>\n",
       "      <th>3</th>\n",
       "      <td>0.000247</td>\n",
       "      <td>0.0</td>\n",
       "      <td>0.0</td>\n",
       "      <td>0.0</td>\n",
       "    </tr>\n",
       "    <tr>\n",
       "      <th>4</th>\n",
       "      <td>0.000125</td>\n",
       "      <td>0.0</td>\n",
       "      <td>0.0</td>\n",
       "      <td>0.0</td>\n",
       "    </tr>\n",
       "  </tbody>\n",
       "</table>\n",
       "</div>"
      ],
      "text/plain": [
       "   Flow Duration  Bwd Pkt Len Std  Pkt Size Avg  Flow IAT Std\n",
       "0       0.000180              0.0           0.0           0.0\n",
       "1       0.000104              0.0           0.0           0.0\n",
       "2       0.000008              0.0           0.0           0.0\n",
       "3       0.000247              0.0           0.0           0.0\n",
       "4       0.000125              0.0           0.0           0.0"
      ]
     },
     "execution_count": 13,
     "metadata": {},
     "output_type": "execute_result"
    }
   ],
   "source": [
    "sc_testdf_X.head()"
   ]
  },
  {
   "cell_type": "code",
   "execution_count": 14,
   "id": "8c26f2fb",
   "metadata": {},
   "outputs": [
    {
     "data": {
      "text/html": [
       "<div>\n",
       "<style scoped>\n",
       "    .dataframe tbody tr th:only-of-type {\n",
       "        vertical-align: middle;\n",
       "    }\n",
       "\n",
       "    .dataframe tbody tr th {\n",
       "        vertical-align: top;\n",
       "    }\n",
       "\n",
       "    .dataframe thead th {\n",
       "        text-align: right;\n",
       "    }\n",
       "</style>\n",
       "<table border=\"1\" class=\"dataframe\">\n",
       "  <thead>\n",
       "    <tr style=\"text-align: right;\">\n",
       "      <th></th>\n",
       "      <th>Flow Duration</th>\n",
       "      <th>Bwd Pkt Len Std</th>\n",
       "      <th>Pkt Size Avg</th>\n",
       "      <th>Flow IAT Std</th>\n",
       "    </tr>\n",
       "  </thead>\n",
       "  <tbody>\n",
       "    <tr>\n",
       "      <th>0</th>\n",
       "      <td>0.000023</td>\n",
       "      <td>0.000000</td>\n",
       "      <td>0.052844</td>\n",
       "      <td>0.000000</td>\n",
       "    </tr>\n",
       "    <tr>\n",
       "      <th>1</th>\n",
       "      <td>0.000056</td>\n",
       "      <td>0.000000</td>\n",
       "      <td>0.000000</td>\n",
       "      <td>0.000000</td>\n",
       "    </tr>\n",
       "    <tr>\n",
       "      <th>2</th>\n",
       "      <td>0.000125</td>\n",
       "      <td>0.000000</td>\n",
       "      <td>0.000000</td>\n",
       "      <td>0.000000</td>\n",
       "    </tr>\n",
       "    <tr>\n",
       "      <th>3</th>\n",
       "      <td>0.979959</td>\n",
       "      <td>0.569224</td>\n",
       "      <td>0.118319</td>\n",
       "      <td>0.167029</td>\n",
       "    </tr>\n",
       "    <tr>\n",
       "      <th>4</th>\n",
       "      <td>0.000011</td>\n",
       "      <td>0.242450</td>\n",
       "      <td>0.123354</td>\n",
       "      <td>0.000004</td>\n",
       "    </tr>\n",
       "  </tbody>\n",
       "</table>\n",
       "</div>"
      ],
      "text/plain": [
       "   Flow Duration  Bwd Pkt Len Std  Pkt Size Avg  Flow IAT Std\n",
       "0       0.000023         0.000000      0.052844      0.000000\n",
       "1       0.000056         0.000000      0.000000      0.000000\n",
       "2       0.000125         0.000000      0.000000      0.000000\n",
       "3       0.979959         0.569224      0.118319      0.167029\n",
       "4       0.000011         0.242450      0.123354      0.000004"
      ]
     },
     "execution_count": 14,
     "metadata": {},
     "output_type": "execute_result"
    }
   ],
   "source": [
    "sc_valdf_X.head()"
   ]
  },
  {
   "cell_type": "code",
   "execution_count": 12,
   "id": "e9573401",
   "metadata": {},
   "outputs": [
    {
     "name": "stderr",
     "output_type": "stream",
     "text": [
      "C:\\Users\\Aswin\\anaconda3\\envs\\tf\\lib\\site-packages\\sklearn\\preprocessing\\_label.py:115: DataConversionWarning: A column-vector y was passed when a 1d array was expected. Please change the shape of y to (n_samples, ), for example using ravel().\n",
      "  y = column_or_1d(y, warn=True)\n"
     ]
    },
    {
     "data": {
      "text/plain": [
       "array([0, 0, 0, ..., 0, 0, 0])"
      ]
     },
     "execution_count": 12,
     "metadata": {},
     "output_type": "execute_result"
    }
   ],
   "source": [
    "labelencoder = LabelEncoder()\n",
    "y_train_encoded = labelencoder.fit_transform(y_train)\n",
    "y_train_encoded"
   ]
  },
  {
   "cell_type": "code",
   "execution_count": 13,
   "id": "e0eee108",
   "metadata": {},
   "outputs": [
    {
     "data": {
      "text/plain": [
       "array([1, 1, 1, ..., 1, 0, 0])"
      ]
     },
     "execution_count": 13,
     "metadata": {},
     "output_type": "execute_result"
    }
   ],
   "source": [
    "y_test_encoded = labelencoder.fit_transform(y_test)\n",
    "y_test_encoded"
   ]
  },
  {
   "cell_type": "code",
   "execution_count": 14,
   "id": "c2a6fa06",
   "metadata": {},
   "outputs": [
    {
     "data": {
      "text/plain": [
       "array([0, 1, 1, ..., 0, 0, 1])"
      ]
     },
     "execution_count": 14,
     "metadata": {},
     "output_type": "execute_result"
    }
   ],
   "source": [
    "y_val_encoded = labelencoder.fit_transform(y_val)\n",
    "y_val_encoded"
   ]
  },
  {
   "cell_type": "markdown",
   "id": "9f2dd62a",
   "metadata": {},
   "source": [
    "# Model Training and testing. "
   ]
  },
  {
   "cell_type": "code",
   "execution_count": 18,
   "id": "dd2aea55",
   "metadata": {},
   "outputs": [],
   "source": [
    "learning_rate = 0.0001#0.0001\n",
    "optimizer = Adam(learning_rate=learning_rate)"
   ]
  },
  {
   "cell_type": "code",
   "execution_count": 19,
   "id": "b4aca691",
   "metadata": {},
   "outputs": [],
   "source": [
    "model = tf.keras.models.Sequential([\n",
    "  tf.keras.layers.Dense(4, activation=tf.nn.relu,input_shape = (4,)),\n",
    "#   tf.keras.layers.Dense(512, activation=tf.nn.relu),\n",
    "#   tf.keras.layers.Dropout(0.05),#.05 \n",
    "#   tf.keras.layers.Dense(256, activation=tf.nn.relu),\n",
    "#   tf.keras.layers.Dropout(0.05),#.05\n",
    "  tf.keras.layers.Dense(128, activation=tf.nn.relu),\n",
    "  tf.keras.layers.Dropout(0.05),#.05\n",
    "  tf.keras.layers.Dense(64, activation=tf.nn.relu),\n",
    "  tf.keras.layers.Dropout(0.05),\n",
    "  tf.keras.layers.Dense(32, activation=tf.nn.relu),\n",
    "  tf.keras.layers.Dropout(0.05),\n",
    "  tf.keras.layers.Dense(16, activation=tf.nn.relu),\n",
    "  tf.keras.layers.Dropout(0.05),\n",
    "  tf.keras.layers.Dense(1, activation=tf.nn.sigmoid)\n",
    "])"
   ]
  },
  {
   "cell_type": "code",
   "execution_count": 20,
   "id": "0460d2f0",
   "metadata": {},
   "outputs": [],
   "source": [
    "early_stop = EarlyStopping(monitor='loss', patience=5, restore_best_weights=True)"
   ]
  },
  {
   "cell_type": "code",
   "execution_count": 21,
   "id": "cea5041b",
   "metadata": {},
   "outputs": [],
   "source": [
    "model.compile(optimizer=optimizer,\n",
    "              loss='binary_crossentropy',\n",
    "              metrics=['accuracy'])"
   ]
  },
  {
   "cell_type": "code",
   "execution_count": 80,
   "id": "1b58677d",
   "metadata": {},
   "outputs": [],
   "source": [
    "# model.save(\"perfectmodel.h5\")"
   ]
  },
  {
   "cell_type": "code",
   "execution_count": 23,
   "id": "b4c4abad",
   "metadata": {
    "scrolled": true
   },
   "outputs": [
    {
     "name": "stdout",
     "output_type": "stream",
     "text": [
      "Train on 1314595 samples, validate on 32864 samples\n",
      "Epoch 1/50\n",
      "1314595/1314595 [==============================] - ETA: 0s - loss: 0.5538 - accuracy: 0.6507"
     ]
    },
    {
     "name": "stderr",
     "output_type": "stream",
     "text": [
      "C:\\Users\\Aswin\\anaconda3\\envs\\tf\\lib\\site-packages\\keras\\engine\\training_v1.py:2332: UserWarning: `Model.state_updates` will be removed in a future version. This property should not be used in TensorFlow 2.0, as `updates` are applied automatically.\n",
      "  updates = self.state_updates\n"
     ]
    },
    {
     "name": "stdout",
     "output_type": "stream",
     "text": [
      "1314595/1314595 [==============================] - 19s 14us/sample - loss: 0.5538 - accuracy: 0.6507 - val_loss: 0.3964 - val_accuracy: 0.8100\n",
      "Epoch 2/50\n",
      "1314595/1314595 [==============================] - 18s 14us/sample - loss: 0.2413 - accuracy: 0.9079 - val_loss: 0.3042 - val_accuracy: 0.8800\n",
      "Epoch 3/50\n",
      "1314595/1314595 [==============================] - 18s 14us/sample - loss: 0.2081 - accuracy: 0.9262 - val_loss: 0.3097 - val_accuracy: 0.8829\n",
      "Epoch 4/50\n",
      "1314595/1314595 [==============================] - 19s 15us/sample - loss: 0.2059 - accuracy: 0.9267 - val_loss: 0.3099 - val_accuracy: 0.8843\n",
      "Epoch 5/50\n",
      "1314595/1314595 [==============================] - 20s 15us/sample - loss: 0.2043 - accuracy: 0.9269 - val_loss: 0.3019 - val_accuracy: 0.8867\n",
      "Epoch 6/50\n",
      "1314595/1314595 [==============================] - 19s 14us/sample - loss: 0.2029 - accuracy: 0.9269 - val_loss: 0.2954 - val_accuracy: 0.8883\n",
      "Epoch 7/50\n",
      "1314595/1314595 [==============================] - 19s 14us/sample - loss: 0.2015 - accuracy: 0.9268 - val_loss: 0.2861 - val_accuracy: 0.8913\n",
      "Epoch 8/50\n",
      "1314595/1314595 [==============================] - 19s 14us/sample - loss: 0.1981 - accuracy: 0.9266 - val_loss: 0.2855 - val_accuracy: 0.8896\n",
      "Epoch 9/50\n",
      "1314595/1314595 [==============================] - 19s 14us/sample - loss: 0.1895 - accuracy: 0.9264 - val_loss: 0.2814 - val_accuracy: 0.8918\n",
      "Epoch 10/50\n",
      "1314595/1314595 [==============================] - 19s 15us/sample - loss: 0.1800 - accuracy: 0.9259 - val_loss: 0.2843 - val_accuracy: 0.8902\n",
      "Epoch 11/50\n",
      "1314595/1314595 [==============================] - 19s 15us/sample - loss: 0.1733 - accuracy: 0.9256 - val_loss: 0.2745 - val_accuracy: 0.8933\n",
      "Epoch 12/50\n",
      "1314595/1314595 [==============================] - 19s 15us/sample - loss: 0.1678 - accuracy: 0.9256 - val_loss: 0.2577 - val_accuracy: 0.8975\n",
      "Epoch 13/50\n",
      "1314595/1314595 [==============================] - 19s 15us/sample - loss: 0.1640 - accuracy: 0.9346 - val_loss: 0.2520 - val_accuracy: 0.9103\n",
      "Epoch 14/50\n",
      "1314595/1314595 [==============================] - 19s 15us/sample - loss: 0.1607 - accuracy: 0.9354 - val_loss: 0.2456 - val_accuracy: 0.9128\n",
      "Epoch 15/50\n",
      "1314595/1314595 [==============================] - 19s 15us/sample - loss: 0.1564 - accuracy: 0.9345 - val_loss: 0.2303 - val_accuracy: 0.9152\n",
      "Epoch 16/50\n",
      "1314595/1314595 [==============================] - 20s 15us/sample - loss: 0.1522 - accuracy: 0.9350 - val_loss: 0.2258 - val_accuracy: 0.9168\n",
      "Epoch 17/50\n",
      "1314595/1314595 [==============================] - 23s 17us/sample - loss: 0.1512 - accuracy: 0.9356 - val_loss: 0.2246 - val_accuracy: 0.9170\n",
      "Epoch 18/50\n",
      "1314595/1314595 [==============================] - 20s 15us/sample - loss: 0.1477 - accuracy: 0.9364 - val_loss: 0.2211 - val_accuracy: 0.9172\n",
      "Epoch 19/50\n",
      "1314595/1314595 [==============================] - 19s 15us/sample - loss: 0.1457 - accuracy: 0.9371 - val_loss: 0.2173 - val_accuracy: 0.9178\n",
      "Epoch 20/50\n",
      "1314595/1314595 [==============================] - 20s 15us/sample - loss: 0.1449 - accuracy: 0.9378 - val_loss: 0.2094 - val_accuracy: 0.9177\n",
      "Epoch 21/50\n",
      "1314595/1314595 [==============================] - 19s 15us/sample - loss: 0.1419 - accuracy: 0.9385 - val_loss: 0.2106 - val_accuracy: 0.9174\n",
      "Epoch 22/50\n",
      "1314595/1314595 [==============================] - 20s 15us/sample - loss: 0.1450 - accuracy: 0.9388 - val_loss: 0.2083 - val_accuracy: 0.9187\n",
      "Epoch 23/50\n",
      "1314595/1314595 [==============================] - 20s 15us/sample - loss: 0.1410 - accuracy: 0.9394 - val_loss: 0.2049 - val_accuracy: 0.9181\n",
      "Epoch 24/50\n",
      "1314595/1314595 [==============================] - 19s 15us/sample - loss: 0.1375 - accuracy: 0.9406 - val_loss: 0.2047 - val_accuracy: 0.9186\n",
      "Epoch 25/50\n",
      "1314595/1314595 [==============================] - 19s 15us/sample - loss: 0.1379 - accuracy: 0.9416 - val_loss: 0.2018 - val_accuracy: 0.9182\n",
      "Epoch 26/50\n",
      "1314595/1314595 [==============================] - 19s 15us/sample - loss: 0.1339 - accuracy: 0.9427 - val_loss: 0.2045 - val_accuracy: 0.9664\n",
      "Epoch 27/50\n",
      "1314595/1314595 [==============================] - 19s 15us/sample - loss: 0.1313 - accuracy: 0.9448 - val_loss: 0.1946 - val_accuracy: 0.9188\n",
      "Epoch 28/50\n",
      "1314595/1314595 [==============================] - 19s 15us/sample - loss: 0.1288 - accuracy: 0.9459 - val_loss: 0.1927 - val_accuracy: 0.9740\n",
      "Epoch 29/50\n",
      "1314595/1314595 [==============================] - 20s 15us/sample - loss: 0.1275 - accuracy: 0.9465 - val_loss: 0.2138 - val_accuracy: 0.9407\n",
      "Epoch 30/50\n",
      "1314595/1314595 [==============================] - 20s 15us/sample - loss: 0.1252 - accuracy: 0.9493 - val_loss: 0.1835 - val_accuracy: 0.9696\n",
      "Epoch 31/50\n",
      "1314595/1314595 [==============================] - 20s 15us/sample - loss: 0.1202 - accuracy: 0.9513 - val_loss: 0.1826 - val_accuracy: 0.9737\n",
      "Epoch 32/50\n",
      "1314595/1314595 [==============================] - 19s 15us/sample - loss: 0.1181 - accuracy: 0.9532 - val_loss: 0.1826 - val_accuracy: 0.9698\n",
      "Epoch 33/50\n",
      "1314595/1314595 [==============================] - 20s 15us/sample - loss: 0.1179 - accuracy: 0.9550 - val_loss: 0.1826 - val_accuracy: 0.9192\n",
      "Epoch 34/50\n",
      "1314595/1314595 [==============================] - 19s 15us/sample - loss: 0.1171 - accuracy: 0.9565 - val_loss: 0.1840 - val_accuracy: 0.9636\n",
      "Epoch 35/50\n",
      "1314595/1314595 [==============================] - 20s 15us/sample - loss: 0.1094 - accuracy: 0.9584 - val_loss: 0.1770 - val_accuracy: 0.9639\n",
      "Epoch 36/50\n",
      "1314595/1314595 [==============================] - 20s 15us/sample - loss: 0.1063 - accuracy: 0.9605 - val_loss: 0.1681 - val_accuracy: 0.9738\n",
      "Epoch 37/50\n",
      "1314595/1314595 [==============================] - 19s 15us/sample - loss: 0.1007 - accuracy: 0.9645 - val_loss: 0.1655 - val_accuracy: 0.9741\n",
      "Epoch 38/50\n",
      "1314595/1314595 [==============================] - 19s 15us/sample - loss: 0.1031 - accuracy: 0.9661 - val_loss: 0.1622 - val_accuracy: 0.9667\n",
      "Epoch 39/50\n",
      "1314595/1314595 [==============================] - 19s 15us/sample - loss: 0.0952 - accuracy: 0.9675 - val_loss: 0.1806 - val_accuracy: 0.9547\n",
      "Epoch 40/50\n",
      "1314595/1314595 [==============================] - 19s 15us/sample - loss: 0.0927 - accuracy: 0.9690 - val_loss: 0.1505 - val_accuracy: 0.9716\n",
      "Epoch 41/50\n",
      "1314595/1314595 [==============================] - 20s 15us/sample - loss: 0.0899 - accuracy: 0.9709 - val_loss: 0.1595 - val_accuracy: 0.9636\n",
      "Epoch 42/50\n",
      "1314595/1314595 [==============================] - 20s 15us/sample - loss: 0.0858 - accuracy: 0.9729 - val_loss: 0.1674 - val_accuracy: 0.9207\n",
      "Epoch 43/50\n",
      "1314595/1314595 [==============================] - 19s 15us/sample - loss: 0.0845 - accuracy: 0.9733 - val_loss: 0.1459 - val_accuracy: 0.9706\n",
      "Epoch 44/50\n",
      "1314595/1314595 [==============================] - 19s 15us/sample - loss: 0.0806 - accuracy: 0.9765 - val_loss: 0.1442 - val_accuracy: 0.9739\n",
      "Epoch 45/50\n",
      "1314595/1314595 [==============================] - 20s 15us/sample - loss: 0.0804 - accuracy: 0.9764 - val_loss: 0.1591 - val_accuracy: 0.9555\n",
      "Epoch 46/50\n",
      "1314595/1314595 [==============================] - 20s 15us/sample - loss: 0.0781 - accuracy: 0.9763 - val_loss: 0.1389 - val_accuracy: 0.9742\n",
      "Epoch 47/50\n",
      "1314595/1314595 [==============================] - 20s 15us/sample - loss: 0.0793 - accuracy: 0.9766 - val_loss: 0.1393 - val_accuracy: 0.9760\n",
      "Epoch 48/50\n",
      "1314595/1314595 [==============================] - 26s 20us/sample - loss: 0.0741 - accuracy: 0.9788 - val_loss: 0.1357 - val_accuracy: 0.9758\n",
      "Epoch 49/50\n",
      "1314595/1314595 [==============================] - 27s 20us/sample - loss: 0.0741 - accuracy: 0.9782 - val_loss: 0.1397 - val_accuracy: 0.9758\n",
      "Epoch 50/50\n",
      "1314595/1314595 [==============================] - 20s 15us/sample - loss: 0.0795 - accuracy: 0.9786 - val_loss: 0.1362 - val_accuracy: 0.9757\n"
     ]
    }
   ],
   "source": [
    "history = model.fit(sc_traindf_X, y_train_encoded,batch_size=700, epochs=50,verbose=1,validation_data=(sc_valdf_X, y_val_encoded),callbacks=[early_stop])"
   ]
  },
  {
   "cell_type": "code",
   "execution_count": 298,
   "id": "effeb703",
   "metadata": {},
   "outputs": [],
   "source": [
    "import pickle\n",
    "\n",
    "# Assuming you have trained your model and have the 'history' object\n",
    "\n",
    "# Save the history to a file\n",
    "with open('history.pkl', 'wb') as file:\n",
    "    pickle.dump(history.history, file)"
   ]
  },
  {
   "cell_type": "code",
   "execution_count": 24,
   "id": "e2187d85",
   "metadata": {},
   "outputs": [
    {
     "data": {
      "image/png": "[encoded data removed]",
      "text/plain": [
       "<Figure size 640x480 with 1 Axes>"
      ]
     },
     "metadata": {},
     "output_type": "display_data"
    }
   ],
   "source": [
    "plt.plot(history.history['loss'])\n",
    "plt.plot(history.history['val_loss'])\n",
    "plt.title('Model loss')\n",
    "plt.xlabel('Epoch')\n",
    "plt.ylabel('Loss')\n",
    "plt.legend(['Train', 'Validation'], loc='upper left')\n",
    "plt.show()"
   ]
  },
  {
   "cell_type": "code",
   "execution_count": 25,
   "id": "ae357308",
   "metadata": {},
   "outputs": [
    {
     "data": {
      "image/png": "[encoded data removed]",
      "text/plain": [
       "<Figure size 640x480 with 1 Axes>"
      ]
     },
     "metadata": {},
     "output_type": "display_data"
    }
   ],
   "source": [
    "plt.plot(history.history['accuracy'])\n",
    "plt.plot(history.history['val_accuracy'])\n",
    "plt.title('Model loss')\n",
    "plt.xlabel('Epoch')\n",
    "plt.ylabel('Loss')\n",
    "plt.legend(['Train', 'Validation'], loc='upper left')\n",
    "plt.show()"
   ]
  },
  {
   "cell_type": "code",
   "execution_count": 4,
   "id": "dc816a8c",
   "metadata": {},
   "outputs": [
    {
     "name": "stderr",
     "output_type": "stream",
     "text": [
      "C:\\Users\\Aswin\\anaconda3\\envs\\tf\\lib\\site-packages\\tqdm\\auto.py:21: TqdmWarning: IProgress not found. Please update jupyter and ipywidgets. See https://ipywidgets.readthedocs.io/en/stable/user_install.html\n",
      "  from .autonotebook import tqdm as notebook_tqdm\n",
      "C:\\Users\\Aswin\\anaconda3\\envs\\tf\\lib\\site-packages\\art\\estimators\\certification\\__init__.py:29: UserWarning: PyTorch not found. Not importing DeepZ or Interval Bound Propagation functionality\n",
      "  warnings.warn(\"PyTorch not found. Not importing DeepZ or Interval Bound Propagation functionality\")\n"
     ]
    }
   ],
   "source": [
    "from art.estimators.classification import KerasClassifier,TensorFlowV2Classifier\n",
    "from art.attacks.evasion import FastGradientMethod, CarliniLInfMethod,BasicIterativeMethod, ProjectedGradientDescent"
   ]
  },
  {
   "cell_type": "code",
   "execution_count": 5,
   "id": "eeb69cf9",
   "metadata": {},
   "outputs": [],
   "source": [
    "Classifier = KerasClassifier( model=modeld_,use_logits=False)"
   ]
  },
  {
   "cell_type": "code",
   "execution_count": 15,
   "id": "03b09fb1",
   "metadata": {},
   "outputs": [
    {
     "name": "stderr",
     "output_type": "stream",
     "text": [
      "C:\\Users\\Aswin\\anaconda3\\envs\\tf\\lib\\site-packages\\keras\\engine\\training_v1.py:2332: UserWarning: `Model.state_updates` will be removed in a future version. This property should not be used in TensorFlow 2.0, as `updates` are applied automatically.\n",
      "  updates = self.state_updates\n"
     ]
    },
    {
     "data": {
      "text/plain": [
       "[0.18691685192248805, 0.9648934]"
      ]
     },
     "execution_count": 15,
     "metadata": {},
     "output_type": "execute_result"
    }
   ],
   "source": [
    "modeld_.evaluate(sc_testdf_X, y_test_encoded)"
   ]
  },
  {
   "cell_type": "code",
   "execution_count": 16,
   "id": "ce0d5714",
   "metadata": {},
   "outputs": [],
   "source": [
    "sc_testdf_X_np = sc_testdf_X.values"
   ]
  },
  {
   "cell_type": "code",
   "execution_count": 17,
   "id": "1b2faede",
   "metadata": {},
   "outputs": [
    {
     "name": "stderr",
     "output_type": "stream",
     "text": [
      "C:\\Users\\Aswin\\anaconda3\\envs\\tf\\lib\\site-packages\\keras\\engine\\training_v1.py:2356: UserWarning: `Model.state_updates` will be removed in a future version. This property should not be used in TensorFlow 2.0, as `updates` are applied automatically.\n",
      "  updates=self.state_updates,\n"
     ]
    }
   ],
   "source": [
    "y_pred = Classifier.predict(sc_testdf_X_np)"
   ]
  },
  {
   "cell_type": "code",
   "execution_count": 18,
   "id": "bc4d93e9",
   "metadata": {},
   "outputs": [],
   "source": [
    "y_pred = np.round(y_pred)"
   ]
  },
  {
   "cell_type": "code",
   "execution_count": 19,
   "id": "8037f5d1",
   "metadata": {},
   "outputs": [],
   "source": [
    "y_pred_1d = np.squeeze(y_pred).astype(int)"
   ]
  },
  {
   "cell_type": "code",
   "execution_count": 20,
   "id": "7c5d267a",
   "metadata": {},
   "outputs": [
    {
     "name": "stdout",
     "output_type": "stream",
     "text": [
      "Precision: 0.9674334356358564\n",
      "Recall: 0.9648934192065183\n"
     ]
    }
   ],
   "source": [
    "precision = precision_score(y_test_encoded, y_pred_1d,average='weighted')\n",
    "recall = recall_score(y_test_encoded, y_pred_1d,average='weighted')\n",
    "\n",
    "print(\"Precision:\", precision)\n",
    "print(\"Recall:\", recall)"
   ]
  },
  {
   "cell_type": "code",
   "execution_count": 21,
   "id": "11fe656c",
   "metadata": {},
   "outputs": [
    {
     "name": "stdout",
     "output_type": "stream",
     "text": [
      "Balanced Accuracy: 0.9696548706397712\n"
     ]
    }
   ],
   "source": [
    "balanced_acc = balanced_accuracy_score(y_test_encoded, y_pred_1d)\n",
    "print(\"Balanced Accuracy:\", balanced_acc)"
   ]
  },
  {
   "cell_type": "code",
   "execution_count": 22,
   "id": "222845dc",
   "metadata": {},
   "outputs": [
    {
     "name": "stdout",
     "output_type": "stream",
     "text": [
      "              precision    recall  f1-score   support\n",
      "\n",
      "           0       1.00      0.94      0.97    172373\n",
      "           1       0.92      1.00      0.96    123412\n",
      "\n",
      "    accuracy                           0.96    295785\n",
      "   macro avg       0.96      0.97      0.96    295785\n",
      "weighted avg       0.97      0.96      0.97    295785\n",
      "\n"
     ]
    }
   ],
   "source": [
    "print(classification_report(y_test_encoded, y_pred_1d))"
   ]
  },
  {
   "cell_type": "code",
   "execution_count": 23,
   "id": "5c9241a5",
   "metadata": {},
   "outputs": [
    {
     "data": {
      "image/png": "[encoded data removed]",
      "text/plain": [
       "<Figure size 800x600 with 2 Axes>"
      ]
     },
     "metadata": {},
     "output_type": "display_data"
    }
   ],
   "source": [
    "import seaborn\n",
    "import numpy as np\n",
    "import matplotlib.pyplot as plt\n",
    "import seaborn as sns\n",
    "from sklearn.metrics import confusion_matrix\n",
    "cm = confusion_matrix(y_test_encoded, y_pred_1d)\n",
    "\n",
    "# Plot the confusion matrix as a heatmap\n",
    "plt.figure(figsize=(8, 6))\n",
    "sns.heatmap(cm, annot=True, fmt='d', cmap='Blues', \n",
    "            xticklabels=['Class 0', 'Class 1'], \n",
    "            yticklabels=['Class 0', 'Class 1'])\n",
    "plt.xlabel('Predicted')\n",
    "plt.ylabel('True')\n",
    "plt.title('Confusion Matrix')\n",
    "plt.show()"
   ]
  },
  {
   "cell_type": "markdown",
   "id": "ed63462b",
   "metadata": {},
   "source": [
    "# Attack generationg\n",
    "## Generating attack packets using ART libraries\n",
    "## Testing the generated attack packets"
   ]
  },
  {
   "cell_type": "code",
   "execution_count": 333,
   "id": "9b7c437c",
   "metadata": {},
   "outputs": [],
   "source": [
    "attack_pgd = ProjectedGradientDescent(estimator=classifier,norm=np.inf, batch_size=300, verbose=False, num_random_init=1, eps=1, eps_step=0.0001, max_iter=40) #1,.0001"
   ]
  },
  {
   "cell_type": "code",
   "execution_count": 144,
   "id": "1686fe25",
   "metadata": {},
   "outputs": [],
   "source": [
    "X_test_adv =attack_pgd.generate(sc_testdf_X_np)"
   ]
  },
  {
   "cell_type": "code",
   "execution_count": 145,
   "id": "0920828f",
   "metadata": {},
   "outputs": [],
   "source": [
    "adversarial_samples = pd.DataFrame(X_test_adv, columns=[' Flow Duration', ' Bwd Packet Length Std', ' Average Packet Size', ' Flow IAT Std'])"
   ]
  },
  {
   "cell_type": "code",
   "execution_count": 146,
   "id": "7faa563d",
   "metadata": {},
   "outputs": [
    {
     "data": {
      "text/html": [
       "<div>\n",
       "<style scoped>\n",
       "    .dataframe tbody tr th:only-of-type {\n",
       "        vertical-align: middle;\n",
       "    }\n",
       "\n",
       "    .dataframe tbody tr th {\n",
       "        vertical-align: top;\n",
       "    }\n",
       "\n",
       "    .dataframe thead th {\n",
       "        text-align: right;\n",
       "    }\n",
       "</style>\n",
       "<table border=\"1\" class=\"dataframe\">\n",
       "  <thead>\n",
       "    <tr style=\"text-align: right;\">\n",
       "      <th></th>\n",
       "      <th>Flow Duration</th>\n",
       "      <th>Bwd Packet Length Std</th>\n",
       "      <th>Average Packet Size</th>\n",
       "      <th>Flow IAT Std</th>\n",
       "    </tr>\n",
       "  </thead>\n",
       "  <tbody>\n",
       "    <tr>\n",
       "      <th>count</th>\n",
       "      <td>295785.000000</td>\n",
       "      <td>295785.000000</td>\n",
       "      <td>295785.000000</td>\n",
       "      <td>295785.000000</td>\n",
       "    </tr>\n",
       "    <tr>\n",
       "      <th>mean</th>\n",
       "      <td>0.044077</td>\n",
       "      <td>0.173270</td>\n",
       "      <td>0.055605</td>\n",
       "      <td>0.009399</td>\n",
       "    </tr>\n",
       "    <tr>\n",
       "      <th>std</th>\n",
       "      <td>0.606276</td>\n",
       "      <td>0.621226</td>\n",
       "      <td>0.581051</td>\n",
       "      <td>0.578774</td>\n",
       "    </tr>\n",
       "    <tr>\n",
       "      <th>min</th>\n",
       "      <td>-1.000000</td>\n",
       "      <td>-1.000000</td>\n",
       "      <td>-1.000000</td>\n",
       "      <td>-1.000000</td>\n",
       "    </tr>\n",
       "    <tr>\n",
       "      <th>25%</th>\n",
       "      <td>-0.472877</td>\n",
       "      <td>-0.330217</td>\n",
       "      <td>-0.445708</td>\n",
       "      <td>-0.491816</td>\n",
       "    </tr>\n",
       "    <tr>\n",
       "      <th>50%</th>\n",
       "      <td>0.046300</td>\n",
       "      <td>0.176116</td>\n",
       "      <td>0.055903</td>\n",
       "      <td>0.011000</td>\n",
       "    </tr>\n",
       "    <tr>\n",
       "      <th>75%</th>\n",
       "      <td>0.548689</td>\n",
       "      <td>0.672535</td>\n",
       "      <td>0.555917</td>\n",
       "      <td>0.509412</td>\n",
       "    </tr>\n",
       "    <tr>\n",
       "      <th>max</th>\n",
       "      <td>2.000000</td>\n",
       "      <td>1.952025</td>\n",
       "      <td>1.816312</td>\n",
       "      <td>1.842016</td>\n",
       "    </tr>\n",
       "  </tbody>\n",
       "</table>\n",
       "</div>"
      ],
      "text/plain": [
       "        Flow Duration   Bwd Packet Length Std   Average Packet Size  \\\n",
       "count   295785.000000           295785.000000         295785.000000   \n",
       "mean         0.044077                0.173270              0.055605   \n",
       "std          0.606276                0.621226              0.581051   \n",
       "min         -1.000000               -1.000000             -1.000000   \n",
       "25%         -0.472877               -0.330217             -0.445708   \n",
       "50%          0.046300                0.176116              0.055903   \n",
       "75%          0.548689                0.672535              0.555917   \n",
       "max          2.000000                1.952025              1.816312   \n",
       "\n",
       "        Flow IAT Std  \n",
       "count  295785.000000  \n",
       "mean        0.009399  \n",
       "std         0.578774  \n",
       "min        -1.000000  \n",
       "25%        -0.491816  \n",
       "50%         0.011000  \n",
       "75%         0.509412  \n",
       "max         1.842016  "
      ]
     },
     "execution_count": 146,
     "metadata": {},
     "output_type": "execute_result"
    }
   ],
   "source": [
    "adversarial_samples.describe()"
   ]
  },
  {
   "cell_type": "code",
   "execution_count": 147,
   "id": "ff2d165f",
   "metadata": {},
   "outputs": [
    {
     "data": {
      "text/html": [
       "<div>\n",
       "<style scoped>\n",
       "    .dataframe tbody tr th:only-of-type {\n",
       "        vertical-align: middle;\n",
       "    }\n",
       "\n",
       "    .dataframe tbody tr th {\n",
       "        vertical-align: top;\n",
       "    }\n",
       "\n",
       "    .dataframe thead th {\n",
       "        text-align: right;\n",
       "    }\n",
       "</style>\n",
       "<table border=\"1\" class=\"dataframe\">\n",
       "  <thead>\n",
       "    <tr style=\"text-align: right;\">\n",
       "      <th></th>\n",
       "      <th>Flow Duration</th>\n",
       "      <th>Bwd Pkt Len Std</th>\n",
       "      <th>Pkt Size Avg</th>\n",
       "      <th>Flow IAT Std</th>\n",
       "    </tr>\n",
       "  </thead>\n",
       "  <tbody>\n",
       "    <tr>\n",
       "      <th>count</th>\n",
       "      <td>295785.000000</td>\n",
       "      <td>295785.000000</td>\n",
       "      <td>295785.000000</td>\n",
       "      <td>295785.000000</td>\n",
       "    </tr>\n",
       "    <tr>\n",
       "      <th>mean</th>\n",
       "      <td>0.043018</td>\n",
       "      <td>0.176420</td>\n",
       "      <td>0.052728</td>\n",
       "      <td>0.004776</td>\n",
       "    </tr>\n",
       "    <tr>\n",
       "      <th>std</th>\n",
       "      <td>0.176584</td>\n",
       "      <td>0.229302</td>\n",
       "      <td>0.059514</td>\n",
       "      <td>0.026732</td>\n",
       "    </tr>\n",
       "    <tr>\n",
       "      <th>min</th>\n",
       "      <td>0.000000</td>\n",
       "      <td>0.000000</td>\n",
       "      <td>0.000000</td>\n",
       "      <td>0.000000</td>\n",
       "    </tr>\n",
       "    <tr>\n",
       "      <th>25%</th>\n",
       "      <td>0.000011</td>\n",
       "      <td>0.000000</td>\n",
       "      <td>0.000000</td>\n",
       "      <td>0.000000</td>\n",
       "    </tr>\n",
       "    <tr>\n",
       "      <th>50%</th>\n",
       "      <td>0.000047</td>\n",
       "      <td>0.000000</td>\n",
       "      <td>0.043094</td>\n",
       "      <td>0.000001</td>\n",
       "    </tr>\n",
       "    <tr>\n",
       "      <th>75%</th>\n",
       "      <td>0.000183</td>\n",
       "      <td>0.282415</td>\n",
       "      <td>0.099967</td>\n",
       "      <td>0.000055</td>\n",
       "    </tr>\n",
       "    <tr>\n",
       "      <th>max</th>\n",
       "      <td>1.000000</td>\n",
       "      <td>1.000000</td>\n",
       "      <td>1.000000</td>\n",
       "      <td>1.000000</td>\n",
       "    </tr>\n",
       "  </tbody>\n",
       "</table>\n",
       "</div>"
      ],
      "text/plain": [
       "       Flow Duration  Bwd Pkt Len Std   Pkt Size Avg   Flow IAT Std\n",
       "count  295785.000000    295785.000000  295785.000000  295785.000000\n",
       "mean        0.043018         0.176420       0.052728       0.004776\n",
       "std         0.176584         0.229302       0.059514       0.026732\n",
       "min         0.000000         0.000000       0.000000       0.000000\n",
       "25%         0.000011         0.000000       0.000000       0.000000\n",
       "50%         0.000047         0.000000       0.043094       0.000001\n",
       "75%         0.000183         0.282415       0.099967       0.000055\n",
       "max         1.000000         1.000000       1.000000       1.000000"
      ]
     },
     "execution_count": 147,
     "metadata": {},
     "output_type": "execute_result"
    }
   ],
   "source": [
    "sc_testdf_X.describe()"
   ]
  },
  {
   "cell_type": "code",
   "execution_count": 25,
   "id": "881044ae",
   "metadata": {},
   "outputs": [],
   "source": [
    "X_test_adv = np.load('Thesis\\PGD_samples.npy')"
   ]
  },
  {
   "cell_type": "code",
   "execution_count": 27,
   "id": "965aefed",
   "metadata": {},
   "outputs": [
    {
     "data": {
      "text/plain": [
       "[5923.2950921595475, 0.5630238]"
      ]
     },
     "execution_count": 27,
     "metadata": {},
     "output_type": "execute_result"
    }
   ],
   "source": [
    "modeld_.evaluate(X_test_adv, y_test_encoded)"
   ]
  },
  {
   "cell_type": "code",
   "execution_count": 149,
   "id": "e3463733",
   "metadata": {},
   "outputs": [],
   "source": [
    "# attacker = FastGradientMethod(classifier, eps=.2)"
   ]
  },
  {
   "cell_type": "code",
   "execution_count": 150,
   "id": "b9c6e45c",
   "metadata": {},
   "outputs": [],
   "source": [
    "# x_test_adv = attacker.generate(sc_testdf_X_np)"
   ]
  },
  {
   "cell_type": "code",
   "execution_count": 151,
   "id": "78d90256",
   "metadata": {},
   "outputs": [],
   "source": [
    "# model.evaluate(x_test_adv, y_test_encoded)"
   ]
  },
  {
   "cell_type": "code",
   "execution_count": 29,
   "id": "5256ab06",
   "metadata": {},
   "outputs": [],
   "source": [
    "y_adv = Classifier.predict(X_test_adv)"
   ]
  },
  {
   "cell_type": "code",
   "execution_count": 30,
   "id": "2cf85e75",
   "metadata": {},
   "outputs": [],
   "source": [
    "y_adv = np.round(y_adv)"
   ]
  },
  {
   "cell_type": "code",
   "execution_count": 31,
   "id": "5e38fc43",
   "metadata": {},
   "outputs": [],
   "source": [
    "y_adv = np.squeeze(y_adv).astype(int)"
   ]
  },
  {
   "cell_type": "code",
   "execution_count": 32,
   "id": "be3b5eee",
   "metadata": {},
   "outputs": [
    {
     "name": "stdout",
     "output_type": "stream",
     "text": [
      "Precision: 0.4282977626053\n",
      "Recall: 0.14130716623991185\n"
     ]
    }
   ],
   "source": [
    "precision = precision_score(y_test_encoded, y_adv)\n",
    "recall = recall_score(y_test_encoded, y_adv)\n",
    "\n",
    "print(\"Precision:\", precision)\n",
    "print(\"Recall:\", recall)"
   ]
  },
  {
   "cell_type": "code",
   "execution_count": 33,
   "id": "165cdc3d",
   "metadata": {},
   "outputs": [
    {
     "name": "stdout",
     "output_type": "stream",
     "text": [
      "              precision    recall  f1-score   support\n",
      "\n",
      "           0       0.58      0.86      0.70    172373\n",
      "           1       0.43      0.14      0.21    123412\n",
      "\n",
      "    accuracy                           0.56    295785\n",
      "   macro avg       0.51      0.50      0.46    295785\n",
      "weighted avg       0.52      0.56      0.50    295785\n",
      "\n"
     ]
    }
   ],
   "source": [
    "print(classification_report(y_test_encoded, y_adv))"
   ]
  },
  {
   "cell_type": "markdown",
   "id": "4d2ed72b",
   "metadata": {},
   "source": [
    "# Adversarial training on model."
   ]
  },
  {
   "cell_type": "code",
   "execution_count": 300,
   "id": "a921b9db",
   "metadata": {},
   "outputs": [],
   "source": [
    "from art.defences.trainer import AdversarialTrainer"
   ]
  },
  {
   "cell_type": "code",
   "execution_count": 301,
   "id": "ab7c8e03",
   "metadata": {},
   "outputs": [],
   "source": [
    "trainer = AdversarialTrainer(classifier, attack_pgd, ratio=.7)"
   ]
  },
  {
   "cell_type": "code",
   "execution_count": 302,
   "id": "0e5c7160",
   "metadata": {},
   "outputs": [
    {
     "name": "stderr",
     "output_type": "stream",
     "text": [
      "Precompute adv samples: 100%|███████████████████████████████████████████████████████████| 1/1 [00:00<00:00, 199.85it/s]\n",
      "Adversarial training epochs: 100%|████████████████████████████████████████████████| 20/20 [10:13:59<00:00, 1841.97s/it]\n"
     ]
    }
   ],
   "source": [
    "trainer.fit(sc_traindf_X.values, y_train_encoded,nb_epochs=20, batch_size=700)"
   ]
  },
  {
   "cell_type": "code",
   "execution_count": null,
   "id": "653ef2f6",
   "metadata": {},
   "outputs": [],
   "source": []
  },
  {
   "cell_type": "code",
   "execution_count": null,
   "id": "c0cb9c0b",
   "metadata": {},
   "outputs": [],
   "source": []
  },
  {
   "cell_type": "code",
   "execution_count": 75,
   "id": "032b51c1",
   "metadata": {},
   "outputs": [],
   "source": [
    "# file_name = 'sc_traindf_X.npy'"
   ]
  },
  {
   "cell_type": "code",
   "execution_count": 76,
   "id": "78d405b5",
   "metadata": {},
   "outputs": [],
   "source": [
    "# np.save(file_name, sc_traindf_X.values)"
   ]
  },
  {
   "cell_type": "code",
   "execution_count": 77,
   "id": "5407ee47",
   "metadata": {},
   "outputs": [],
   "source": [
    "# file_name = 'y_train_encoded.npy'"
   ]
  },
  {
   "cell_type": "code",
   "execution_count": 78,
   "id": "abff5888",
   "metadata": {},
   "outputs": [],
   "source": [
    "# np.save(file_name, y_train_encoded)"
   ]
  },
  {
   "cell_type": "code",
   "execution_count": 250,
   "id": "b61474c1",
   "metadata": {},
   "outputs": [],
   "source": [
    "ddos_samples=sc_ddos_samples[sc_ddos_samples['Label']=='DDOS']"
   ]
  },
  {
   "cell_type": "code",
   "execution_count": 251,
   "id": "b21ee32c",
   "metadata": {},
   "outputs": [],
   "source": [
    "X_dd =ddos_samples.drop('Label', axis=1)\n",
    "y_dd = ddos_samples.loc[:, ddos_samples.columns == \"Label\"]"
   ]
  },
  {
   "cell_type": "code",
   "execution_count": 252,
   "id": "8629048e",
   "metadata": {},
   "outputs": [
    {
     "data": {
      "text/html": [
       "<div>\n",
       "<style scoped>\n",
       "    .dataframe tbody tr th:only-of-type {\n",
       "        vertical-align: middle;\n",
       "    }\n",
       "\n",
       "    .dataframe tbody tr th {\n",
       "        vertical-align: top;\n",
       "    }\n",
       "\n",
       "    .dataframe thead th {\n",
       "        text-align: right;\n",
       "    }\n",
       "</style>\n",
       "<table border=\"1\" class=\"dataframe\">\n",
       "  <thead>\n",
       "    <tr style=\"text-align: right;\">\n",
       "      <th></th>\n",
       "      <th>Flow Duration</th>\n",
       "      <th>Bwd Pkt Len Std</th>\n",
       "      <th>Pkt Size Avg</th>\n",
       "      <th>Flow IAT Std</th>\n",
       "    </tr>\n",
       "  </thead>\n",
       "  <tbody>\n",
       "    <tr>\n",
       "      <th>2</th>\n",
       "      <td>0.000114</td>\n",
       "      <td>0.455962</td>\n",
       "      <td>0.097929</td>\n",
       "      <td>0.000047</td>\n",
       "    </tr>\n",
       "    <tr>\n",
       "      <th>5</th>\n",
       "      <td>0.000014</td>\n",
       "      <td>0.000000</td>\n",
       "      <td>0.000000</td>\n",
       "      <td>0.000000</td>\n",
       "    </tr>\n",
       "    <tr>\n",
       "      <th>6</th>\n",
       "      <td>0.000070</td>\n",
       "      <td>0.455962</td>\n",
       "      <td>0.101924</td>\n",
       "      <td>0.000035</td>\n",
       "    </tr>\n",
       "    <tr>\n",
       "      <th>7</th>\n",
       "      <td>0.000009</td>\n",
       "      <td>0.000000</td>\n",
       "      <td>0.000000</td>\n",
       "      <td>0.000000</td>\n",
       "    </tr>\n",
       "    <tr>\n",
       "      <th>9</th>\n",
       "      <td>0.000026</td>\n",
       "      <td>0.000000</td>\n",
       "      <td>0.000000</td>\n",
       "      <td>0.000000</td>\n",
       "    </tr>\n",
       "    <tr>\n",
       "      <th>...</th>\n",
       "      <td>...</td>\n",
       "      <td>...</td>\n",
       "      <td>...</td>\n",
       "      <td>...</td>\n",
       "    </tr>\n",
       "    <tr>\n",
       "      <th>1643236</th>\n",
       "      <td>0.000076</td>\n",
       "      <td>0.000000</td>\n",
       "      <td>0.000000</td>\n",
       "      <td>0.000000</td>\n",
       "    </tr>\n",
       "    <tr>\n",
       "      <th>1643237</th>\n",
       "      <td>0.000083</td>\n",
       "      <td>0.000000</td>\n",
       "      <td>0.000000</td>\n",
       "      <td>0.000000</td>\n",
       "    </tr>\n",
       "    <tr>\n",
       "      <th>1643238</th>\n",
       "      <td>0.000224</td>\n",
       "      <td>0.000000</td>\n",
       "      <td>0.000000</td>\n",
       "      <td>0.000000</td>\n",
       "    </tr>\n",
       "    <tr>\n",
       "      <th>1643240</th>\n",
       "      <td>0.000018</td>\n",
       "      <td>0.000000</td>\n",
       "      <td>0.000000</td>\n",
       "      <td>0.000000</td>\n",
       "    </tr>\n",
       "    <tr>\n",
       "      <th>1643243</th>\n",
       "      <td>0.000249</td>\n",
       "      <td>0.000000</td>\n",
       "      <td>0.000000</td>\n",
       "      <td>0.000000</td>\n",
       "    </tr>\n",
       "  </tbody>\n",
       "</table>\n",
       "<p>686012 rows × 4 columns</p>\n",
       "</div>"
      ],
      "text/plain": [
       "         Flow Duration  Bwd Pkt Len Std  Pkt Size Avg  Flow IAT Std\n",
       "2             0.000114         0.455962      0.097929      0.000047\n",
       "5             0.000014         0.000000      0.000000      0.000000\n",
       "6             0.000070         0.455962      0.101924      0.000035\n",
       "7             0.000009         0.000000      0.000000      0.000000\n",
       "9             0.000026         0.000000      0.000000      0.000000\n",
       "...                ...              ...           ...           ...\n",
       "1643236       0.000076         0.000000      0.000000      0.000000\n",
       "1643237       0.000083         0.000000      0.000000      0.000000\n",
       "1643238       0.000224         0.000000      0.000000      0.000000\n",
       "1643240       0.000018         0.000000      0.000000      0.000000\n",
       "1643243       0.000249         0.000000      0.000000      0.000000\n",
       "\n",
       "[686012 rows x 4 columns]"
      ]
     },
     "execution_count": 252,
     "metadata": {},
     "output_type": "execute_result"
    }
   ],
   "source": [
    "X_dd"
   ]
  },
  {
   "cell_type": "code",
   "execution_count": 238,
   "id": "e26ee4e4",
   "metadata": {},
   "outputs": [],
   "source": [
    "cols_ddos_samples=X_dd.select_dtypes(include=['float64','int64']).columns\n",
    "sc_ddos_samples=scaler.fit_transform(ddos_samples.select_dtypes(include=['float64','int64']))\n",
    "sc_ddos_samples=pd.DataFrame(sc_ddos_samples, columns = cols_ddos_samples)"
   ]
  },
  {
   "cell_type": "code",
   "execution_count": 244,
   "id": "1670af4e",
   "metadata": {},
   "outputs": [
    {
     "data": {
      "text/html": [
       "<div>\n",
       "<style scoped>\n",
       "    .dataframe tbody tr th:only-of-type {\n",
       "        vertical-align: middle;\n",
       "    }\n",
       "\n",
       "    .dataframe tbody tr th {\n",
       "        vertical-align: top;\n",
       "    }\n",
       "\n",
       "    .dataframe thead th {\n",
       "        text-align: right;\n",
       "    }\n",
       "</style>\n",
       "<table border=\"1\" class=\"dataframe\">\n",
       "  <thead>\n",
       "    <tr style=\"text-align: right;\">\n",
       "      <th></th>\n",
       "      <th>Flow Duration</th>\n",
       "      <th>Bwd Pkt Len Std</th>\n",
       "      <th>Pkt Size Avg</th>\n",
       "      <th>Flow IAT Std</th>\n",
       "      <th>Label</th>\n",
       "    </tr>\n",
       "  </thead>\n",
       "  <tbody>\n",
       "    <tr>\n",
       "      <th>0</th>\n",
       "      <td>0.021554</td>\n",
       "      <td>0.389056</td>\n",
       "      <td>0.101464</td>\n",
       "      <td>0.002876</td>\n",
       "      <td>Benign</td>\n",
       "    </tr>\n",
       "    <tr>\n",
       "      <th>1</th>\n",
       "      <td>0.000010</td>\n",
       "      <td>0.235172</td>\n",
       "      <td>0.104044</td>\n",
       "      <td>0.000003</td>\n",
       "      <td>Benign</td>\n",
       "    </tr>\n",
       "    <tr>\n",
       "      <th>2</th>\n",
       "      <td>0.000114</td>\n",
       "      <td>0.455962</td>\n",
       "      <td>0.097929</td>\n",
       "      <td>0.000047</td>\n",
       "      <td>DDOS</td>\n",
       "    </tr>\n",
       "    <tr>\n",
       "      <th>3</th>\n",
       "      <td>0.000007</td>\n",
       "      <td>0.237978</td>\n",
       "      <td>0.052919</td>\n",
       "      <td>0.000001</td>\n",
       "      <td>Benign</td>\n",
       "    </tr>\n",
       "    <tr>\n",
       "      <th>4</th>\n",
       "      <td>0.000053</td>\n",
       "      <td>0.217931</td>\n",
       "      <td>0.102006</td>\n",
       "      <td>0.000025</td>\n",
       "      <td>Benign</td>\n",
       "    </tr>\n",
       "    <tr>\n",
       "      <th>...</th>\n",
       "      <td>...</td>\n",
       "      <td>...</td>\n",
       "      <td>...</td>\n",
       "      <td>...</td>\n",
       "      <td>...</td>\n",
       "    </tr>\n",
       "    <tr>\n",
       "      <th>1643239</th>\n",
       "      <td>0.000008</td>\n",
       "      <td>0.000000</td>\n",
       "      <td>0.044806</td>\n",
       "      <td>0.000000</td>\n",
       "      <td>Benign</td>\n",
       "    </tr>\n",
       "    <tr>\n",
       "      <th>1643240</th>\n",
       "      <td>0.000018</td>\n",
       "      <td>0.000000</td>\n",
       "      <td>0.000000</td>\n",
       "      <td>0.000000</td>\n",
       "      <td>DDOS</td>\n",
       "    </tr>\n",
       "    <tr>\n",
       "      <th>1643241</th>\n",
       "      <td>0.000011</td>\n",
       "      <td>0.216552</td>\n",
       "      <td>0.101843</td>\n",
       "      <td>0.000003</td>\n",
       "      <td>Benign</td>\n",
       "    </tr>\n",
       "    <tr>\n",
       "      <th>1643242</th>\n",
       "      <td>0.000003</td>\n",
       "      <td>0.000000</td>\n",
       "      <td>0.076769</td>\n",
       "      <td>0.000000</td>\n",
       "      <td>Benign</td>\n",
       "    </tr>\n",
       "    <tr>\n",
       "      <th>1643243</th>\n",
       "      <td>0.000249</td>\n",
       "      <td>0.000000</td>\n",
       "      <td>0.000000</td>\n",
       "      <td>0.000000</td>\n",
       "      <td>DDOS</td>\n",
       "    </tr>\n",
       "  </tbody>\n",
       "</table>\n",
       "<p>1643244 rows × 5 columns</p>\n",
       "</div>"
      ],
      "text/plain": [
       "         Flow Duration  Bwd Pkt Len Std  Pkt Size Avg  Flow IAT Std   Label\n",
       "0             0.021554         0.389056      0.101464      0.002876  Benign\n",
       "1             0.000010         0.235172      0.104044      0.000003  Benign\n",
       "2             0.000114         0.455962      0.097929      0.000047    DDOS\n",
       "3             0.000007         0.237978      0.052919      0.000001  Benign\n",
       "4             0.000053         0.217931      0.102006      0.000025  Benign\n",
       "...                ...              ...           ...           ...     ...\n",
       "1643239       0.000008         0.000000      0.044806      0.000000  Benign\n",
       "1643240       0.000018         0.000000      0.000000      0.000000    DDOS\n",
       "1643241       0.000011         0.216552      0.101843      0.000003  Benign\n",
       "1643242       0.000003         0.000000      0.076769      0.000000  Benign\n",
       "1643243       0.000249         0.000000      0.000000      0.000000    DDOS\n",
       "\n",
       "[1643244 rows x 5 columns]"
      ]
     },
     "execution_count": 244,
     "metadata": {},
     "output_type": "execute_result"
    }
   ],
   "source": [
    "sc_ddos_samples"
   ]
  },
  {
   "cell_type": "code",
   "execution_count": 243,
   "id": "759c2e1f",
   "metadata": {},
   "outputs": [],
   "source": [
    "sc_ddos_samples['Label']=y_dd"
   ]
  },
  {
   "cell_type": "code",
   "execution_count": 260,
   "id": "bceaddab",
   "metadata": {},
   "outputs": [
    {
     "name": "stdout",
     "output_type": "stream",
     "text": [
      "[1 1 1 ... 1 1 1]\n"
     ]
    }
   ],
   "source": [
    "def generate_array_with_n_ones(n):\n",
    "    # Create an array of ones\n",
    "    arr = np.ones(n, dtype=int)\n",
    "    return arr\n",
    "\n",
    "# Example usage\n",
    "array_size =100000      # Size of the array (number of 1s)\n",
    "result_array = generate_array_with_n_ones(array_size)\n",
    "print(result_array) "
   ]
  },
  {
   "cell_type": "markdown",
   "id": "97c306af",
   "metadata": {},
   "source": [
    "# Training and Generating adversarial samples using GAN!!"
   ]
  },
  {
   "cell_type": "code",
   "execution_count": 342,
   "id": "d6f12277",
   "metadata": {},
   "outputs": [
    {
     "name": "stderr",
     "output_type": "stream",
     "text": [
      "C:\\Users\\Aswin\\anaconda3\\envs\\tf\\lib\\site-packages\\keras\\engine\\training_v1.py:2356: UserWarning: `Model.state_updates` will be removed in a future version. This property should not be used in TensorFlow 2.0, as `updates` are applied automatically.\n",
      "  updates=self.state_updates,\n"
     ]
    },
    {
     "name": "stdout",
     "output_type": "stream",
     "text": [
      "Epoch 0, D Loss Real: -1.2414367198944092, D Loss Fake: -12.763758659362793, G Loss: 41.12755584716797\n",
      "Epoch 1, D Loss Real: -88.32161712646484, D Loss Fake: -358.0046081542969, G Loss: 552.6759643554688\n",
      "Epoch 2, D Loss Real: -905.5685424804688, D Loss Fake: -2266.280029296875, G Loss: 2381.578857421875\n",
      "Epoch 3, D Loss Real: -2655.91845703125, D Loss Fake: -4818.37548828125, G Loss: 5728.94189453125\n",
      "Epoch 4, D Loss Real: -5180.43701171875, D Loss Fake: -9169.291015625, G Loss: 10912.900390625\n",
      "Epoch 5, D Loss Real: -8375.39453125, D Loss Fake: -11578.71875, G Loss: 16339.7587890625\n",
      "Epoch 6, D Loss Real: -12381.400390625, D Loss Fake: -17574.009765625, G Loss: 24184.78515625\n",
      "Epoch 7, D Loss Real: -17026.025390625, D Loss Fake: -28991.40625, G Loss: 31586.345703125\n",
      "Epoch 8, D Loss Real: -21473.966796875, D Loss Fake: -37016.90625, G Loss: 38540.578125\n",
      "Epoch 9, D Loss Real: -26687.443359375, D Loss Fake: -50865.13671875, G Loss: 53556.375\n",
      "Epoch 10, D Loss Real: -33935.81640625, D Loss Fake: -86623.0703125, G Loss: 73129.6171875\n",
      "Epoch 11, D Loss Real: -41729.45703125, D Loss Fake: -84757.7890625, G Loss: 82700.0\n",
      "Epoch 12, D Loss Real: -51179.23046875, D Loss Fake: -95024.25, G Loss: 97702.6640625\n",
      "Epoch 13, D Loss Real: -60272.73046875, D Loss Fake: -118801.1015625, G Loss: 116864.0\n",
      "Epoch 14, D Loss Real: -69285.9609375, D Loss Fake: -131371.0625, G Loss: 142832.40625\n",
      "Epoch 15, D Loss Real: -81346.0, D Loss Fake: -196660.609375, G Loss: 168025.171875\n",
      "Epoch 16, D Loss Real: -96705.6875, D Loss Fake: -254794.40625, G Loss: 195228.125\n",
      "Epoch 17, D Loss Real: -111317.78125, D Loss Fake: -296493.625, G Loss: 231519.8125\n",
      "Epoch 18, D Loss Real: -126668.265625, D Loss Fake: -320942.15625, G Loss: 302098.71875\n",
      "Epoch 19, D Loss Real: -141693.578125, D Loss Fake: -382870.25, G Loss: 365187.75\n",
      "Epoch 20, D Loss Real: -157705.9375, D Loss Fake: -405934.625, G Loss: 418124.65625\n",
      "Epoch 21, D Loss Real: -173755.625, D Loss Fake: -441516.40625, G Loss: 441946.96875\n",
      "Epoch 22, D Loss Real: -186191.09375, D Loss Fake: -413998.21875, G Loss: 475525.25\n",
      "Epoch 23, D Loss Real: -199403.0625, D Loss Fake: -458874.84375, G Loss: 487108.75\n",
      "Epoch 24, D Loss Real: -209558.640625, D Loss Fake: -487994.3125, G Loss: 494555.25\n",
      "Epoch 25, D Loss Real: -222324.84375, D Loss Fake: -530642.875, G Loss: 571730.8125\n",
      "Epoch 26, D Loss Real: -238167.59375, D Loss Fake: -722573.125, G Loss: 629379.6875\n",
      "Epoch 27, D Loss Real: -248543.625, D Loss Fake: -705148.8125, G Loss: 751233.1875\n",
      "Epoch 28, D Loss Real: -261617.28125, D Loss Fake: -714304.5, G Loss: 790994.6875\n",
      "Epoch 29, D Loss Real: -273050.875, D Loss Fake: -661421.1875, G Loss: 832558.9375\n",
      "Epoch 30, D Loss Real: -285279.71875, D Loss Fake: -699286.8125, G Loss: 868048.5\n",
      "Epoch 31, D Loss Real: -301032.375, D Loss Fake: -675899.5, G Loss: 949405.75\n",
      "Epoch 32, D Loss Real: -314262.375, D Loss Fake: -678574.875, G Loss: 1003877.0\n",
      "Epoch 33, D Loss Real: -325711.3125, D Loss Fake: -632051.9375, G Loss: 1099817.625\n",
      "Epoch 34, D Loss Real: -337483.90625, D Loss Fake: -638249.3125, G Loss: 1102744.125\n",
      "Epoch 35, D Loss Real: -346286.96875, D Loss Fake: -709192.3125, G Loss: 1167323.125\n",
      "Epoch 36, D Loss Real: -353093.15625, D Loss Fake: -784964.625, G Loss: 1273194.5\n",
      "Epoch 37, D Loss Real: -359978.53125, D Loss Fake: -808004.4375, G Loss: 1315335.875\n",
      "Epoch 38, D Loss Real: -369654.5625, D Loss Fake: -923316.125, G Loss: 1469295.625\n",
      "Epoch 39, D Loss Real: -379200.09375, D Loss Fake: -877164.375, G Loss: 1471288.75\n",
      "Epoch 40, D Loss Real: -390736.9375, D Loss Fake: -967918.3125, G Loss: 1487688.25\n",
      "Epoch 41, D Loss Real: -400115.5625, D Loss Fake: -1383508.25, G Loss: 1454836.125\n",
      "Epoch 42, D Loss Real: -409526.5625, D Loss Fake: -1436643.75, G Loss: 1436820.75\n",
      "Epoch 43, D Loss Real: -418833.46875, D Loss Fake: -1405240.25, G Loss: 1384873.5\n",
      "Epoch 44, D Loss Real: -429777.15625, D Loss Fake: -1365453.125, G Loss: 1334999.625\n",
      "Epoch 45, D Loss Real: -440649.0, D Loss Fake: -1315236.625, G Loss: 1286884.875\n",
      "Epoch 46, D Loss Real: -452138.46875, D Loss Fake: -1265227.625, G Loss: 1248641.0\n",
      "Epoch 47, D Loss Real: -465358.09375, D Loss Fake: -1216125.625, G Loss: 1202712.375\n",
      "Epoch 48, D Loss Real: -478710.5625, D Loss Fake: -1168607.625, G Loss: 1158205.375\n",
      "Epoch 49, D Loss Real: -492311.125, D Loss Fake: -1122378.125, G Loss: 1114785.625\n",
      "Epoch 50, D Loss Real: -507343.03125, D Loss Fake: -1077226.25, G Loss: 1072480.375\n",
      "Epoch 51, D Loss Real: -521716.3125, D Loss Fake: -1032595.5625, G Loss: 1030705.75\n",
      "Epoch 52, D Loss Real: -534861.5625, D Loss Fake: -988318.3125, G Loss: 1006488.4375\n",
      "Epoch 53, D Loss Real: -548109.25, D Loss Fake: -944418.0, G Loss: 965635.875\n",
      "Epoch 54, D Loss Real: -561604.1875, D Loss Fake: -900723.1875, G Loss: 924738.125\n",
      "Epoch 55, D Loss Real: -573582.8125, D Loss Fake: -857472.3125, G Loss: 885979.3125\n",
      "Epoch 56, D Loss Real: -586186.0, D Loss Fake: -816163.25, G Loss: 847540.25\n",
      "Epoch 57, D Loss Real: -595126.5, D Loss Fake: -775939.75, G Loss: 807042.375\n",
      "Epoch 58, D Loss Real: -603848.5625, D Loss Fake: -735186.375, G Loss: 768111.375\n",
      "Epoch 59, D Loss Real: -611549.375, D Loss Fake: -695255.0, G Loss: 729290.0\n",
      "Epoch 60, D Loss Real: -617458.375, D Loss Fake: -657071.5625, G Loss: 693025.6875\n",
      "Epoch 61, D Loss Real: -622462.3125, D Loss Fake: -621970.625, G Loss: 658683.5\n",
      "Epoch 62, D Loss Real: -625911.3125, D Loss Fake: -590046.625, G Loss: 627338.25\n",
      "Epoch 63, D Loss Real: -627942.375, D Loss Fake: -560873.6875, G Loss: 601404.875\n",
      "Epoch 64, D Loss Real: -628975.125, D Loss Fake: -536073.875, G Loss: 578845.9375\n",
      "Epoch 65, D Loss Real: -628456.875, D Loss Fake: -515493.28125, G Loss: 559599.75\n",
      "Epoch 66, D Loss Real: -627189.125, D Loss Fake: -499387.375, G Loss: 544807.6875\n",
      "Epoch 67, D Loss Real: -626553.25, D Loss Fake: -484775.25, G Loss: 531636.125\n",
      "Epoch 68, D Loss Real: -627413.75, D Loss Fake: -471447.5, G Loss: 519029.625\n",
      "Epoch 69, D Loss Real: -633089.0, D Loss Fake: -457751.9375, G Loss: 506476.125\n",
      "Epoch 70, D Loss Real: -642029.25, D Loss Fake: -444542.28125, G Loss: 494431.0\n",
      "Epoch 71, D Loss Real: -655812.875, D Loss Fake: -430171.96875, G Loss: 481427.125\n",
      "Epoch 72, D Loss Real: -676272.0, D Loss Fake: -415590.78125, G Loss: 466689.09375\n",
      "Epoch 73, D Loss Real: -696134.9375, D Loss Fake: -399134.65625, G Loss: 451697.375\n",
      "Epoch 74, D Loss Real: -722414.5, D Loss Fake: -372527.1875, G Loss: 430477.5625\n",
      "Epoch 75, D Loss Real: -750134.25, D Loss Fake: -341746.5, G Loss: 404487.875\n",
      "Epoch 76, D Loss Real: -775901.3125, D Loss Fake: -305525.875, G Loss: 370841.5625\n",
      "Epoch 77, D Loss Real: -803237.375, D Loss Fake: -268174.0, G Loss: 338429.65625\n",
      "Epoch 78, D Loss Real: -828720.5625, D Loss Fake: -231096.890625, G Loss: 303700.90625\n",
      "Epoch 79, D Loss Real: -849288.375, D Loss Fake: -194476.90625, G Loss: 269333.15625\n",
      "Epoch 80, D Loss Real: -868559.125, D Loss Fake: -159108.4375, G Loss: 236208.265625\n",
      "Epoch 81, D Loss Real: -885404.375, D Loss Fake: -125647.265625, G Loss: 204482.03125\n",
      "Epoch 82, D Loss Real: -897917.8125, D Loss Fake: -93585.328125, G Loss: 173674.453125\n",
      "Epoch 83, D Loss Real: -909880.3125, D Loss Fake: -63576.71875, G Loss: 145690.53125\n",
      "Epoch 84, D Loss Real: -919743.5, D Loss Fake: -35428.8046875, G Loss: 119356.0234375\n",
      "Epoch 85, D Loss Real: -930018.4375, D Loss Fake: -11817.4814453125, G Loss: 94719.7578125\n",
      "Epoch 86, D Loss Real: -939856.9375, D Loss Fake: 12449.63671875, G Loss: 72804.921875\n",
      "Epoch 87, D Loss Real: -947741.0625, D Loss Fake: 34819.875, G Loss: 52067.5390625\n",
      "Epoch 88, D Loss Real: -955610.6875, D Loss Fake: 8058.455078125, G Loss: 32633.84765625\n",
      "Epoch 89, D Loss Real: -962559.9375, D Loss Fake: -36396.87890625, G Loss: 14842.306640625\n",
      "Epoch 90, D Loss Real: -968814.4375, D Loss Fake: -59156.74609375, G Loss: -1461.60302734375\n",
      "Epoch 91, D Loss Real: -974427.5, D Loss Fake: -41159.04296875, G Loss: -16448.025390625\n",
      "Epoch 92, D Loss Real: -979913.4375, D Loss Fake: -49917.25390625, G Loss: -30314.3984375\n",
      "Epoch 93, D Loss Real: -984890.625, D Loss Fake: -34077.62890625, G Loss: -43740.265625\n",
      "Epoch 94, D Loss Real: -990544.1875, D Loss Fake: -18597.412109375, G Loss: -57028.13671875\n",
      "Epoch 95, D Loss Real: -997236.1875, D Loss Fake: -3488.145751953125, G Loss: -70119.4453125\n",
      "Epoch 96, D Loss Real: -1003331.5625, D Loss Fake: 11454.474609375, G Loss: -82982.453125\n",
      "Epoch 97, D Loss Real: -1012188.5625, D Loss Fake: 26397.77734375, G Loss: -95840.2421875\n",
      "Epoch 98, D Loss Real: -1020889.625, D Loss Fake: 41373.53515625, G Loss: -108754.8984375\n"
     ]
    },
    {
     "name": "stdout",
     "output_type": "stream",
     "text": [
      "Epoch 99, D Loss Real: -1028896.1875, D Loss Fake: 56484.5, G Loss: -121731.828125\n",
      "Epoch 100, D Loss Real: -1042172.9375, D Loss Fake: 71751.7734375, G Loss: -134936.59375\n",
      "Epoch 101, D Loss Real: -1053811.75, D Loss Fake: 86984.546875, G Loss: -148147.515625\n",
      "Epoch 102, D Loss Real: -1071877.5, D Loss Fake: 102487.671875, G Loss: -161643.4375\n",
      "Epoch 103, D Loss Real: -1086900.375, D Loss Fake: 118181.546875, G Loss: -175503.484375\n",
      "Epoch 104, D Loss Real: -1102732.0, D Loss Fake: 134109.96875, G Loss: -189464.875\n",
      "Epoch 105, D Loss Real: -1119102.0, D Loss Fake: 150099.71875, G Loss: -203829.65625\n",
      "Epoch 106, D Loss Real: -1137234.125, D Loss Fake: 167359.078125, G Loss: -218600.96875\n",
      "Epoch 107, D Loss Real: -1156908.75, D Loss Fake: 190061.4375, G Loss: -235697.203125\n",
      "Epoch 108, D Loss Real: -1181565.875, D Loss Fake: 147722.40625, G Loss: -263383.375\n",
      "Epoch 109, D Loss Real: -1202348.75, D Loss Fake: 74757.0625, G Loss: -288993.75\n",
      "Epoch 110, D Loss Real: -1219280.75, D Loss Fake: -14501.103515625, G Loss: -318009.5625\n",
      "Epoch 111, D Loss Real: -1239117.25, D Loss Fake: 34982.55078125, G Loss: -351541.65625\n",
      "Epoch 112, D Loss Real: -1250127.125, D Loss Fake: -217153.578125, G Loss: -276612.34375\n",
      "Epoch 113, D Loss Real: -1259032.125, D Loss Fake: -611984.8125, G Loss: -289260.46875\n",
      "Epoch 114, D Loss Real: -1264502.375, D Loss Fake: -559846.3125, G Loss: -312677.34375\n",
      "Epoch 115, D Loss Real: -1269527.75, D Loss Fake: -521673.96875, G Loss: -333388.6875\n",
      "Epoch 116, D Loss Real: -1271596.75, D Loss Fake: -484475.34375, G Loss: -350768.65625\n",
      "Epoch 117, D Loss Real: -1275403.5, D Loss Fake: -458543.84375, G Loss: -369138.40625\n",
      "Epoch 118, D Loss Real: -1275991.75, D Loss Fake: -436177.3125, G Loss: -385083.40625\n",
      "Epoch 119, D Loss Real: -1272774.625, D Loss Fake: -414683.0625, G Loss: -397735.8125\n",
      "Epoch 120, D Loss Real: -1268386.375, D Loss Fake: -396970.0625, G Loss: -406927.65625\n",
      "Epoch 121, D Loss Real: -1265358.0, D Loss Fake: -382009.96875, G Loss: -411310.71875\n",
      "Epoch 122, D Loss Real: -1259570.75, D Loss Fake: -369622.59375, G Loss: -413762.125\n",
      "Epoch 123, D Loss Real: -1253398.625, D Loss Fake: -368932.125, G Loss: -408720.65625\n",
      "Epoch 124, D Loss Real: -1243555.5, D Loss Fake: -386512.625, G Loss: -356562.59375\n",
      "Epoch 125, D Loss Real: -1225792.125, D Loss Fake: -446178.4375, G Loss: -260813.234375\n",
      "Epoch 126, D Loss Real: -1201843.375, D Loss Fake: -488288.5, G Loss: -180793.109375\n",
      "Epoch 127, D Loss Real: -1181645.75, D Loss Fake: -525638.75, G Loss: -22980.25\n",
      "Epoch 128, D Loss Real: -1154450.125, D Loss Fake: -564933.9375, G Loss: 43664.73046875\n",
      "Epoch 129, D Loss Real: -1124672.875, D Loss Fake: -606845.9375, G Loss: 115191.078125\n",
      "Epoch 130, D Loss Real: -1089503.75, D Loss Fake: -633380.0625, G Loss: 167319.765625\n",
      "Epoch 131, D Loss Real: -1067501.5, D Loss Fake: -657532.5625, G Loss: 193963.640625\n",
      "Epoch 132, D Loss Real: -1046401.4375, D Loss Fake: -651896.875, G Loss: 204521.6875\n",
      "Epoch 133, D Loss Real: -1023300.3125, D Loss Fake: -656214.375, G Loss: 216529.703125\n",
      "Epoch 134, D Loss Real: -1005950.25, D Loss Fake: -649870.75, G Loss: 220026.078125\n",
      "Epoch 135, D Loss Real: -994094.375, D Loss Fake: -645269.875, G Loss: 216495.125\n",
      "Epoch 136, D Loss Real: -982268.75, D Loss Fake: -636938.9375, G Loss: 212775.1875\n",
      "Epoch 137, D Loss Real: -976042.1875, D Loss Fake: -628388.75, G Loss: 205201.359375\n",
      "Epoch 138, D Loss Real: -969280.6875, D Loss Fake: -615159.625, G Loss: 198233.03125\n",
      "Epoch 139, D Loss Real: -963741.6875, D Loss Fake: -603446.875, G Loss: 190135.34375\n",
      "Epoch 140, D Loss Real: -957829.4375, D Loss Fake: -593604.0, G Loss: 186490.390625\n",
      "Epoch 141, D Loss Real: -952362.25, D Loss Fake: -586117.5, G Loss: 180884.203125\n",
      "Epoch 142, D Loss Real: -946823.625, D Loss Fake: -575489.8125, G Loss: 176115.515625\n",
      "Epoch 143, D Loss Real: -941552.0, D Loss Fake: -569037.25, G Loss: 169733.921875\n",
      "Epoch 144, D Loss Real: -936333.875, D Loss Fake: -562071.4375, G Loss: 164825.96875\n",
      "Epoch 145, D Loss Real: -931193.4375, D Loss Fake: -553711.0, G Loss: 159799.796875\n",
      "Epoch 146, D Loss Real: -926184.0625, D Loss Fake: -547210.4375, G Loss: 155044.5625\n",
      "Epoch 147, D Loss Real: -921126.5, D Loss Fake: -539694.25, G Loss: 150851.6875\n",
      "Epoch 148, D Loss Real: -916150.0, D Loss Fake: -532723.3125, G Loss: 146637.203125\n",
      "Epoch 149, D Loss Real: -911392.4375, D Loss Fake: -526130.25, G Loss: 142843.484375\n",
      "Epoch 150, D Loss Real: -906627.375, D Loss Fake: -519292.8125, G Loss: 139109.515625\n",
      "Epoch 151, D Loss Real: -901939.875, D Loss Fake: -512379.78125, G Loss: 135695.3125\n",
      "Epoch 152, D Loss Real: -897276.25, D Loss Fake: -506727.59375, G Loss: 132602.796875\n",
      "Epoch 153, D Loss Real: -892734.0, D Loss Fake: -501165.25, G Loss: 129716.234375\n",
      "Epoch 154, D Loss Real: -888268.875, D Loss Fake: -495775.90625, G Loss: 127265.9453125\n",
      "Epoch 155, D Loss Real: -883906.25, D Loss Fake: -490470.65625, G Loss: 124726.3828125\n",
      "Epoch 156, D Loss Real: -879479.9375, D Loss Fake: -485483.5625, G Loss: 122537.5\n",
      "Epoch 157, D Loss Real: -875064.9375, D Loss Fake: -480606.4375, G Loss: 120319.8984375\n",
      "Epoch 158, D Loss Real: -870582.3125, D Loss Fake: -476011.46875, G Loss: 118294.7890625\n",
      "Epoch 159, D Loss Real: -866420.0, D Loss Fake: -471352.3125, G Loss: 116072.5\n",
      "Epoch 160, D Loss Real: -862307.0, D Loss Fake: -466889.53125, G Loss: 114096.046875\n",
      "Epoch 161, D Loss Real: -858527.8125, D Loss Fake: -462243.0625, G Loss: 111921.8515625\n",
      "Epoch 162, D Loss Real: -854708.9375, D Loss Fake: -457904.25, G Loss: 111298.3671875\n",
      "Epoch 163, D Loss Real: -849881.375, D Loss Fake: -457241.28125, G Loss: 114146.4609375\n",
      "Epoch 164, D Loss Real: -842843.375, D Loss Fake: -458652.46875, G Loss: 126711.9375\n",
      "Epoch 165, D Loss Real: -836504.125, D Loss Fake: -459434.5625, G Loss: 139101.875\n",
      "Epoch 166, D Loss Real: -831325.3125, D Loss Fake: -456775.625, G Loss: 152058.875\n",
      "Epoch 167, D Loss Real: -827522.1875, D Loss Fake: -456785.8125, G Loss: 165638.78125\n",
      "Epoch 168, D Loss Real: -824519.75, D Loss Fake: -458666.6875, G Loss: 174776.90625\n",
      "Epoch 169, D Loss Real: -821524.5, D Loss Fake: -455581.59375, G Loss: 172992.78125\n",
      "Epoch 170, D Loss Real: -818406.75, D Loss Fake: -450900.6875, G Loss: 169924.4375\n",
      "Epoch 171, D Loss Real: -815440.75, D Loss Fake: -446053.96875, G Loss: 166910.953125\n",
      "Epoch 172, D Loss Real: -812767.25, D Loss Fake: -441089.28125, G Loss: 163737.015625\n",
      "Epoch 173, D Loss Real: -810052.3125, D Loss Fake: -436219.6875, G Loss: 161224.921875\n",
      "Epoch 174, D Loss Real: -807530.25, D Loss Fake: -431438.34375, G Loss: 158170.28125\n",
      "Epoch 175, D Loss Real: -804904.5625, D Loss Fake: -426680.09375, G Loss: 155165.234375\n",
      "Epoch 176, D Loss Real: -802463.625, D Loss Fake: -421971.65625, G Loss: 152206.6875\n",
      "Epoch 177, D Loss Real: -800116.5625, D Loss Fake: -417997.09375, G Loss: 149360.296875\n",
      "Epoch 178, D Loss Real: -797769.0, D Loss Fake: -413453.71875, G Loss: 146513.703125\n",
      "Epoch 179, D Loss Real: -795494.5, D Loss Fake: -408960.5625, G Loss: 143679.9375\n",
      "Epoch 180, D Loss Real: -793363.0, D Loss Fake: -404501.46875, G Loss: 140870.703125\n",
      "Epoch 181, D Loss Real: -791544.9375, D Loss Fake: -400042.59375, G Loss: 138036.828125\n",
      "Epoch 182, D Loss Real: -789670.375, D Loss Fake: -395549.0625, G Loss: 135190.734375\n",
      "Epoch 183, D Loss Real: -788100.0625, D Loss Fake: -391083.34375, G Loss: 132312.640625\n",
      "Epoch 184, D Loss Real: -786663.375, D Loss Fake: -386505.6875, G Loss: 129388.8671875\n",
      "Epoch 185, D Loss Real: -785088.0625, D Loss Fake: -382023.625, G Loss: 126447.6015625\n",
      "Epoch 186, D Loss Real: -783856.875, D Loss Fake: -377497.03125, G Loss: 123454.7265625\n",
      "Epoch 187, D Loss Real: -782885.6875, D Loss Fake: -372929.0625, G Loss: 120364.1796875\n",
      "Epoch 188, D Loss Real: -782178.125, D Loss Fake: -368232.21875, G Loss: 117291.7421875\n",
      "Epoch 189, D Loss Real: -781590.5625, D Loss Fake: -363508.96875, G Loss: 114052.8515625\n",
      "Epoch 190, D Loss Real: -781274.3125, D Loss Fake: -358865.9375, G Loss: 110906.9453125\n",
      "Epoch 191, D Loss Real: -782231.3125, D Loss Fake: -353609.59375, G Loss: 107589.5078125\n",
      "Epoch 192, D Loss Real: -782942.6875, D Loss Fake: -348571.28125, G Loss: 104094.515625\n",
      "Epoch 193, D Loss Real: -784004.625, D Loss Fake: -343351.84375, G Loss: 99976.65625\n",
      "Epoch 194, D Loss Real: -785020.6875, D Loss Fake: -337891.4375, G Loss: 94922.296875\n"
     ]
    },
    {
     "name": "stdout",
     "output_type": "stream",
     "text": [
      "Epoch 195, D Loss Real: -786975.6875, D Loss Fake: -330108.28125, G Loss: 89407.234375\n",
      "Epoch 196, D Loss Real: -787172.5625, D Loss Fake: -322803.21875, G Loss: 83285.6640625\n",
      "Epoch 197, D Loss Real: -788357.0625, D Loss Fake: -312282.875, G Loss: 77124.3203125\n",
      "Epoch 198, D Loss Real: -789971.4375, D Loss Fake: -304973.46875, G Loss: 70872.0234375\n",
      "Epoch 199, D Loss Real: -789955.8125, D Loss Fake: -296878.90625, G Loss: 64519.3984375\n",
      "Epoch 200, D Loss Real: -790481.6875, D Loss Fake: -286627.53125, G Loss: 59404.66796875\n",
      "Epoch 201, D Loss Real: -790832.0, D Loss Fake: -280309.375, G Loss: 53528.98046875\n",
      "Epoch 202, D Loss Real: -790496.5625, D Loss Fake: -272764.40625, G Loss: 48573.26953125\n",
      "Epoch 203, D Loss Real: -789526.5, D Loss Fake: -265085.4375, G Loss: 43724.4609375\n",
      "Epoch 204, D Loss Real: -788295.625, D Loss Fake: -259364.921875, G Loss: 39256.19140625\n",
      "Epoch 205, D Loss Real: -787216.125, D Loss Fake: -254126.40625, G Loss: 35019.4375\n",
      "Epoch 206, D Loss Real: -785580.6875, D Loss Fake: -248774.1875, G Loss: 31406.818359375\n",
      "Epoch 207, D Loss Real: -783901.5625, D Loss Fake: -243611.65625, G Loss: 28286.798828125\n",
      "Epoch 208, D Loss Real: -781969.375, D Loss Fake: -239419.09375, G Loss: 25388.458984375\n",
      "Epoch 209, D Loss Real: -779948.4375, D Loss Fake: -235824.609375, G Loss: 22904.427734375\n",
      "Epoch 210, D Loss Real: -772250.375, D Loss Fake: -242336.703125, G Loss: 30128.82421875\n",
      "Epoch 211, D Loss Real: -769366.9375, D Loss Fake: -244110.0, G Loss: 29377.859375\n",
      "Epoch 212, D Loss Real: -766902.625, D Loss Fake: -242595.0, G Loss: 27635.802734375\n",
      "Epoch 213, D Loss Real: -764070.25, D Loss Fake: -239756.96875, G Loss: 26091.2890625\n",
      "Epoch 214, D Loss Real: -761526.3125, D Loss Fake: -237273.59375, G Loss: 24698.41015625\n",
      "Epoch 215, D Loss Real: -758998.875, D Loss Fake: -234829.09375, G Loss: 23359.97265625\n",
      "Epoch 216, D Loss Real: -756928.25, D Loss Fake: -232134.265625, G Loss: 21819.427734375\n",
      "Epoch 217, D Loss Real: -755034.0, D Loss Fake: -229444.140625, G Loss: 20300.009765625\n",
      "Epoch 218, D Loss Real: -753468.0625, D Loss Fake: -226763.265625, G Loss: 18746.119140625\n",
      "Epoch 219, D Loss Real: -752090.0625, D Loss Fake: -224071.96875, G Loss: 17119.91796875\n",
      "Epoch 220, D Loss Real: -751050.5625, D Loss Fake: -221330.265625, G Loss: 15545.6474609375\n",
      "Epoch 221, D Loss Real: -750231.5625, D Loss Fake: -218516.84375, G Loss: 13886.5947265625\n",
      "Epoch 222, D Loss Real: -749603.375, D Loss Fake: -215962.203125, G Loss: 12236.0810546875\n",
      "Epoch 223, D Loss Real: -749518.625, D Loss Fake: -212712.546875, G Loss: 10078.8212890625\n",
      "Epoch 224, D Loss Real: -749368.125, D Loss Fake: -209253.046875, G Loss: 7896.177734375\n",
      "Epoch 225, D Loss Real: -749284.625, D Loss Fake: -206138.53125, G Loss: 5434.0\n",
      "Epoch 226, D Loss Real: -747712.0625, D Loss Fake: -204243.8125, G Loss: 3468.79296875\n",
      "Epoch 227, D Loss Real: -748250.9375, D Loss Fake: -201136.234375, G Loss: 1423.75439453125\n",
      "Epoch 228, D Loss Real: -748537.0, D Loss Fake: -197163.953125, G Loss: -1385.5196533203125\n",
      "Epoch 229, D Loss Real: -748470.1875, D Loss Fake: -192917.59375, G Loss: -4598.88671875\n",
      "Epoch 230, D Loss Real: -748870.375, D Loss Fake: -188722.0625, G Loss: -7512.259765625\n",
      "Epoch 231, D Loss Real: -749193.8125, D Loss Fake: -183861.3125, G Loss: -11164.2587890625\n",
      "Epoch 232, D Loss Real: -749751.875, D Loss Fake: -178686.859375, G Loss: -14954.763671875\n",
      "Epoch 233, D Loss Real: -749733.5, D Loss Fake: -173721.609375, G Loss: -18748.615234375\n",
      "Epoch 234, D Loss Real: -749934.1875, D Loss Fake: -168788.796875, G Loss: -22396.23828125\n",
      "Epoch 235, D Loss Real: -749882.9375, D Loss Fake: -164023.78125, G Loss: -25958.109375\n",
      "Epoch 236, D Loss Real: -749931.75, D Loss Fake: -159545.671875, G Loss: -29284.330078125\n",
      "Epoch 237, D Loss Real: -749849.6875, D Loss Fake: -155284.671875, G Loss: -32438.697265625\n",
      "Epoch 238, D Loss Real: -749777.25, D Loss Fake: -151264.328125, G Loss: -35377.22265625\n",
      "Epoch 239, D Loss Real: -749702.4375, D Loss Fake: -147435.265625, G Loss: -38167.21484375\n",
      "Epoch 240, D Loss Real: -749681.75, D Loss Fake: -143735.765625, G Loss: -40887.93359375\n",
      "Epoch 241, D Loss Real: -749768.625, D Loss Fake: -140105.671875, G Loss: -43526.546875\n",
      "Epoch 242, D Loss Real: -749924.6875, D Loss Fake: -136553.25, G Loss: -46099.078125\n",
      "Epoch 243, D Loss Real: -750006.5625, D Loss Fake: -133104.203125, G Loss: -48626.5390625\n",
      "Epoch 244, D Loss Real: -750346.75, D Loss Fake: -129633.6953125, G Loss: -51141.9609375\n",
      "Epoch 245, D Loss Real: -750829.4375, D Loss Fake: -126234.34375, G Loss: -53674.5703125\n",
      "Epoch 246, D Loss Real: -751180.8125, D Loss Fake: -122854.9375, G Loss: -56180.84375\n",
      "Epoch 247, D Loss Real: -752178.5, D Loss Fake: -119481.703125, G Loss: -58687.015625\n",
      "Epoch 248, D Loss Real: -753030.5625, D Loss Fake: -116068.5546875, G Loss: -61216.69140625\n",
      "Epoch 249, D Loss Real: -754631.5625, D Loss Fake: -112633.0, G Loss: -63783.0234375\n",
      "Epoch 250, D Loss Real: -755781.0, D Loss Fake: -109104.8046875, G Loss: -66421.421875\n",
      "Epoch 251, D Loss Real: -757783.125, D Loss Fake: -105579.1328125, G Loss: -69133.6640625\n",
      "Epoch 252, D Loss Real: -759976.375, D Loss Fake: -102004.2890625, G Loss: -71868.140625\n",
      "Epoch 253, D Loss Real: -762399.875, D Loss Fake: -98359.40625, G Loss: -74680.296875\n",
      "Epoch 254, D Loss Real: -765017.5, D Loss Fake: -94615.7734375, G Loss: -77581.5390625\n",
      "Epoch 255, D Loss Real: -767995.875, D Loss Fake: -90806.6875, G Loss: -80720.3984375\n",
      "Epoch 256, D Loss Real: -771536.0625, D Loss Fake: -86239.140625, G Loss: -84529.2109375\n",
      "Epoch 257, D Loss Real: -776206.0, D Loss Fake: -81711.953125, G Loss: -89728.6640625\n",
      "Epoch 258, D Loss Real: -779436.75, D Loss Fake: -73565.453125, G Loss: -95114.546875\n",
      "Epoch 259, D Loss Real: -784014.9375, D Loss Fake: -66785.921875, G Loss: -101664.234375\n",
      "Epoch 260, D Loss Real: -788739.1875, D Loss Fake: -107161.1328125, G Loss: -104285.625\n",
      "Epoch 261, D Loss Real: -793285.375, D Loss Fake: -94876.4296875, G Loss: -112400.625\n",
      "Epoch 262, D Loss Real: -797620.6875, D Loss Fake: -83039.9375, G Loss: -120112.3515625\n",
      "Epoch 263, D Loss Real: -800743.0625, D Loss Fake: -73735.5, G Loss: -126996.015625\n",
      "Epoch 264, D Loss Real: -804049.3125, D Loss Fake: -64807.27734375, G Loss: -133652.09375\n",
      "Epoch 265, D Loss Real: -806938.8125, D Loss Fake: -56751.68359375, G Loss: -140183.96875\n",
      "Epoch 266, D Loss Real: -809963.625, D Loss Fake: -47841.58984375, G Loss: -145591.921875\n",
      "Epoch 267, D Loss Real: -812622.3125, D Loss Fake: -40162.94140625, G Loss: -151403.578125\n",
      "Epoch 268, D Loss Real: -814445.0625, D Loss Fake: -34553.0546875, G Loss: -155101.46875\n",
      "Epoch 269, D Loss Real: -814064.0, D Loss Fake: -31118.236328125, G Loss: -149482.78125\n",
      "Epoch 270, D Loss Real: -812677.1875, D Loss Fake: -33292.0, G Loss: -144669.125\n",
      "Epoch 271, D Loss Real: -811127.3125, D Loss Fake: -34987.8828125, G Loss: -139161.796875\n",
      "Epoch 272, D Loss Real: -810103.3125, D Loss Fake: -35528.234375, G Loss: -136991.125\n",
      "Epoch 273, D Loss Real: -810990.0, D Loss Fake: -34833.92578125, G Loss: -135491.1875\n",
      "Epoch 274, D Loss Real: -811236.5625, D Loss Fake: -32774.60546875, G Loss: -135073.453125\n",
      "Epoch 275, D Loss Real: -812032.9375, D Loss Fake: -28679.537109375, G Loss: -136853.65625\n",
      "Epoch 276, D Loss Real: -813159.375, D Loss Fake: -24783.884765625, G Loss: -139685.0\n",
      "Epoch 277, D Loss Real: -815036.1875, D Loss Fake: -20831.423828125, G Loss: -142664.8125\n",
      "Epoch 278, D Loss Real: -816083.875, D Loss Fake: -17152.201171875, G Loss: -146062.25\n",
      "Epoch 279, D Loss Real: -817524.9375, D Loss Fake: -13413.0283203125, G Loss: -149680.078125\n",
      "Epoch 280, D Loss Real: -819343.375, D Loss Fake: -9218.67578125, G Loss: -153577.90625\n",
      "Epoch 281, D Loss Real: -821914.5625, D Loss Fake: -5105.19140625, G Loss: -157721.109375\n",
      "Epoch 282, D Loss Real: -824055.625, D Loss Fake: 1002.007080078125, G Loss: -161797.859375\n",
      "Epoch 283, D Loss Real: -825620.1875, D Loss Fake: 5474.2255859375, G Loss: -166212.421875\n",
      "Epoch 284, D Loss Real: -827347.3125, D Loss Fake: 10611.1435546875, G Loss: -170450.15625\n",
      "Epoch 285, D Loss Real: -829910.125, D Loss Fake: 16537.677734375, G Loss: -174636.5\n",
      "Epoch 286, D Loss Real: -832382.5625, D Loss Fake: 21468.09765625, G Loss: -178832.859375\n",
      "Epoch 287, D Loss Real: -834872.3125, D Loss Fake: 26340.02734375, G Loss: -183325.40625\n",
      "Epoch 288, D Loss Real: -835576.9375, D Loss Fake: 25325.564453125, G Loss: -175035.03125\n",
      "Epoch 289, D Loss Real: -835705.1875, D Loss Fake: 23263.61328125, G Loss: -171592.8125\n"
     ]
    },
    {
     "name": "stdout",
     "output_type": "stream",
     "text": [
      "Epoch 290, D Loss Real: -836945.625, D Loss Fake: 26507.765625, G Loss: -173330.59375\n",
      "Epoch 291, D Loss Real: -838654.5, D Loss Fake: 29888.08203125, G Loss: -176077.296875\n",
      "Epoch 292, D Loss Real: -840232.1875, D Loss Fake: 33244.33984375, G Loss: -178902.109375\n",
      "Epoch 293, D Loss Real: -842209.0625, D Loss Fake: 36673.796875, G Loss: -181709.40625\n",
      "Epoch 294, D Loss Real: -845498.9375, D Loss Fake: 40239.16015625, G Loss: -184672.421875\n",
      "Epoch 295, D Loss Real: -848946.375, D Loss Fake: 43916.91796875, G Loss: -187617.015625\n",
      "Epoch 296, D Loss Real: -853033.1875, D Loss Fake: 47379.6640625, G Loss: -190674.25\n",
      "Epoch 297, D Loss Real: -856406.9375, D Loss Fake: 51163.0078125, G Loss: -193831.640625\n",
      "Epoch 298, D Loss Real: -859819.875, D Loss Fake: 55271.33203125, G Loss: -197449.1875\n",
      "Epoch 299, D Loss Real: -863240.9375, D Loss Fake: 60015.78515625, G Loss: -201295.90625\n",
      "Epoch 300, D Loss Real: -867412.4375, D Loss Fake: 66874.1015625, G Loss: -205486.921875\n",
      "Epoch 301, D Loss Real: -871109.375, D Loss Fake: 71499.65625, G Loss: -207897.625\n",
      "Epoch 302, D Loss Real: -877205.9375, D Loss Fake: 76107.0859375, G Loss: -212287.53125\n",
      "Epoch 303, D Loss Real: -881509.0625, D Loss Fake: 80437.5234375, G Loss: -217783.46875\n",
      "Epoch 304, D Loss Real: -884853.0, D Loss Fake: 84682.0703125, G Loss: -221532.21875\n",
      "Epoch 305, D Loss Real: -889813.9375, D Loss Fake: 91453.2265625, G Loss: -226967.71875\n",
      "Epoch 306, D Loss Real: -893588.4375, D Loss Fake: 97192.6015625, G Loss: -232766.515625\n",
      "Epoch 307, D Loss Real: -895338.0, D Loss Fake: 98516.15625, G Loss: -228507.484375\n",
      "Epoch 308, D Loss Real: -897062.9375, D Loss Fake: 102669.875, G Loss: -231179.03125\n",
      "Epoch 309, D Loss Real: -900166.1875, D Loss Fake: 107184.9296875, G Loss: -234592.515625\n",
      "Epoch 310, D Loss Real: -903289.4375, D Loss Fake: 111672.3828125, G Loss: -238343.59375\n",
      "Epoch 311, D Loss Real: -907738.0625, D Loss Fake: 115438.6640625, G Loss: -241935.46875\n",
      "Epoch 312, D Loss Real: -910809.5625, D Loss Fake: 119538.65625, G Loss: -246228.984375\n",
      "Epoch 313, D Loss Real: -913510.4375, D Loss Fake: 123720.2578125, G Loss: -250370.46875\n",
      "Epoch 314, D Loss Real: -917056.4375, D Loss Fake: 128219.40625, G Loss: -253560.40625\n",
      "Epoch 315, D Loss Real: -918513.625, D Loss Fake: 130325.2421875, G Loss: -255762.609375\n",
      "Epoch 316, D Loss Real: -921152.625, D Loss Fake: 134239.3125, G Loss: -258490.390625\n",
      "Epoch 317, D Loss Real: -923262.375, D Loss Fake: 136228.484375, G Loss: -259443.640625\n",
      "Epoch 318, D Loss Real: -925851.3125, D Loss Fake: 139278.828125, G Loss: -261741.484375\n",
      "Epoch 319, D Loss Real: -929357.8125, D Loss Fake: 142215.40625, G Loss: -263918.28125\n",
      "Epoch 320, D Loss Real: -932353.125, D Loss Fake: 145376.40625, G Loss: -266134.25\n",
      "Epoch 321, D Loss Real: -935192.0625, D Loss Fake: 148479.453125, G Loss: -268472.6875\n",
      "Epoch 322, D Loss Real: -939663.875, D Loss Fake: 151648.890625, G Loss: -271008.90625\n",
      "Epoch 323, D Loss Real: -942958.4375, D Loss Fake: 155430.96875, G Loss: -274258.4375\n",
      "Epoch 324, D Loss Real: -948821.0625, D Loss Fake: 159600.984375, G Loss: -279247.90625\n",
      "Epoch 325, D Loss Real: -952954.6875, D Loss Fake: 164849.515625, G Loss: -284333.71875\n",
      "Epoch 326, D Loss Real: -956320.875, D Loss Fake: 159930.671875, G Loss: -273526.34375\n",
      "Epoch 327, D Loss Real: -957106.9375, D Loss Fake: 160620.296875, G Loss: -276108.8125\n",
      "Epoch 328, D Loss Real: -959648.3125, D Loss Fake: 163508.328125, G Loss: -278736.1875\n",
      "Epoch 329, D Loss Real: -962375.5625, D Loss Fake: 166901.046875, G Loss: -281607.34375\n",
      "Epoch 330, D Loss Real: -965666.25, D Loss Fake: 171301.40625, G Loss: -283682.09375\n",
      "Epoch 331, D Loss Real: -968176.6875, D Loss Fake: 175635.859375, G Loss: -286527.0\n",
      "Epoch 332, D Loss Real: -970194.8125, D Loss Fake: 169267.75, G Loss: -279176.09375\n",
      "Epoch 333, D Loss Real: -972683.875, D Loss Fake: 171556.3125, G Loss: -280566.40625\n",
      "Epoch 334, D Loss Real: -975337.0625, D Loss Fake: 174291.875, G Loss: -281910.875\n",
      "Epoch 335, D Loss Real: -978189.6875, D Loss Fake: 176770.8125, G Loss: -283253.34375\n",
      "Epoch 336, D Loss Real: -982805.625, D Loss Fake: 178865.953125, G Loss: -284665.84375\n",
      "Epoch 337, D Loss Real: -990000.875, D Loss Fake: 181917.25, G Loss: -286150.96875\n",
      "Epoch 338, D Loss Real: -996337.8125, D Loss Fake: 185285.703125, G Loss: -289345.96875\n",
      "Epoch 339, D Loss Real: -998986.75, D Loss Fake: 192711.0625, G Loss: -294722.375\n",
      "Epoch 340, D Loss Real: -1002840.375, D Loss Fake: 202318.6875, G Loss: -297571.46875\n",
      "Epoch 341, D Loss Real: -1005903.75, D Loss Fake: 204766.59375, G Loss: -297590.65625\n",
      "Epoch 342, D Loss Real: -1007299.9375, D Loss Fake: 212576.796875, G Loss: -300888.5\n",
      "Epoch 343, D Loss Real: -1010692.25, D Loss Fake: 221418.28125, G Loss: -305814.6875\n",
      "Epoch 344, D Loss Real: -1013974.8125, D Loss Fake: 229387.828125, G Loss: -311068.5625\n",
      "Epoch 345, D Loss Real: -1016554.0, D Loss Fake: 224900.765625, G Loss: -303789.90625\n",
      "Epoch 346, D Loss Real: -1020360.125, D Loss Fake: 227770.96875, G Loss: -305658.6875\n",
      "Epoch 347, D Loss Real: -1023509.6875, D Loss Fake: 231560.140625, G Loss: -307863.125\n",
      "Epoch 348, D Loss Real: -1028325.4375, D Loss Fake: 234340.359375, G Loss: -312383.34375\n",
      "Epoch 349, D Loss Real: -1030620.875, D Loss Fake: 236376.828125, G Loss: -315958.5\n",
      "Epoch 350, D Loss Real: -1035928.8125, D Loss Fake: 239800.5625, G Loss: -313863.875\n",
      "Epoch 351, D Loss Real: -1037133.4375, D Loss Fake: 225832.3125, G Loss: -309361.65625\n",
      "Epoch 352, D Loss Real: -1039817.5, D Loss Fake: 229783.984375, G Loss: -312418.46875\n",
      "Epoch 353, D Loss Real: -1041828.625, D Loss Fake: 232338.171875, G Loss: -314629.40625\n",
      "Epoch 354, D Loss Real: -1045353.75, D Loss Fake: 238630.890625, G Loss: -317314.71875\n",
      "Epoch 355, D Loss Real: -1047554.6875, D Loss Fake: 242732.546875, G Loss: -319569.90625\n",
      "Epoch 356, D Loss Real: -1052170.875, D Loss Fake: 246556.90625, G Loss: -320313.125\n",
      "Epoch 357, D Loss Real: -1052852.5, D Loss Fake: 230122.765625, G Loss: -314366.90625\n",
      "Epoch 358, D Loss Real: -1053826.0, D Loss Fake: 231850.46875, G Loss: -315057.125\n",
      "Epoch 359, D Loss Real: -1056370.0, D Loss Fake: 233631.0625, G Loss: -315662.1875\n",
      "Epoch 360, D Loss Real: -1057007.0, D Loss Fake: 234902.296875, G Loss: -315880.3125\n",
      "Epoch 361, D Loss Real: -1058581.375, D Loss Fake: 235439.515625, G Loss: -316665.625\n",
      "Epoch 362, D Loss Real: -1060350.5, D Loss Fake: 235954.90625, G Loss: -317055.40625\n",
      "Epoch 363, D Loss Real: -1062802.25, D Loss Fake: 238019.875, G Loss: -317470.875\n",
      "Epoch 364, D Loss Real: -1065824.75, D Loss Fake: 239002.03125, G Loss: -318285.09375\n",
      "Epoch 365, D Loss Real: -1069638.5, D Loss Fake: 241453.765625, G Loss: -321658.15625\n",
      "Epoch 366, D Loss Real: -1073073.875, D Loss Fake: 245052.8125, G Loss: -325792.40625\n",
      "Epoch 367, D Loss Real: -1077697.0, D Loss Fake: 250816.84375, G Loss: -328342.03125\n",
      "Epoch 368, D Loss Real: -1079475.125, D Loss Fake: 254522.296875, G Loss: -331419.34375\n",
      "Epoch 369, D Loss Real: -1082286.75, D Loss Fake: 256851.53125, G Loss: -328332.09375\n",
      "Epoch 370, D Loss Real: -1082699.5, D Loss Fake: 262562.09375, G Loss: -330437.03125\n",
      "Epoch 371, D Loss Real: -1083294.125, D Loss Fake: 264276.71875, G Loss: -320133.34375\n",
      "Epoch 372, D Loss Real: -1084439.625, D Loss Fake: 267609.28125, G Loss: -320867.53125\n",
      "Epoch 373, D Loss Real: -1087045.5, D Loss Fake: 260599.84375, G Loss: -321128.53125\n",
      "Epoch 374, D Loss Real: -1086886.875, D Loss Fake: 258289.390625, G Loss: -321153.96875\n",
      "Epoch 375, D Loss Real: -1087200.875, D Loss Fake: 259564.78125, G Loss: -321079.5625\n",
      "Epoch 376, D Loss Real: -1088794.0, D Loss Fake: 259857.046875, G Loss: -320674.65625\n",
      "Epoch 377, D Loss Real: -1092715.0, D Loss Fake: 259994.390625, G Loss: -320161.34375\n",
      "Epoch 378, D Loss Real: -1096561.625, D Loss Fake: 259772.859375, G Loss: -319239.5625\n",
      "Epoch 379, D Loss Real: -1098569.625, D Loss Fake: 259452.1875, G Loss: -318223.96875\n",
      "Epoch 380, D Loss Real: -1099858.5, D Loss Fake: 258687.140625, G Loss: -316798.8125\n",
      "Epoch 381, D Loss Real: -1104134.5, D Loss Fake: 257732.875, G Loss: -314955.09375\n",
      "Epoch 382, D Loss Real: -1106550.5, D Loss Fake: 256239.484375, G Loss: -312785.09375\n",
      "Epoch 383, D Loss Real: -1108945.625, D Loss Fake: 254405.953125, G Loss: -310112.15625\n",
      "Epoch 384, D Loss Real: -1111813.125, D Loss Fake: 252373.0625, G Loss: -306914.6875\n",
      "Epoch 385, D Loss Real: -1114588.125, D Loss Fake: 249689.03125, G Loss: -303193.125\n",
      "Epoch 386, D Loss Real: -1118993.625, D Loss Fake: 238982.078125, G Loss: -299068.6875\n"
     ]
    },
    {
     "name": "stdout",
     "output_type": "stream",
     "text": [
      "Epoch 387, D Loss Real: -1120001.125, D Loss Fake: 222161.4375, G Loss: -266646.5\n",
      "Epoch 388, D Loss Real: -1125006.5, D Loss Fake: 201098.28125, G Loss: -263739.21875\n",
      "Epoch 389, D Loss Real: -1126616.0, D Loss Fake: 183715.0, G Loss: -259818.375\n",
      "Epoch 390, D Loss Real: -1129433.625, D Loss Fake: 179857.515625, G Loss: -254838.34375\n",
      "Epoch 391, D Loss Real: -1133478.0, D Loss Fake: 179341.59375, G Loss: -250704.3125\n",
      "Epoch 392, D Loss Real: -1136927.125, D Loss Fake: 175779.34375, G Loss: -246498.359375\n",
      "Epoch 393, D Loss Real: -1139602.875, D Loss Fake: 174003.609375, G Loss: -246352.765625\n",
      "Epoch 394, D Loss Real: -1140569.625, D Loss Fake: 178984.703125, G Loss: -251963.578125\n",
      "Epoch 395, D Loss Real: -1140166.0, D Loss Fake: 188649.421875, G Loss: -264338.3125\n",
      "Epoch 396, D Loss Real: -1147067.625, D Loss Fake: 196839.90625, G Loss: -271192.03125\n",
      "Epoch 397, D Loss Real: -1151531.875, D Loss Fake: 198506.65625, G Loss: -280392.875\n",
      "Epoch 398, D Loss Real: -1147257.875, D Loss Fake: 180219.03125, G Loss: -267109.53125\n",
      "Epoch 399, D Loss Real: -1147728.0, D Loss Fake: 186897.796875, G Loss: -277745.375\n",
      "Epoch 400, D Loss Real: -1147557.125, D Loss Fake: 187545.75, G Loss: -273494.40625\n",
      "Epoch 401, D Loss Real: -1147346.25, D Loss Fake: 181484.671875, G Loss: -266396.40625\n",
      "Epoch 402, D Loss Real: -1141128.75, D Loss Fake: 177999.765625, G Loss: -260740.78125\n",
      "Epoch 403, D Loss Real: -1137542.25, D Loss Fake: 175113.28125, G Loss: -254453.875\n",
      "Epoch 404, D Loss Real: -1132976.375, D Loss Fake: 165803.75, G Loss: -243899.078125\n",
      "Epoch 405, D Loss Real: -1129264.25, D Loss Fake: 159115.1875, G Loss: -232014.953125\n",
      "Epoch 406, D Loss Real: -1123108.0, D Loss Fake: 150964.109375, G Loss: -221992.390625\n",
      "Epoch 407, D Loss Real: -1115611.125, D Loss Fake: 141567.671875, G Loss: -212758.921875\n",
      "Epoch 408, D Loss Real: -1110643.375, D Loss Fake: 133189.421875, G Loss: -199904.4375\n",
      "Epoch 409, D Loss Real: -1103698.25, D Loss Fake: 117441.3046875, G Loss: -184122.578125\n",
      "Epoch 410, D Loss Real: -1097542.0, D Loss Fake: 102556.7265625, G Loss: -171177.921875\n",
      "Epoch 411, D Loss Real: -1090632.5, D Loss Fake: 90255.515625, G Loss: -160309.296875\n",
      "Epoch 412, D Loss Real: -1082386.625, D Loss Fake: 77607.6875, G Loss: -140254.96875\n",
      "Epoch 413, D Loss Real: -1074304.875, D Loss Fake: 61943.07421875, G Loss: -124508.359375\n",
      "Epoch 414, D Loss Real: -1064473.125, D Loss Fake: 50462.70703125, G Loss: -112389.8671875\n",
      "Epoch 415, D Loss Real: -1052969.875, D Loss Fake: 36919.5859375, G Loss: -100691.265625\n",
      "Epoch 416, D Loss Real: -1042519.9375, D Loss Fake: 24099.26171875, G Loss: -86291.6640625\n",
      "Epoch 417, D Loss Real: -1030312.4375, D Loss Fake: 12116.0673828125, G Loss: -75019.5703125\n",
      "Epoch 418, D Loss Real: -1018711.6875, D Loss Fake: -3895.20751953125, G Loss: -58978.1796875\n",
      "Epoch 419, D Loss Real: -1008602.6875, D Loss Fake: -18505.4375, G Loss: -32925.4921875\n",
      "Epoch 420, D Loss Real: -997567.0, D Loss Fake: -38816.34375, G Loss: -12408.3466796875\n",
      "Epoch 421, D Loss Real: -986013.875, D Loss Fake: -57470.23828125, G Loss: 7319.50244140625\n",
      "Epoch 422, D Loss Real: -973426.6875, D Loss Fake: -76264.3984375, G Loss: 25055.294921875\n",
      "Epoch 423, D Loss Real: -959545.9375, D Loss Fake: -93494.9453125, G Loss: 41638.0703125\n",
      "Epoch 424, D Loss Real: -943825.625, D Loss Fake: -109249.75, G Loss: 57492.0234375\n",
      "Epoch 425, D Loss Real: -927859.5, D Loss Fake: -124847.3984375, G Loss: 74116.2578125\n",
      "Epoch 426, D Loss Real: -910145.5625, D Loss Fake: -142452.921875, G Loss: 90961.2734375\n",
      "Epoch 427, D Loss Real: -893099.75, D Loss Fake: -160953.984375, G Loss: 110198.2578125\n",
      "Epoch 428, D Loss Real: -875971.5625, D Loss Fake: -180874.796875, G Loss: 129479.703125\n",
      "Epoch 429, D Loss Real: -858115.4375, D Loss Fake: -199869.828125, G Loss: 148028.765625\n",
      "Epoch 430, D Loss Real: -840357.125, D Loss Fake: -216208.75, G Loss: 166221.0625\n",
      "Epoch 431, D Loss Real: -823762.125, D Loss Fake: -232866.859375, G Loss: 183952.765625\n",
      "Epoch 432, D Loss Real: -807002.625, D Loss Fake: -250983.09375, G Loss: 200732.21875\n",
      "Epoch 433, D Loss Real: -789689.6875, D Loss Fake: -267454.9375, G Loss: 217050.015625\n",
      "Epoch 434, D Loss Real: -772216.1875, D Loss Fake: -284544.25, G Loss: 232469.9375\n",
      "Epoch 435, D Loss Real: -753445.875, D Loss Fake: -298314.5, G Loss: 246968.171875\n",
      "Epoch 436, D Loss Real: -737186.625, D Loss Fake: -311718.03125, G Loss: 260562.875\n",
      "Epoch 437, D Loss Real: -721532.375, D Loss Fake: -324271.53125, G Loss: 273910.84375\n",
      "Epoch 438, D Loss Real: -708091.0625, D Loss Fake: -336711.96875, G Loss: 286567.59375\n",
      "Epoch 439, D Loss Real: -692057.3125, D Loss Fake: -347863.3125, G Loss: 298450.75\n",
      "Epoch 440, D Loss Real: -676440.25, D Loss Fake: -358828.6875, G Loss: 310341.375\n",
      "Epoch 441, D Loss Real: -665385.9375, D Loss Fake: -369653.5625, G Loss: 321754.75\n",
      "Epoch 442, D Loss Real: -654312.4375, D Loss Fake: -380937.1875, G Loss: 333357.0\n",
      "Epoch 443, D Loss Real: -643480.5, D Loss Fake: -392026.3125, G Loss: 344907.46875\n",
      "Epoch 444, D Loss Real: -633073.5625, D Loss Fake: -404100.96875, G Loss: 356441.5625\n",
      "Epoch 445, D Loss Real: -623295.5, D Loss Fake: -415127.90625, G Loss: 368096.09375\n",
      "Epoch 446, D Loss Real: -612316.5, D Loss Fake: -426845.96875, G Loss: 380233.4375\n",
      "Epoch 447, D Loss Real: -600719.3125, D Loss Fake: -438297.65625, G Loss: 392288.84375\n",
      "Epoch 448, D Loss Real: -590612.625, D Loss Fake: -450010.09375, G Loss: 404285.28125\n",
      "Epoch 449, D Loss Real: -582248.375, D Loss Fake: -461505.03125, G Loss: 416321.625\n",
      "Epoch 450, D Loss Real: -571294.75, D Loss Fake: -473166.46875, G Loss: 428513.34375\n",
      "Epoch 451, D Loss Real: -563224.375, D Loss Fake: -484942.21875, G Loss: 440905.34375\n",
      "Epoch 452, D Loss Real: -557605.875, D Loss Fake: -496874.46875, G Loss: 453497.84375\n",
      "Epoch 453, D Loss Real: -548300.3125, D Loss Fake: -509053.125, G Loss: 466248.8125\n",
      "Epoch 454, D Loss Real: -541929.5625, D Loss Fake: -521343.78125, G Loss: 479205.125\n",
      "Epoch 455, D Loss Real: -540119.0625, D Loss Fake: -533822.3125, G Loss: 492359.5\n",
      "Epoch 456, D Loss Real: -534245.9375, D Loss Fake: -546430.875, G Loss: 505763.78125\n",
      "Epoch 457, D Loss Real: -534253.375, D Loss Fake: -559255.125, G Loss: 519379.625\n",
      "Epoch 458, D Loss Real: -539428.5625, D Loss Fake: -572324.0625, G Loss: 533286.4375\n",
      "Epoch 459, D Loss Real: -545845.3125, D Loss Fake: -585667.8125, G Loss: 547475.0\n",
      "Epoch 460, D Loss Real: -555077.3125, D Loss Fake: -599208.0625, G Loss: 561949.875\n",
      "Epoch 461, D Loss Real: -573658.3125, D Loss Fake: -613108.0, G Loss: 576769.4375\n",
      "Epoch 462, D Loss Real: -599607.625, D Loss Fake: -627436.5, G Loss: 592139.1875\n",
      "Epoch 463, D Loss Real: -622403.75, D Loss Fake: -642352.8125, G Loss: 608169.5\n",
      "Epoch 464, D Loss Real: -652120.75, D Loss Fake: -658402.5625, G Loss: 625293.3125\n",
      "Epoch 465, D Loss Real: -678678.375, D Loss Fake: -674946.875, G Loss: 643423.5\n",
      "Epoch 466, D Loss Real: -728916.1875, D Loss Fake: -685600.625, G Loss: 645550.8125\n",
      "Epoch 467, D Loss Real: -771147.875, D Loss Fake: -672531.4375, G Loss: 618271.25\n",
      "Epoch 468, D Loss Real: -814077.1875, D Loss Fake: -634513.625, G Loss: 581429.875\n",
      "Epoch 469, D Loss Real: -831967.875, D Loss Fake: -654677.375, G Loss: 531152.3125\n",
      "Epoch 470, D Loss Real: -858858.0, D Loss Fake: -564131.25, G Loss: 454748.65625\n",
      "Epoch 471, D Loss Real: -879719.3125, D Loss Fake: -454756.78125, G Loss: 366812.15625\n",
      "Epoch 472, D Loss Real: -887403.4375, D Loss Fake: -343812.0625, G Loss: 284915.78125\n",
      "Epoch 473, D Loss Real: -889316.875, D Loss Fake: -237198.078125, G Loss: 221175.1875\n",
      "Epoch 474, D Loss Real: -889669.75, D Loss Fake: -166881.953125, G Loss: 159228.46875\n",
      "Epoch 475, D Loss Real: -888642.1875, D Loss Fake: -100521.359375, G Loss: 111431.7421875\n",
      "Epoch 476, D Loss Real: -885839.4375, D Loss Fake: -31079.009765625, G Loss: 77539.9296875\n",
      "Epoch 477, D Loss Real: -882795.8125, D Loss Fake: -42533.625, G Loss: 70713.109375\n",
      "Epoch 478, D Loss Real: -871935.3125, D Loss Fake: -75310.734375, G Loss: 64781.1015625\n",
      "Epoch 479, D Loss Real: -857809.875, D Loss Fake: -81217.5859375, G Loss: 52221.140625\n",
      "Epoch 480, D Loss Real: -848484.1875, D Loss Fake: -103465.03125, G Loss: 116502.4296875\n",
      "Epoch 481, D Loss Real: -836679.3125, D Loss Fake: -114580.84375, G Loss: 125280.7421875\n",
      "Epoch 482, D Loss Real: -826716.75, D Loss Fake: -146697.765625, G Loss: 147982.171875\n"
     ]
    },
    {
     "name": "stdout",
     "output_type": "stream",
     "text": [
      "Epoch 483, D Loss Real: -809168.6875, D Loss Fake: -179834.25, G Loss: 165382.15625\n",
      "Epoch 484, D Loss Real: -792637.375, D Loss Fake: -221104.359375, G Loss: 210639.875\n",
      "Epoch 485, D Loss Real: -775707.125, D Loss Fake: -270622.34375, G Loss: 242116.34375\n",
      "Epoch 486, D Loss Real: -757642.0, D Loss Fake: -298926.28125, G Loss: 265522.53125\n",
      "Epoch 487, D Loss Real: -735554.75, D Loss Fake: -345310.0625, G Loss: 332299.9375\n",
      "Epoch 488, D Loss Real: -717316.25, D Loss Fake: -387695.21875, G Loss: 379503.90625\n",
      "Epoch 489, D Loss Real: -695492.25, D Loss Fake: -432335.0, G Loss: 416076.28125\n",
      "Epoch 490, D Loss Real: -668878.625, D Loss Fake: -481018.625, G Loss: 465476.3125\n",
      "Epoch 491, D Loss Real: -630631.0625, D Loss Fake: -531777.5625, G Loss: 510645.96875\n",
      "Epoch 492, D Loss Real: -601420.9375, D Loss Fake: -592310.8125, G Loss: 563015.6875\n",
      "Epoch 493, D Loss Real: -570612.3125, D Loss Fake: -649639.25, G Loss: 622527.375\n",
      "Epoch 494, D Loss Real: -542292.75, D Loss Fake: -713604.8125, G Loss: 684406.75\n",
      "Epoch 495, D Loss Real: -513214.1875, D Loss Fake: -778319.125, G Loss: 740240.25\n",
      "Epoch 496, D Loss Real: -478053.21875, D Loss Fake: -838824.75, G Loss: 797472.75\n",
      "Epoch 497, D Loss Real: -443012.5625, D Loss Fake: -896037.625, G Loss: 849570.75\n",
      "Epoch 498, D Loss Real: -412211.375, D Loss Fake: -948931.3125, G Loss: 899625.0\n",
      "Epoch 499, D Loss Real: -384791.75, D Loss Fake: -997410.4375, G Loss: 949518.625\n",
      "Epoch 500, D Loss Real: -349872.28125, D Loss Fake: -1047342.875, G Loss: 993619.0\n",
      "Epoch 501, D Loss Real: -320966.0625, D Loss Fake: -1086812.625, G Loss: 1029126.4375\n",
      "Epoch 502, D Loss Real: -295336.03125, D Loss Fake: -1124656.25, G Loss: 1059471.5\n",
      "Epoch 503, D Loss Real: -263257.375, D Loss Fake: -1156347.75, G Loss: 1086277.25\n",
      "Epoch 504, D Loss Real: -234325.265625, D Loss Fake: -1181333.25, G Loss: 1109275.125\n",
      "Epoch 505, D Loss Real: -200995.453125, D Loss Fake: -1199506.75, G Loss: 1129354.375\n",
      "Epoch 506, D Loss Real: -168801.796875, D Loss Fake: -1214731.0, G Loss: 1145580.375\n",
      "Epoch 507, D Loss Real: -141981.453125, D Loss Fake: -1230883.625, G Loss: 1161167.5\n",
      "Epoch 508, D Loss Real: -116341.34375, D Loss Fake: -1245336.75, G Loss: 1176867.875\n",
      "Epoch 509, D Loss Real: -98939.390625, D Loss Fake: -1259782.875, G Loss: 1192892.375\n",
      "Epoch 510, D Loss Real: -81302.890625, D Loss Fake: -1274758.875, G Loss: 1209697.875\n",
      "Epoch 511, D Loss Real: -64818.5, D Loss Fake: -1289905.875, G Loss: 1226466.75\n",
      "Epoch 512, D Loss Real: -47526.73828125, D Loss Fake: -1305894.25, G Loss: 1243564.375\n",
      "Epoch 513, D Loss Real: -31110.97265625, D Loss Fake: -1322209.25, G Loss: 1261516.25\n",
      "Epoch 514, D Loss Real: -15733.4365234375, D Loss Fake: -1339413.75, G Loss: 1279843.875\n",
      "Epoch 515, D Loss Real: 1428.589111328125, D Loss Fake: -1357005.25, G Loss: 1298925.125\n",
      "Epoch 516, D Loss Real: 17827.837890625, D Loss Fake: -1375052.25, G Loss: 1318437.875\n",
      "Epoch 517, D Loss Real: 29741.158203125, D Loss Fake: -1393983.625, G Loss: 1338444.375\n",
      "Epoch 518, D Loss Real: 41486.796875, D Loss Fake: -1413269.5, G Loss: 1358168.0\n",
      "Epoch 519, D Loss Real: 52579.5703125, D Loss Fake: -1432992.625, G Loss: 1405540.875\n",
      "Epoch 520, D Loss Real: 66318.6171875, D Loss Fake: -1453655.375, G Loss: 1427555.75\n",
      "Epoch 521, D Loss Real: 74410.9140625, D Loss Fake: -1475137.375, G Loss: 1450270.625\n",
      "Epoch 522, D Loss Real: 78610.046875, D Loss Fake: -1497415.375, G Loss: 1474093.0\n",
      "Epoch 523, D Loss Real: 75682.8671875, D Loss Fake: -1520230.125, G Loss: 1498029.875\n",
      "Epoch 524, D Loss Real: 79818.7890625, D Loss Fake: -1543549.375, G Loss: 1522602.125\n",
      "Epoch 525, D Loss Real: 76540.53125, D Loss Fake: -1567419.0, G Loss: 1547679.125\n",
      "Epoch 526, D Loss Real: 64085.375, D Loss Fake: -1591928.875, G Loss: 1573361.375\n",
      "Epoch 527, D Loss Real: 61846.453125, D Loss Fake: -1616948.375, G Loss: 1599670.0\n",
      "Epoch 528, D Loss Real: 21164.673828125, D Loss Fake: -1642501.625, G Loss: 1626615.75\n",
      "Epoch 529, D Loss Real: -12945.841796875, D Loss Fake: -1668905.75, G Loss: 1654510.625\n",
      "Epoch 530, D Loss Real: -58074.7265625, D Loss Fake: -1696147.0, G Loss: 1683654.125\n",
      "Epoch 531, D Loss Real: -111330.734375, D Loss Fake: -1724962.375, G Loss: 1713945.5\n",
      "Epoch 532, D Loss Real: -138764.28125, D Loss Fake: -1754719.375, G Loss: 1745116.25\n",
      "Epoch 533, D Loss Real: -193589.0, D Loss Fake: -1785403.625, G Loss: 1777872.25\n",
      "Epoch 534, D Loss Real: -282719.5, D Loss Fake: -1817528.625, G Loss: 1811569.125\n",
      "Epoch 535, D Loss Real: -329679.1875, D Loss Fake: -1850985.25, G Loss: 1847050.375\n",
      "Epoch 536, D Loss Real: -437693.0625, D Loss Fake: -1883415.0, G Loss: 1873929.875\n",
      "Epoch 537, D Loss Real: -515154.5625, D Loss Fake: -1883205.125, G Loss: 1876164.125\n",
      "Epoch 538, D Loss Real: -623421.875, D Loss Fake: -1813250.625, G Loss: 1783078.875\n",
      "Epoch 539, D Loss Real: -696100.125, D Loss Fake: -1671408.75, G Loss: 1593576.625\n",
      "Epoch 540, D Loss Real: -746766.5, D Loss Fake: -1533989.625, G Loss: 1374948.625\n",
      "Epoch 541, D Loss Real: -799088.375, D Loss Fake: -1398593.125, G Loss: 1147205.125\n",
      "Epoch 542, D Loss Real: -839236.625, D Loss Fake: -1231619.25, G Loss: 916905.875\n",
      "Epoch 543, D Loss Real: -867497.5, D Loss Fake: -962395.3125, G Loss: 700490.375\n",
      "Epoch 544, D Loss Real: -902985.1875, D Loss Fake: -656160.5, G Loss: 493612.625\n",
      "Epoch 545, D Loss Real: -920261.875, D Loss Fake: -460566.15625, G Loss: 317233.125\n",
      "Epoch 546, D Loss Real: -929166.375, D Loss Fake: -242259.546875, G Loss: 141728.34375\n",
      "Epoch 547, D Loss Real: -952790.3125, D Loss Fake: -87759.140625, G Loss: -32995.17578125\n",
      "Epoch 548, D Loss Real: -963383.8125, D Loss Fake: 64857.3125, G Loss: -161337.59375\n",
      "Epoch 549, D Loss Real: -982778.1875, D Loss Fake: 184229.796875, G Loss: -293517.84375\n",
      "Epoch 550, D Loss Real: -975971.4375, D Loss Fake: 275113.6875, G Loss: -363033.5\n",
      "Epoch 551, D Loss Real: -982133.4375, D Loss Fake: 337739.40625, G Loss: -410590.4375\n",
      "Epoch 552, D Loss Real: -982770.4375, D Loss Fake: 353976.3125, G Loss: -459552.875\n",
      "Epoch 553, D Loss Real: -981543.0625, D Loss Fake: 395925.4375, G Loss: -503656.09375\n",
      "Epoch 554, D Loss Real: -970671.625, D Loss Fake: 362457.875, G Loss: -478915.28125\n",
      "Epoch 555, D Loss Real: -954099.5625, D Loss Fake: 335099.6875, G Loss: -474428.59375\n",
      "Epoch 556, D Loss Real: -931296.25, D Loss Fake: 303433.59375, G Loss: -473315.28125\n",
      "Epoch 557, D Loss Real: -907743.625, D Loss Fake: 268069.625, G Loss: -453126.8125\n",
      "Epoch 558, D Loss Real: -871138.0, D Loss Fake: 227018.703125, G Loss: -418885.5625\n",
      "Epoch 559, D Loss Real: -832796.625, D Loss Fake: 174018.578125, G Loss: -366573.09375\n",
      "Epoch 560, D Loss Real: -801008.375, D Loss Fake: 110917.5390625, G Loss: -288201.6875\n",
      "Epoch 561, D Loss Real: -769570.375, D Loss Fake: 31143.75, G Loss: -198165.875\n",
      "Epoch 562, D Loss Real: -756835.5625, D Loss Fake: -90582.1015625, G Loss: -91822.7265625\n",
      "Epoch 563, D Loss Real: -726935.8125, D Loss Fake: -218456.515625, G Loss: 30345.126953125\n",
      "Epoch 564, D Loss Real: -710213.4375, D Loss Fake: -350783.28125, G Loss: 151420.109375\n",
      "Epoch 565, D Loss Real: -685970.3125, D Loss Fake: -438241.34375, G Loss: 271130.96875\n",
      "Epoch 566, D Loss Real: -651558.25, D Loss Fake: -494691.5625, G Loss: 360265.59375\n",
      "Epoch 567, D Loss Real: -622715.9375, D Loss Fake: -533949.5, G Loss: 428523.84375\n",
      "Epoch 568, D Loss Real: -584462.9375, D Loss Fake: -544693.0, G Loss: 465482.625\n",
      "Epoch 569, D Loss Real: -564872.125, D Loss Fake: -539346.1875, G Loss: 480657.625\n",
      "Epoch 570, D Loss Real: -548536.6875, D Loss Fake: -531467.125, G Loss: 487052.65625\n",
      "Epoch 571, D Loss Real: -500712.40625, D Loss Fake: -523599.34375, G Loss: 488671.875\n",
      "Epoch 572, D Loss Real: -463488.40625, D Loss Fake: -515232.0625, G Loss: 488812.0\n",
      "Epoch 573, D Loss Real: -435038.90625, D Loss Fake: -507688.8125, G Loss: 487770.4375\n",
      "Epoch 574, D Loss Real: -423359.5625, D Loss Fake: -500810.34375, G Loss: 486041.0\n",
      "Epoch 575, D Loss Real: -387645.21875, D Loss Fake: -494585.15625, G Loss: 484207.875\n",
      "Epoch 576, D Loss Real: -368788.5, D Loss Fake: -489388.15625, G Loss: 483646.28125\n",
      "Epoch 577, D Loss Real: -361381.34375, D Loss Fake: -485876.15625, G Loss: 484258.875\n",
      "Epoch 578, D Loss Real: -362007.96875, D Loss Fake: -484616.25, G Loss: 486700.71875\n",
      "Epoch 579, D Loss Real: -362230.46875, D Loss Fake: -486131.46875, G Loss: 490290.75\n"
     ]
    },
    {
     "name": "stdout",
     "output_type": "stream",
     "text": [
      "Epoch 580, D Loss Real: -364554.5, D Loss Fake: -488802.03125, G Loss: 495790.875\n",
      "Epoch 581, D Loss Real: -364849.71875, D Loss Fake: -492761.5625, G Loss: 502519.46875\n",
      "Epoch 582, D Loss Real: -366635.71875, D Loss Fake: -498911.21875, G Loss: 511046.875\n",
      "Epoch 583, D Loss Real: -369003.34375, D Loss Fake: -507385.65625, G Loss: 521639.875\n",
      "Epoch 584, D Loss Real: -381598.5625, D Loss Fake: -517598.40625, G Loss: 534203.125\n",
      "Epoch 585, D Loss Real: -392245.125, D Loss Fake: -529965.25, G Loss: 549037.0625\n",
      "Epoch 586, D Loss Real: -400368.75, D Loss Fake: -544949.125, G Loss: 566131.0\n",
      "Epoch 587, D Loss Real: -417892.1875, D Loss Fake: -561757.5625, G Loss: 585546.8125\n",
      "Epoch 588, D Loss Real: -437569.0, D Loss Fake: -582117.0625, G Loss: 607724.25\n",
      "Epoch 589, D Loss Real: -489144.5, D Loss Fake: -605712.125, G Loss: 633360.125\n",
      "Epoch 590, D Loss Real: -506395.40625, D Loss Fake: -631723.8125, G Loss: 661638.5625\n",
      "Epoch 591, D Loss Real: -587910.0625, D Loss Fake: -661092.4375, G Loss: 693404.0625\n",
      "Epoch 592, D Loss Real: -651431.3125, D Loss Fake: -693153.0, G Loss: 727702.1875\n",
      "Epoch 593, D Loss Real: -702055.875, D Loss Fake: -728095.0, G Loss: 764715.6875\n",
      "Epoch 594, D Loss Real: -773393.5625, D Loss Fake: -765226.5, G Loss: 803981.375\n",
      "Epoch 595, D Loss Real: -855153.3125, D Loss Fake: -803129.4375, G Loss: 844559.9375\n",
      "Epoch 596, D Loss Real: -939366.8125, D Loss Fake: -842699.6875, G Loss: 886565.125\n",
      "Epoch 597, D Loss Real: -1015030.8125, D Loss Fake: -883984.8125, G Loss: 929860.8125\n",
      "Epoch 598, D Loss Real: -1068961.875, D Loss Fake: -926569.375, G Loss: 974284.8125\n",
      "Epoch 599, D Loss Real: -1184563.625, D Loss Fake: -964164.5, G Loss: 1018405.5625\n",
      "Epoch 600, D Loss Real: -1304405.625, D Loss Fake: -881934.8125, G Loss: 1000062.75\n",
      "Epoch 601, D Loss Real: -1398497.0, D Loss Fake: -705121.5, G Loss: 878831.25\n",
      "Epoch 602, D Loss Real: -1515228.875, D Loss Fake: -491628.5625, G Loss: 706266.1875\n",
      "Epoch 603, D Loss Real: -1628363.75, D Loss Fake: -199871.953125, G Loss: 510559.3125\n",
      "Epoch 604, D Loss Real: -1757429.75, D Loss Fake: 82018.9609375, G Loss: 241433.421875\n",
      "Epoch 605, D Loss Real: -1825013.875, D Loss Fake: 297135.78125, G Loss: 7780.46875\n",
      "Epoch 606, D Loss Real: -1876299.5, D Loss Fake: 499935.3125, G Loss: -137751.59375\n",
      "Epoch 607, D Loss Real: -1914721.25, D Loss Fake: 699312.625, G Loss: -398133.21875\n",
      "Epoch 608, D Loss Real: -1979072.75, D Loss Fake: 950875.0, G Loss: -616149.6875\n",
      "Epoch 609, D Loss Real: -2063591.25, D Loss Fake: 1179840.0, G Loss: -826990.75\n",
      "Epoch 610, D Loss Real: -2126322.75, D Loss Fake: 1401009.5, G Loss: -1026866.0625\n",
      "Epoch 611, D Loss Real: -2177394.75, D Loss Fake: 1563574.125, G Loss: -1207000.25\n",
      "Epoch 612, D Loss Real: -2207449.0, D Loss Fake: 1732015.875, G Loss: -1321352.75\n",
      "Epoch 613, D Loss Real: -2242731.75, D Loss Fake: 1826335.5, G Loss: -1375188.0\n",
      "Epoch 614, D Loss Real: -2273488.25, D Loss Fake: 1860329.75, G Loss: -1469152.125\n",
      "Epoch 615, D Loss Real: -2293259.25, D Loss Fake: 1868421.375, G Loss: -1544107.0\n",
      "Epoch 616, D Loss Real: -2312179.75, D Loss Fake: 1909549.625, G Loss: -1573758.375\n",
      "Epoch 617, D Loss Real: -2355179.5, D Loss Fake: 1837225.875, G Loss: -1470708.625\n",
      "Epoch 618, D Loss Real: -2401337.5, D Loss Fake: 1736298.75, G Loss: -1395136.875\n",
      "Epoch 619, D Loss Real: -2447798.0, D Loss Fake: 1728493.0, G Loss: -1394038.25\n",
      "Epoch 620, D Loss Real: -2473492.25, D Loss Fake: 1631291.75, G Loss: -1409419.125\n",
      "Epoch 621, D Loss Real: -2506973.0, D Loss Fake: 1609104.5, G Loss: -1410170.0\n",
      "Epoch 622, D Loss Real: -2508359.25, D Loss Fake: 1613801.0, G Loss: -1432915.625\n",
      "Epoch 623, D Loss Real: -2570694.25, D Loss Fake: 1631130.25, G Loss: -1431040.25\n",
      "Epoch 624, D Loss Real: -2660037.5, D Loss Fake: 1621233.25, G Loss: -1383841.75\n",
      "Epoch 625, D Loss Real: -2758235.25, D Loss Fake: 1596842.375, G Loss: -1326535.5\n",
      "Epoch 626, D Loss Real: -2858948.75, D Loss Fake: 1594911.625, G Loss: -1277793.125\n",
      "Epoch 627, D Loss Real: -2964930.5, D Loss Fake: 1627718.125, G Loss: -1256797.875\n",
      "Epoch 628, D Loss Real: -3089084.5, D Loss Fake: 1672997.25, G Loss: -1274983.25\n",
      "Epoch 629, D Loss Real: -3184062.5, D Loss Fake: 1714830.625, G Loss: -1300791.0\n",
      "Epoch 630, D Loss Real: -3282030.25, D Loss Fake: 1741262.5, G Loss: -1301253.75\n",
      "Epoch 631, D Loss Real: -3389235.5, D Loss Fake: 1787071.0, G Loss: -1330025.375\n",
      "Epoch 632, D Loss Real: -3509027.25, D Loss Fake: 1835545.25, G Loss: -1357550.125\n",
      "Epoch 633, D Loss Real: -3621057.0, D Loss Fake: 1872005.25, G Loss: -1399322.125\n",
      "Epoch 634, D Loss Real: -3726636.0, D Loss Fake: 1907409.0, G Loss: -1442416.0\n",
      "Epoch 635, D Loss Real: -3838462.5, D Loss Fake: 1965083.125, G Loss: -1496691.0\n",
      "Epoch 636, D Loss Real: -3933669.0, D Loss Fake: 2016341.375, G Loss: -1536995.375\n",
      "Epoch 637, D Loss Real: -4033899.25, D Loss Fake: 2061136.5, G Loss: -1570982.375\n",
      "Epoch 638, D Loss Real: -4143285.0, D Loss Fake: 2138166.75, G Loss: -1638271.75\n",
      "Epoch 639, D Loss Real: -4233485.5, D Loss Fake: 2203365.5, G Loss: -1689901.75\n",
      "Epoch 640, D Loss Real: -4355262.0, D Loss Fake: 2292153.75, G Loss: -1750263.375\n",
      "Epoch 641, D Loss Real: -4473589.5, D Loss Fake: 2412175.25, G Loss: -1825805.375\n",
      "Epoch 642, D Loss Real: -4600780.0, D Loss Fake: 2517948.75, G Loss: -1907168.375\n",
      "Epoch 643, D Loss Real: -4706580.5, D Loss Fake: 2603867.5, G Loss: -1989154.75\n",
      "Epoch 644, D Loss Real: -4802077.0, D Loss Fake: 2693911.75, G Loss: -2065593.5\n",
      "Epoch 645, D Loss Real: -4887312.0, D Loss Fake: 2772550.25, G Loss: -2128920.0\n",
      "Epoch 646, D Loss Real: -4958387.0, D Loss Fake: 2834430.5, G Loss: -2176346.5\n",
      "Epoch 647, D Loss Real: -5022480.5, D Loss Fake: 2884812.75, G Loss: -2210915.25\n",
      "Epoch 648, D Loss Real: -5077386.0, D Loss Fake: 2920713.0, G Loss: -2232806.5\n",
      "Epoch 649, D Loss Real: -5121526.5, D Loss Fake: 2946351.25, G Loss: -2248235.5\n",
      "Epoch 650, D Loss Real: -5166122.5, D Loss Fake: 2968642.5, G Loss: -2262303.75\n",
      "Epoch 651, D Loss Real: -5225324.5, D Loss Fake: 2979413.5, G Loss: -2273909.5\n",
      "Epoch 652, D Loss Real: -5283664.5, D Loss Fake: 2988639.25, G Loss: -2281860.25\n",
      "Epoch 653, D Loss Real: -5362350.0, D Loss Fake: 2993417.5, G Loss: -2285068.0\n",
      "Epoch 654, D Loss Real: -5455837.5, D Loss Fake: 2993152.0, G Loss: -2282789.75\n",
      "Epoch 655, D Loss Real: -5542026.0, D Loss Fake: 2987536.5, G Loss: -2274172.25\n",
      "Epoch 656, D Loss Real: -5638570.0, D Loss Fake: 2975743.25, G Loss: -2259587.5\n",
      "Epoch 657, D Loss Real: -5721247.0, D Loss Fake: 2957346.75, G Loss: -2238766.0\n",
      "Epoch 658, D Loss Real: -5922964.5, D Loss Fake: 2933075.5, G Loss: -2211881.25\n",
      "Epoch 659, D Loss Real: -6001744.5, D Loss Fake: 2903927.5, G Loss: -2179395.25\n",
      "Epoch 660, D Loss Real: -6166321.0, D Loss Fake: 2868593.75, G Loss: -2140714.5\n",
      "Epoch 661, D Loss Real: -6320768.0, D Loss Fake: 2828043.5, G Loss: -2096636.0\n",
      "Epoch 662, D Loss Real: -6524340.5, D Loss Fake: 2782395.0, G Loss: -2047369.625\n",
      "Epoch 663, D Loss Real: -6749307.5, D Loss Fake: 2732384.75, G Loss: -1994143.0\n",
      "Epoch 664, D Loss Real: -7031139.0, D Loss Fake: 2679020.0, G Loss: -1937949.625\n",
      "Epoch 665, D Loss Real: -7270204.0, D Loss Fake: 2623576.5, G Loss: -1879716.0\n",
      "Epoch 666, D Loss Real: -7484105.0, D Loss Fake: 2566991.0, G Loss: -1819484.5\n",
      "Epoch 667, D Loss Real: -7780261.0, D Loss Fake: 2507317.25, G Loss: -1756923.375\n",
      "Epoch 668, D Loss Real: -8049776.5, D Loss Fake: 2446532.25, G Loss: -1692377.5\n",
      "Epoch 669, D Loss Real: -8542274.0, D Loss Fake: 2384120.0, G Loss: -1625477.5\n",
      "Epoch 670, D Loss Real: -8873572.0, D Loss Fake: 2319939.25, G Loss: -1556936.875\n",
      "Epoch 671, D Loss Real: -9079643.0, D Loss Fake: 2252547.25, G Loss: -1486578.25\n",
      "Epoch 672, D Loss Real: -9449968.0, D Loss Fake: 2184388.5, G Loss: -1414665.375\n",
      "Epoch 673, D Loss Real: -9745744.0, D Loss Fake: 2115795.0, G Loss: -1340694.75\n",
      "Epoch 674, D Loss Real: -10360245.0, D Loss Fake: 2103343.25, G Loss: -1281013.625\n",
      "Epoch 675, D Loss Real: -10785415.0, D Loss Fake: 2099817.5, G Loss: -1367747.75\n",
      "Epoch 676, D Loss Real: -11258057.0, D Loss Fake: 2118407.75, G Loss: -1624542.0\n",
      "Epoch 677, D Loss Real: -11886094.0, D Loss Fake: 2354819.25, G Loss: -2016105.375\n",
      "Epoch 678, D Loss Real: -12250672.0, D Loss Fake: 3226143.0, G Loss: -2498631.25\n",
      "Epoch 679, D Loss Real: -12731874.0, D Loss Fake: 4034107.5, G Loss: -3257454.25\n",
      "Epoch 680, D Loss Real: -13053532.0, D Loss Fake: 4952440.5, G Loss: -4282301.5\n",
      "Epoch 681, D Loss Real: -13502638.0, D Loss Fake: 6722154.5, G Loss: -5514846.5\n",
      "Epoch 682, D Loss Real: -13943201.0, D Loss Fake: 8352463.0, G Loss: -6713684.5\n"
     ]
    },
    {
     "name": "stdout",
     "output_type": "stream",
     "text": [
      "Epoch 683, D Loss Real: -14077347.0, D Loss Fake: 10065409.0, G Loss: -8015465.5\n",
      "Epoch 684, D Loss Real: -14318614.0, D Loss Fake: 11932956.0, G Loss: -9488702.0\n",
      "Epoch 685, D Loss Real: -14557372.0, D Loss Fake: 13650790.0, G Loss: -10939323.0\n",
      "Epoch 686, D Loss Real: -14772093.0, D Loss Fake: 15140618.0, G Loss: -12308480.0\n",
      "Epoch 687, D Loss Real: -14965147.0, D Loss Fake: 16426944.0, G Loss: -13556227.0\n",
      "Epoch 688, D Loss Real: -15194900.0, D Loss Fake: 17703992.0, G Loss: -14807695.0\n",
      "Epoch 689, D Loss Real: -15344888.0, D Loss Fake: 18918836.0, G Loss: -15959656.0\n",
      "Epoch 690, D Loss Real: -15555208.0, D Loss Fake: 19933940.0, G Loss: -16932598.0\n",
      "Epoch 691, D Loss Real: -15651605.0, D Loss Fake: 21175462.0, G Loss: -17917682.0\n",
      "Epoch 692, D Loss Real: -15835977.0, D Loss Fake: 21950416.0, G Loss: -18820770.0\n",
      "Epoch 693, D Loss Real: -15963568.0, D Loss Fake: 22665896.0, G Loss: -19605256.0\n",
      "Epoch 694, D Loss Real: -16085998.0, D Loss Fake: 23471832.0, G Loss: -20284988.0\n",
      "Epoch 695, D Loss Real: -16201150.0, D Loss Fake: 23972874.0, G Loss: -20737308.0\n",
      "Epoch 696, D Loss Real: -16340964.0, D Loss Fake: 24056702.0, G Loss: -21202420.0\n",
      "Epoch 697, D Loss Real: -16508331.0, D Loss Fake: 23827534.0, G Loss: -21488550.0\n",
      "Epoch 698, D Loss Real: -16650340.0, D Loss Fake: 23846926.0, G Loss: -21584160.0\n",
      "Epoch 699, D Loss Real: -16766063.0, D Loss Fake: 23648036.0, G Loss: -21429004.0\n",
      "Epoch 700, D Loss Real: -16904582.0, D Loss Fake: 23306340.0, G Loss: -21048062.0\n",
      "Epoch 701, D Loss Real: -16948248.0, D Loss Fake: 22763890.0, G Loss: -20442482.0\n",
      "Epoch 702, D Loss Real: -17049598.0, D Loss Fake: 22119976.0, G Loss: -19749636.0\n",
      "Epoch 703, D Loss Real: -17162300.0, D Loss Fake: 21611608.0, G Loss: -18961336.0\n",
      "Epoch 704, D Loss Real: -17238764.0, D Loss Fake: 20908188.0, G Loss: -18114774.0\n",
      "Epoch 705, D Loss Real: -17250798.0, D Loss Fake: 20311228.0, G Loss: -17339788.0\n",
      "Epoch 706, D Loss Real: -17316896.0, D Loss Fake: 19428050.0, G Loss: -16365877.0\n",
      "Epoch 707, D Loss Real: -17242114.0, D Loss Fake: 18451888.0, G Loss: -15664368.0\n",
      "Epoch 708, D Loss Real: -17224946.0, D Loss Fake: 17576100.0, G Loss: -15028137.0\n",
      "Epoch 709, D Loss Real: -17295534.0, D Loss Fake: 17207604.0, G Loss: -14644205.0\n",
      "Epoch 710, D Loss Real: -17387436.0, D Loss Fake: 17225338.0, G Loss: -14418804.0\n",
      "Epoch 711, D Loss Real: -17402350.0, D Loss Fake: 17284244.0, G Loss: -14225939.0\n",
      "Epoch 712, D Loss Real: -17181762.0, D Loss Fake: 17414836.0, G Loss: -14173845.0\n",
      "Epoch 713, D Loss Real: -17145256.0, D Loss Fake: 17635168.0, G Loss: -14264584.0\n",
      "Epoch 714, D Loss Real: -17212038.0, D Loss Fake: 17836054.0, G Loss: -14386914.0\n",
      "Epoch 715, D Loss Real: -17212312.0, D Loss Fake: 18137120.0, G Loss: -14603446.0\n",
      "Epoch 716, D Loss Real: -17322056.0, D Loss Fake: 18280144.0, G Loss: -14811609.0\n",
      "Epoch 717, D Loss Real: -17441416.0, D Loss Fake: 18555120.0, G Loss: -15059151.0\n",
      "Epoch 718, D Loss Real: -17543620.0, D Loss Fake: 18815694.0, G Loss: -15320194.0\n",
      "Epoch 719, D Loss Real: -17561130.0, D Loss Fake: 19083202.0, G Loss: -15571381.0\n",
      "Epoch 720, D Loss Real: -17683600.0, D Loss Fake: 19340050.0, G Loss: -15818604.0\n",
      "Epoch 721, D Loss Real: -17812296.0, D Loss Fake: 19590994.0, G Loss: -16063328.0\n",
      "Epoch 722, D Loss Real: -17998722.0, D Loss Fake: 19828360.0, G Loss: -16292922.0\n",
      "Epoch 723, D Loss Real: -18204514.0, D Loss Fake: 20030178.0, G Loss: -16463301.0\n",
      "Epoch 724, D Loss Real: -18419182.0, D Loss Fake: 20229964.0, G Loss: -16629376.0\n",
      "Epoch 725, D Loss Real: -18615170.0, D Loss Fake: 20397924.0, G Loss: -16770970.0\n",
      "Epoch 726, D Loss Real: -18812116.0, D Loss Fake: 20526532.0, G Loss: -16873510.0\n",
      "Epoch 727, D Loss Real: -18966830.0, D Loss Fake: 20613230.0, G Loss: -16931104.0\n",
      "Epoch 728, D Loss Real: -19099858.0, D Loss Fake: 20669196.0, G Loss: -16957948.0\n",
      "Epoch 729, D Loss Real: -19216024.0, D Loss Fake: 20692178.0, G Loss: -16962334.0\n",
      "Epoch 730, D Loss Real: -19332344.0, D Loss Fake: 20688762.0, G Loss: -16961736.0\n",
      "Epoch 731, D Loss Real: -19469944.0, D Loss Fake: 20681058.0, G Loss: -16955538.0\n",
      "Epoch 732, D Loss Real: -19580916.0, D Loss Fake: 20666588.0, G Loss: -16940630.0\n",
      "Epoch 733, D Loss Real: -19748178.0, D Loss Fake: 20643846.0, G Loss: -16916348.0\n",
      "Epoch 734, D Loss Real: -20072956.0, D Loss Fake: 20608838.0, G Loss: -16879140.0\n",
      "Epoch 735, D Loss Real: -20168808.0, D Loss Fake: 20561242.0, G Loss: -16829634.0\n",
      "Epoch 736, D Loss Real: -20395684.0, D Loss Fake: 20502296.0, G Loss: -16768447.0\n",
      "Epoch 737, D Loss Real: -20625370.0, D Loss Fake: 20432092.0, G Loss: -16695952.0\n",
      "Epoch 738, D Loss Real: -20901052.0, D Loss Fake: 20349948.0, G Loss: -16611110.0\n",
      "Epoch 739, D Loss Real: -21130676.0, D Loss Fake: 20253326.0, G Loss: -16513028.0\n",
      "Epoch 740, D Loss Real: -21325956.0, D Loss Fake: 20146094.0, G Loss: -16403645.0\n",
      "Epoch 741, D Loss Real: -21630372.0, D Loss Fake: 20027748.0, G Loss: -16282591.0\n",
      "Epoch 742, D Loss Real: -21861436.0, D Loss Fake: 19899978.0, G Loss: -16152070.0\n",
      "Epoch 743, D Loss Real: -22293762.0, D Loss Fake: 19764522.0, G Loss: -16014991.0\n",
      "Epoch 744, D Loss Real: -22525520.0, D Loss Fake: 19625662.0, G Loss: -15876994.0\n",
      "Epoch 745, D Loss Real: -22731768.0, D Loss Fake: 19533712.0, G Loss: -15787933.0\n",
      "Epoch 746, D Loss Real: -22949192.0, D Loss Fake: 19471702.0, G Loss: -15724067.0\n",
      "Epoch 747, D Loss Real: -23306932.0, D Loss Fake: 19399116.0, G Loss: -15834302.0\n",
      "Epoch 748, D Loss Real: -23722616.0, D Loss Fake: 19364534.0, G Loss: -16700215.0\n",
      "Epoch 749, D Loss Real: -24187824.0, D Loss Fake: 19974098.0, G Loss: -18300940.0\n",
      "Epoch 750, D Loss Real: -24886352.0, D Loss Fake: 21053286.0, G Loss: -20415524.0\n",
      "Epoch 751, D Loss Real: -25164546.0, D Loss Fake: 23254896.0, G Loss: -22499638.0\n",
      "Epoch 752, D Loss Real: -25677544.0, D Loss Fake: 25130878.0, G Loss: -24467272.0\n",
      "Epoch 753, D Loss Real: -26005004.0, D Loss Fake: 28512470.0, G Loss: -26664316.0\n",
      "Epoch 754, D Loss Real: -26467402.0, D Loss Fake: 31610154.0, G Loss: -28688908.0\n",
      "Epoch 755, D Loss Real: -26630182.0, D Loss Fake: 33546154.0, G Loss: -30188118.0\n",
      "Epoch 756, D Loss Real: -26923478.0, D Loss Fake: 35532204.0, G Loss: -31724144.0\n",
      "Epoch 757, D Loss Real: -27172940.0, D Loss Fake: 37281184.0, G Loss: -33010226.0\n",
      "Epoch 758, D Loss Real: -27333458.0, D Loss Fake: 38186568.0, G Loss: -33828864.0\n",
      "Epoch 759, D Loss Real: -27488638.0, D Loss Fake: 38646984.0, G Loss: -34459372.0\n",
      "Epoch 760, D Loss Real: -27591242.0, D Loss Fake: 38823388.0, G Loss: -34696376.0\n",
      "Epoch 761, D Loss Real: -27672894.0, D Loss Fake: 38951164.0, G Loss: -34792296.0\n",
      "Epoch 762, D Loss Real: -27687162.0, D Loss Fake: 38824048.0, G Loss: -34721152.0\n",
      "Epoch 763, D Loss Real: -27667118.0, D Loss Fake: 38492528.0, G Loss: -34467940.0\n",
      "Epoch 764, D Loss Real: -27599142.0, D Loss Fake: 37993164.0, G Loss: -34183148.0\n",
      "Epoch 765, D Loss Real: -27513190.0, D Loss Fake: 37772488.0, G Loss: -33962364.0\n",
      "Epoch 766, D Loss Real: -27443468.0, D Loss Fake: 37582472.0, G Loss: -33888012.0\n",
      "Epoch 767, D Loss Real: -27336758.0, D Loss Fake: 37455324.0, G Loss: -33782020.0\n",
      "Epoch 768, D Loss Real: -27252388.0, D Loss Fake: 37284944.0, G Loss: -33641584.0\n",
      "Epoch 769, D Loss Real: -27176076.0, D Loss Fake: 37262968.0, G Loss: -33606692.0\n",
      "Epoch 770, D Loss Real: -27081236.0, D Loss Fake: 37216140.0, G Loss: -33520596.0\n",
      "Epoch 771, D Loss Real: -26979444.0, D Loss Fake: 37031964.0, G Loss: -33510496.0\n",
      "Epoch 772, D Loss Real: -26882784.0, D Loss Fake: 36908528.0, G Loss: -33447798.0\n",
      "Epoch 773, D Loss Real: -26739424.0, D Loss Fake: 36810380.0, G Loss: -33364280.0\n",
      "Epoch 774, D Loss Real: -26631352.0, D Loss Fake: 36832592.0, G Loss: -33339056.0\n",
      "Epoch 775, D Loss Real: -26521962.0, D Loss Fake: 36779252.0, G Loss: -33339276.0\n",
      "Epoch 776, D Loss Real: -26394268.0, D Loss Fake: 36577452.0, G Loss: -33193730.0\n",
      "Epoch 777, D Loss Real: -26295010.0, D Loss Fake: 36517900.0, G Loss: -33098950.0\n",
      "Epoch 778, D Loss Real: -26237554.0, D Loss Fake: 36420668.0, G Loss: -33024844.0\n",
      "Epoch 779, D Loss Real: -26204328.0, D Loss Fake: 36322832.0, G Loss: -32943504.0\n",
      "Epoch 780, D Loss Real: -26227648.0, D Loss Fake: 36214764.0, G Loss: -32854856.0\n",
      "Epoch 781, D Loss Real: -26244190.0, D Loss Fake: 36105900.0, G Loss: -32759792.0\n",
      "Epoch 782, D Loss Real: -26291716.0, D Loss Fake: 36002724.0, G Loss: -32651350.0\n"
     ]
    },
    {
     "name": "stdout",
     "output_type": "stream",
     "text": [
      "Epoch 783, D Loss Real: -26435436.0, D Loss Fake: 35886712.0, G Loss: -32529274.0\n",
      "Epoch 784, D Loss Real: -26580212.0, D Loss Fake: 35754272.0, G Loss: -32392276.0\n",
      "Epoch 785, D Loss Real: -26842928.0, D Loss Fake: 35606412.0, G Loss: -32238988.0\n",
      "Epoch 786, D Loss Real: -27098508.0, D Loss Fake: 35445084.0, G Loss: -32070392.0\n",
      "Epoch 787, D Loss Real: -27226118.0, D Loss Fake: 35270940.0, G Loss: -31887644.0\n",
      "Epoch 788, D Loss Real: -27527954.0, D Loss Fake: 35078184.0, G Loss: -31689020.0\n",
      "Epoch 789, D Loss Real: -27926878.0, D Loss Fake: 34869504.0, G Loss: -31474030.0\n",
      "Epoch 790, D Loss Real: -27979424.0, D Loss Fake: 34648128.0, G Loss: -31245746.0\n",
      "Epoch 791, D Loss Real: -28355022.0, D Loss Fake: 34409696.0, G Loss: -30999428.0\n",
      "Epoch 792, D Loss Real: -28722908.0, D Loss Fake: 34147652.0, G Loss: -30720284.0\n",
      "Epoch 793, D Loss Real: -29076712.0, D Loss Fake: 33858824.0, G Loss: -30418712.0\n",
      "Epoch 794, D Loss Real: -29454812.0, D Loss Fake: 33544078.0, G Loss: -30091924.0\n",
      "Epoch 795, D Loss Real: -29858734.0, D Loss Fake: 33209984.0, G Loss: -29744778.0\n",
      "Epoch 796, D Loss Real: -30393884.0, D Loss Fake: 32856644.0, G Loss: -29378748.0\n",
      "Epoch 797, D Loss Real: -31019724.0, D Loss Fake: 32486842.0, G Loss: -28996600.0\n",
      "Epoch 798, D Loss Real: -31751938.0, D Loss Fake: 32103182.0, G Loss: -28604896.0\n",
      "Epoch 799, D Loss Real: -32344564.0, D Loss Fake: 31721094.0, G Loss: -28222406.0\n",
      "Epoch 800, D Loss Real: -33231034.0, D Loss Fake: 31350406.0, G Loss: -27918838.0\n",
      "Epoch 801, D Loss Real: -34021524.0, D Loss Fake: 31050210.0, G Loss: -28004870.0\n",
      "Epoch 802, D Loss Real: -34692636.0, D Loss Fake: 32159430.0, G Loss: -29531464.0\n",
      "Epoch 803, D Loss Real: -35143448.0, D Loss Fake: 32790362.0, G Loss: -33357888.0\n",
      "Epoch 804, D Loss Real: -35691772.0, D Loss Fake: 34684036.0, G Loss: -37227164.0\n",
      "Epoch 805, D Loss Real: -35858624.0, D Loss Fake: 37408244.0, G Loss: -41515124.0\n",
      "Epoch 806, D Loss Real: -36331524.0, D Loss Fake: 41847180.0, G Loss: -45775316.0\n",
      "Epoch 807, D Loss Real: -36716292.0, D Loss Fake: 45463608.0, G Loss: -49714612.0\n",
      "Epoch 808, D Loss Real: -37219908.0, D Loss Fake: 49217644.0, G Loss: -53154616.0\n",
      "Epoch 809, D Loss Real: -37434000.0, D Loss Fake: 52947884.0, G Loss: -56380668.0\n",
      "Epoch 810, D Loss Real: -37712176.0, D Loss Fake: 57048084.0, G Loss: -59140004.0\n",
      "Epoch 811, D Loss Real: -38031452.0, D Loss Fake: 59888792.0, G Loss: -61683912.0\n",
      "Epoch 812, D Loss Real: -38323140.0, D Loss Fake: 61965140.0, G Loss: -63518576.0\n",
      "Epoch 813, D Loss Real: -38534488.0, D Loss Fake: 63755340.0, G Loss: -64625084.0\n",
      "Epoch 814, D Loss Real: -38764208.0, D Loss Fake: 64602196.0, G Loss: -65178436.0\n",
      "Epoch 815, D Loss Real: -38883796.0, D Loss Fake: 64579616.0, G Loss: -65049092.0\n",
      "Epoch 816, D Loss Real: -38927524.0, D Loss Fake: 63647276.0, G Loss: -64263272.0\n",
      "Epoch 817, D Loss Real: -38936176.0, D Loss Fake: 62634448.0, G Loss: -62994208.0\n",
      "Epoch 818, D Loss Real: -38899836.0, D Loss Fake: 60784860.0, G Loss: -61285688.0\n",
      "Epoch 819, D Loss Real: -38806956.0, D Loss Fake: 59092692.0, G Loss: -59753136.0\n",
      "Epoch 820, D Loss Real: -38688796.0, D Loss Fake: 57072236.0, G Loss: -58127440.0\n",
      "Epoch 821, D Loss Real: -38483464.0, D Loss Fake: 55658612.0, G Loss: -56656716.0\n",
      "Epoch 822, D Loss Real: -38285040.0, D Loss Fake: 54117868.0, G Loss: -55337288.0\n",
      "Epoch 823, D Loss Real: -38063108.0, D Loss Fake: 52963212.0, G Loss: -53894488.0\n",
      "Epoch 824, D Loss Real: -37857480.0, D Loss Fake: 52057756.0, G Loss: -52446124.0\n",
      "Epoch 825, D Loss Real: -37648388.0, D Loss Fake: 51626732.0, G Loss: -51260512.0\n",
      "Epoch 826, D Loss Real: -37335128.0, D Loss Fake: 51113312.0, G Loss: -50398348.0\n",
      "Epoch 827, D Loss Real: -37055632.0, D Loss Fake: 50809904.0, G Loss: -49418976.0\n",
      "Epoch 828, D Loss Real: -36847908.0, D Loss Fake: 50217464.0, G Loss: -48581472.0\n",
      "Epoch 829, D Loss Real: -36618540.0, D Loss Fake: 50029852.0, G Loss: -48074956.0\n",
      "Epoch 830, D Loss Real: -36321020.0, D Loss Fake: 49476892.0, G Loss: -47565836.0\n",
      "Epoch 831, D Loss Real: -36066664.0, D Loss Fake: 49243200.0, G Loss: -47247892.0\n",
      "Epoch 832, D Loss Real: -35807720.0, D Loss Fake: 49061508.0, G Loss: -47000312.0\n",
      "Epoch 833, D Loss Real: -35660268.0, D Loss Fake: 48895420.0, G Loss: -46822004.0\n",
      "Epoch 834, D Loss Real: -35523228.0, D Loss Fake: 48692236.0, G Loss: -46630688.0\n",
      "Epoch 835, D Loss Real: -35410992.0, D Loss Fake: 48479596.0, G Loss: -46468640.0\n",
      "Epoch 836, D Loss Real: -35329752.0, D Loss Fake: 48218792.0, G Loss: -46310532.0\n",
      "Epoch 837, D Loss Real: -35264704.0, D Loss Fake: 48082960.0, G Loss: -46177128.0\n",
      "Epoch 838, D Loss Real: -35257244.0, D Loss Fake: 47915216.0, G Loss: -46027500.0\n",
      "Epoch 839, D Loss Real: -35224844.0, D Loss Fake: 47776752.0, G Loss: -45881884.0\n",
      "Epoch 840, D Loss Real: -35249056.0, D Loss Fake: 47614708.0, G Loss: -45744316.0\n",
      "Epoch 841, D Loss Real: -35206920.0, D Loss Fake: 47490012.0, G Loss: -45605760.0\n",
      "Epoch 842, D Loss Real: -35243732.0, D Loss Fake: 47345072.0, G Loss: -45450740.0\n",
      "Epoch 843, D Loss Real: -35235308.0, D Loss Fake: 47082604.0, G Loss: -45316360.0\n",
      "Epoch 844, D Loss Real: -35231960.0, D Loss Fake: 46699496.0, G Loss: -45153944.0\n",
      "Epoch 845, D Loss Real: -35217152.0, D Loss Fake: 46514384.0, G Loss: -45016256.0\n",
      "Epoch 846, D Loss Real: -35307632.0, D Loss Fake: 46386096.0, G Loss: -44857960.0\n",
      "Epoch 847, D Loss Real: -35343372.0, D Loss Fake: 46176392.0, G Loss: -44691216.0\n",
      "Epoch 848, D Loss Real: -35348988.0, D Loss Fake: 45987380.0, G Loss: -44486684.0\n",
      "Epoch 849, D Loss Real: -35357980.0, D Loss Fake: 45831580.0, G Loss: -44330752.0\n",
      "Epoch 850, D Loss Real: -35358980.0, D Loss Fake: 45656884.0, G Loss: -44148180.0\n",
      "Epoch 851, D Loss Real: -35388508.0, D Loss Fake: 45482764.0, G Loss: -43996776.0\n",
      "Epoch 852, D Loss Real: -35405184.0, D Loss Fake: 45304628.0, G Loss: -43818576.0\n",
      "Epoch 853, D Loss Real: -35494548.0, D Loss Fake: 45022436.0, G Loss: -43590196.0\n",
      "Epoch 854, D Loss Real: -35496912.0, D Loss Fake: 44847760.0, G Loss: -43379504.0\n",
      "Epoch 855, D Loss Real: -35668904.0, D Loss Fake: 44646736.0, G Loss: -43200580.0\n",
      "Epoch 856, D Loss Real: -35742416.0, D Loss Fake: 44460356.0, G Loss: -43001156.0\n",
      "Epoch 857, D Loss Real: -35870812.0, D Loss Fake: 44274796.0, G Loss: -42783056.0\n",
      "Epoch 858, D Loss Real: -35878852.0, D Loss Fake: 44095716.0, G Loss: -42534064.0\n",
      "Epoch 859, D Loss Real: -35990248.0, D Loss Fake: 43890260.0, G Loss: -42321352.0\n",
      "Epoch 860, D Loss Real: -36017716.0, D Loss Fake: 43699924.0, G Loss: -42072344.0\n",
      "Epoch 861, D Loss Real: -36082776.0, D Loss Fake: 43472636.0, G Loss: -41844664.0\n",
      "Epoch 862, D Loss Real: -36115596.0, D Loss Fake: 43231328.0, G Loss: -41608916.0\n",
      "Epoch 863, D Loss Real: -36252068.0, D Loss Fake: 42997376.0, G Loss: -41339064.0\n",
      "Epoch 864, D Loss Real: -36271680.0, D Loss Fake: 42762284.0, G Loss: -41085584.0\n",
      "Epoch 865, D Loss Real: -36363148.0, D Loss Fake: 42546596.0, G Loss: -40837524.0\n",
      "Epoch 866, D Loss Real: -36465856.0, D Loss Fake: 42272868.0, G Loss: -40576360.0\n",
      "Epoch 867, D Loss Real: -36605156.0, D Loss Fake: 41986788.0, G Loss: -40290756.0\n",
      "Epoch 868, D Loss Real: -36479180.0, D Loss Fake: 41715328.0, G Loss: -40033720.0\n",
      "Epoch 869, D Loss Real: -36563636.0, D Loss Fake: 41393084.0, G Loss: -39705060.0\n",
      "Epoch 870, D Loss Real: -36627656.0, D Loss Fake: 41053248.0, G Loss: -39347444.0\n",
      "Epoch 871, D Loss Real: -36886396.0, D Loss Fake: 40747188.0, G Loss: -39009968.0\n",
      "Epoch 872, D Loss Real: -37015112.0, D Loss Fake: 40405764.0, G Loss: -38686212.0\n",
      "Epoch 873, D Loss Real: -37278268.0, D Loss Fake: 40151212.0, G Loss: -38354916.0\n",
      "Epoch 874, D Loss Real: -37644632.0, D Loss Fake: 39806060.0, G Loss: -38051408.0\n",
      "Epoch 875, D Loss Real: -37714588.0, D Loss Fake: 39519480.0, G Loss: -37734560.0\n",
      "Epoch 876, D Loss Real: -37874732.0, D Loss Fake: 39360424.0, G Loss: -37483996.0\n",
      "Epoch 877, D Loss Real: -38399652.0, D Loss Fake: 39134612.0, G Loss: -37204028.0\n",
      "Epoch 878, D Loss Real: -38832608.0, D Loss Fake: 38826752.0, G Loss: -36956276.0\n",
      "Epoch 879, D Loss Real: -38889604.0, D Loss Fake: 38521108.0, G Loss: -36683800.0\n",
      "Epoch 880, D Loss Real: -38939152.0, D Loss Fake: 38219080.0, G Loss: -36436064.0\n",
      "Epoch 881, D Loss Real: -39190476.0, D Loss Fake: 37841356.0, G Loss: -36050052.0\n",
      "Epoch 882, D Loss Real: -39410136.0, D Loss Fake: 37537916.0, G Loss: -35855080.0\n",
      "Epoch 883, D Loss Real: -39651504.0, D Loss Fake: 37385856.0, G Loss: -35716816.0\n"
     ]
    },
    {
     "name": "stdout",
     "output_type": "stream",
     "text": [
      "Epoch 884, D Loss Real: -40121940.0, D Loss Fake: 37011492.0, G Loss: -35276480.0\n",
      "Epoch 885, D Loss Real: -40196868.0, D Loss Fake: 36328252.0, G Loss: -34751896.0\n",
      "Epoch 886, D Loss Real: -40350268.0, D Loss Fake: 35781144.0, G Loss: -34612440.0\n",
      "Epoch 887, D Loss Real: -40683948.0, D Loss Fake: 35657356.0, G Loss: -34440428.0\n",
      "Epoch 888, D Loss Real: -40883820.0, D Loss Fake: 35620476.0, G Loss: -34378728.0\n",
      "Epoch 889, D Loss Real: -41260724.0, D Loss Fake: 35580036.0, G Loss: -34212188.0\n",
      "Epoch 890, D Loss Real: -41640764.0, D Loss Fake: 35125252.0, G Loss: -34015060.0\n",
      "Epoch 891, D Loss Real: -41786456.0, D Loss Fake: 34887768.0, G Loss: -33976624.0\n",
      "Epoch 892, D Loss Real: -42023220.0, D Loss Fake: 34895856.0, G Loss: -33889276.0\n",
      "Epoch 893, D Loss Real: -42198636.0, D Loss Fake: 34505524.0, G Loss: -33509260.0\n",
      "Epoch 894, D Loss Real: -42638856.0, D Loss Fake: 34443268.0, G Loss: -33378848.0\n",
      "Epoch 895, D Loss Real: -43058912.0, D Loss Fake: 34378140.0, G Loss: -33296148.0\n",
      "Epoch 896, D Loss Real: -43422212.0, D Loss Fake: 34403804.0, G Loss: -33294814.0\n",
      "Epoch 897, D Loss Real: -43744184.0, D Loss Fake: 33925552.0, G Loss: -32776808.0\n",
      "Epoch 898, D Loss Real: -44168012.0, D Loss Fake: 34015104.0, G Loss: -32737400.0\n",
      "Epoch 899, D Loss Real: -44667232.0, D Loss Fake: 33866648.0, G Loss: -32509922.0\n",
      "Epoch 900, D Loss Real: -45084496.0, D Loss Fake: 33736424.0, G Loss: -32420944.0\n",
      "Epoch 901, D Loss Real: -45691004.0, D Loss Fake: 33440174.0, G Loss: -32463860.0\n",
      "Epoch 902, D Loss Real: -46185168.0, D Loss Fake: 33427628.0, G Loss: -32378094.0\n",
      "Epoch 903, D Loss Real: -46791916.0, D Loss Fake: 33511242.0, G Loss: -32422458.0\n",
      "Epoch 904, D Loss Real: -47400848.0, D Loss Fake: 33348310.0, G Loss: -32357280.0\n",
      "Epoch 905, D Loss Real: -47818052.0, D Loss Fake: 33127612.0, G Loss: -32430114.0\n",
      "Epoch 906, D Loss Real: -48375940.0, D Loss Fake: 32882530.0, G Loss: -32485918.0\n",
      "Epoch 907, D Loss Real: -48975116.0, D Loss Fake: 32006220.0, G Loss: -32400156.0\n",
      "Epoch 908, D Loss Real: -49527660.0, D Loss Fake: 31997354.0, G Loss: -32354390.0\n",
      "Epoch 909, D Loss Real: -50170540.0, D Loss Fake: 31960842.0, G Loss: -32357038.0\n",
      "Epoch 910, D Loss Real: -50994352.0, D Loss Fake: 31994394.0, G Loss: -32352306.0\n",
      "Epoch 911, D Loss Real: -51525544.0, D Loss Fake: 32128804.0, G Loss: -32397736.0\n",
      "Epoch 912, D Loss Real: -52233652.0, D Loss Fake: 32280776.0, G Loss: -32474884.0\n",
      "Epoch 913, D Loss Real: -52940552.0, D Loss Fake: 31861068.0, G Loss: -32536336.0\n",
      "Epoch 914, D Loss Real: -53757128.0, D Loss Fake: 31997376.0, G Loss: -32683400.0\n",
      "Epoch 915, D Loss Real: -54467992.0, D Loss Fake: 32211278.0, G Loss: -32882122.0\n",
      "Epoch 916, D Loss Real: -55224596.0, D Loss Fake: 32189542.0, G Loss: -32762512.0\n",
      "Epoch 917, D Loss Real: -55997676.0, D Loss Fake: 32236974.0, G Loss: -32916280.0\n",
      "Epoch 918, D Loss Real: -56916220.0, D Loss Fake: 32614518.0, G Loss: -33320932.0\n",
      "Epoch 919, D Loss Real: -57484328.0, D Loss Fake: 32985300.0, G Loss: -33637216.0\n",
      "Epoch 920, D Loss Real: -57876608.0, D Loss Fake: 33134102.0, G Loss: -33660488.0\n",
      "Epoch 921, D Loss Real: -58975772.0, D Loss Fake: 33729068.0, G Loss: -34070072.0\n",
      "Epoch 922, D Loss Real: -59723156.0, D Loss Fake: 34145464.0, G Loss: -34432368.0\n",
      "Epoch 923, D Loss Real: -60536180.0, D Loss Fake: 34660152.0, G Loss: -34746064.0\n",
      "Epoch 924, D Loss Real: -61148292.0, D Loss Fake: 35566636.0, G Loss: -35278044.0\n",
      "Epoch 925, D Loss Real: -62020576.0, D Loss Fake: 36003584.0, G Loss: -35862268.0\n",
      "Epoch 926, D Loss Real: -62681092.0, D Loss Fake: 36666672.0, G Loss: -36117964.0\n",
      "Epoch 927, D Loss Real: -63247516.0, D Loss Fake: 37269640.0, G Loss: -36697176.0\n",
      "Epoch 928, D Loss Real: -63999004.0, D Loss Fake: 37490248.0, G Loss: -37195596.0\n",
      "Epoch 929, D Loss Real: -64620308.0, D Loss Fake: 38155228.0, G Loss: -37768360.0\n",
      "Epoch 930, D Loss Real: -65188528.0, D Loss Fake: 38725532.0, G Loss: -38300292.0\n",
      "Epoch 931, D Loss Real: -65745692.0, D Loss Fake: 39656344.0, G Loss: -38962892.0\n",
      "Epoch 932, D Loss Real: -66255636.0, D Loss Fake: 40380568.0, G Loss: -39492508.0\n",
      "Epoch 933, D Loss Real: -66638488.0, D Loss Fake: 40826132.0, G Loss: -40018812.0\n",
      "Epoch 934, D Loss Real: -67034420.0, D Loss Fake: 40472916.0, G Loss: -40464740.0\n",
      "Epoch 935, D Loss Real: -67302552.0, D Loss Fake: 40855712.0, G Loss: -40954336.0\n",
      "Epoch 936, D Loss Real: -67496008.0, D Loss Fake: 40832288.0, G Loss: -41267152.0\n",
      "Epoch 937, D Loss Real: -67683248.0, D Loss Fake: 41171312.0, G Loss: -41617272.0\n",
      "Epoch 938, D Loss Real: -67805264.0, D Loss Fake: 41100996.0, G Loss: -41992584.0\n",
      "Epoch 939, D Loss Real: -67948400.0, D Loss Fake: 41563460.0, G Loss: -42219160.0\n",
      "Epoch 940, D Loss Real: -68090344.0, D Loss Fake: 42048684.0, G Loss: -42652060.0\n",
      "Epoch 941, D Loss Real: -68398720.0, D Loss Fake: 42330348.0, G Loss: -42741420.0\n",
      "Epoch 942, D Loss Real: -68720760.0, D Loss Fake: 42778688.0, G Loss: -43230784.0\n",
      "Epoch 943, D Loss Real: -68975608.0, D Loss Fake: 42921380.0, G Loss: -43706432.0\n",
      "Epoch 944, D Loss Real: -69176008.0, D Loss Fake: 43319652.0, G Loss: -44000500.0\n",
      "Epoch 945, D Loss Real: -69499592.0, D Loss Fake: 43677016.0, G Loss: -44328448.0\n",
      "Epoch 946, D Loss Real: -69766560.0, D Loss Fake: 44105292.0, G Loss: -44740808.0\n",
      "Epoch 947, D Loss Real: -70128384.0, D Loss Fake: 44731828.0, G Loss: -45180592.0\n",
      "Epoch 948, D Loss Real: -70376072.0, D Loss Fake: 44777540.0, G Loss: -45039068.0\n",
      "Epoch 949, D Loss Real: -70749592.0, D Loss Fake: 45050732.0, G Loss: -45208896.0\n",
      "Epoch 950, D Loss Real: -71066280.0, D Loss Fake: 45400864.0, G Loss: -45419012.0\n",
      "Epoch 951, D Loss Real: -71398416.0, D Loss Fake: 45726592.0, G Loss: -45670108.0\n",
      "Epoch 952, D Loss Real: -71770240.0, D Loss Fake: 46107212.0, G Loss: -45950452.0\n",
      "Epoch 953, D Loss Real: -72003960.0, D Loss Fake: 46157640.0, G Loss: -45782692.0\n",
      "Epoch 954, D Loss Real: -72303440.0, D Loss Fake: 46473828.0, G Loss: -45908020.0\n",
      "Epoch 955, D Loss Real: -72515504.0, D Loss Fake: 46529592.0, G Loss: -46181484.0\n",
      "Epoch 956, D Loss Real: -72646048.0, D Loss Fake: 46208724.0, G Loss: -45487252.0\n",
      "Epoch 957, D Loss Real: -72871600.0, D Loss Fake: 46406752.0, G Loss: -45631720.0\n",
      "Epoch 958, D Loss Real: -73110168.0, D Loss Fake: 46597420.0, G Loss: -45925276.0\n",
      "Epoch 959, D Loss Real: -73345704.0, D Loss Fake: 46616104.0, G Loss: -45718120.0\n",
      "Epoch 960, D Loss Real: -73584384.0, D Loss Fake: 46868928.0, G Loss: -45624096.0\n",
      "Epoch 961, D Loss Real: -73771720.0, D Loss Fake: 46955644.0, G Loss: -45755956.0\n",
      "Epoch 962, D Loss Real: -73922944.0, D Loss Fake: 46795300.0, G Loss: -45627388.0\n",
      "Epoch 963, D Loss Real: -74105344.0, D Loss Fake: 46810900.0, G Loss: -45447704.0\n",
      "Epoch 964, D Loss Real: -74292408.0, D Loss Fake: 46729984.0, G Loss: -45353128.0\n",
      "Epoch 965, D Loss Real: -74490232.0, D Loss Fake: 46430536.0, G Loss: -45126692.0\n",
      "Epoch 966, D Loss Real: -74678896.0, D Loss Fake: 46310952.0, G Loss: -45075424.0\n",
      "Epoch 967, D Loss Real: -74863472.0, D Loss Fake: 46327764.0, G Loss: -44938932.0\n",
      "Epoch 968, D Loss Real: -75010568.0, D Loss Fake: 46299096.0, G Loss: -44841736.0\n",
      "Epoch 969, D Loss Real: -75181024.0, D Loss Fake: 46232000.0, G Loss: -44850268.0\n",
      "Epoch 970, D Loss Real: -75332600.0, D Loss Fake: 46158624.0, G Loss: -44750020.0\n",
      "Epoch 971, D Loss Real: -75451688.0, D Loss Fake: 46133492.0, G Loss: -44709736.0\n",
      "Epoch 972, D Loss Real: -75593920.0, D Loss Fake: 46155960.0, G Loss: -44669004.0\n",
      "Epoch 973, D Loss Real: -75724712.0, D Loss Fake: 46067376.0, G Loss: -44469304.0\n",
      "Epoch 974, D Loss Real: -75853200.0, D Loss Fake: 45910008.0, G Loss: -44436856.0\n",
      "Epoch 975, D Loss Real: -75978488.0, D Loss Fake: 45842084.0, G Loss: -44412556.0\n",
      "Epoch 976, D Loss Real: -76112616.0, D Loss Fake: 45726536.0, G Loss: -44184612.0\n",
      "Epoch 977, D Loss Real: -76196736.0, D Loss Fake: 45487680.0, G Loss: -43797432.0\n",
      "Epoch 978, D Loss Real: -76315832.0, D Loss Fake: 45201088.0, G Loss: -43499036.0\n",
      "Epoch 979, D Loss Real: -76436448.0, D Loss Fake: 44847316.0, G Loss: -43397872.0\n",
      "Epoch 980, D Loss Real: -76576424.0, D Loss Fake: 44624144.0, G Loss: -43051196.0\n",
      "Epoch 981, D Loss Real: -76655928.0, D Loss Fake: 44456808.0, G Loss: -42913216.0\n",
      "Epoch 982, D Loss Real: -76715504.0, D Loss Fake: 44285248.0, G Loss: -42380056.0\n",
      "Epoch 983, D Loss Real: -76858912.0, D Loss Fake: 43878152.0, G Loss: -42094968.0\n"
     ]
    },
    {
     "name": "stdout",
     "output_type": "stream",
     "text": [
      "Epoch 984, D Loss Real: -76932696.0, D Loss Fake: 43588552.0, G Loss: -41876448.0\n",
      "Epoch 985, D Loss Real: -77046840.0, D Loss Fake: 43366436.0, G Loss: -41685896.0\n",
      "Epoch 986, D Loss Real: -77145968.0, D Loss Fake: 43120696.0, G Loss: -41518932.0\n",
      "Epoch 987, D Loss Real: -77218408.0, D Loss Fake: 42693520.0, G Loss: -41178544.0\n",
      "Epoch 988, D Loss Real: -77316960.0, D Loss Fake: 42373876.0, G Loss: -40963508.0\n",
      "Epoch 989, D Loss Real: -77456528.0, D Loss Fake: 42136000.0, G Loss: -40785568.0\n",
      "Epoch 990, D Loss Real: -77529936.0, D Loss Fake: 42025456.0, G Loss: -40581004.0\n",
      "Epoch 991, D Loss Real: -77582248.0, D Loss Fake: 41837656.0, G Loss: -40177492.0\n",
      "Epoch 992, D Loss Real: -77686016.0, D Loss Fake: 41556772.0, G Loss: -39896684.0\n",
      "Epoch 993, D Loss Real: -77762616.0, D Loss Fake: 41400480.0, G Loss: -39607488.0\n",
      "Epoch 994, D Loss Real: -77843216.0, D Loss Fake: 41103168.0, G Loss: -39390088.0\n",
      "Epoch 995, D Loss Real: -77930424.0, D Loss Fake: 40598516.0, G Loss: -38668204.0\n",
      "Epoch 996, D Loss Real: -77963592.0, D Loss Fake: 40138852.0, G Loss: -38336432.0\n",
      "Epoch 997, D Loss Real: -78035320.0, D Loss Fake: 39870620.0, G Loss: -38077372.0\n",
      "Epoch 998, D Loss Real: -78149000.0, D Loss Fake: 39607436.0, G Loss: -37810124.0\n",
      "Epoch 999, D Loss Real: -78216040.0, D Loss Fake: 39463912.0, G Loss: -37520444.0\n"
     ]
    }
   ],
   "source": [
    "def wasserstein_loss(y_true, y_pred):\n",
    "    return K.mean(y_true * y_pred)\n",
    "\n",
    "# Define the generator network\n",
    "def build_generator(noise_dim):\n",
    "    model = Sequential()\n",
    "    model.add(Dense(128, input_dim=noise_dim))\n",
    "    model.add(LeakyReLU(alpha=0.2))\n",
    "    model.add(BatchNormalization(momentum=0.8))\n",
    "    model.add(Dense(64))\n",
    "    model.add(LeakyReLU(alpha=0.2))\n",
    "    model.add(BatchNormalization(momentum=0.8))\n",
    "    model.add(Dense(32))\n",
    "    model.add(LeakyReLU(alpha=0.2))\n",
    "    model.add(BatchNormalization(momentum=0.8))\n",
    "    model.add(Dense(16))\n",
    "    model.add(LeakyReLU(alpha=0.2))\n",
    "    model.add(BatchNormalization(momentum=0.8))\n",
    "    model.add(Dense(4, activation='sigmoid'))  # Adjust the output dimensions based on your dataset\n",
    "    return model\n",
    "\n",
    "# Define the discriminator network\n",
    "def build_discriminator(input_dim):\n",
    "    model = Sequential()\n",
    "    model.add(Dense(128, input_dim=input_dim))\n",
    "    model.add(LeakyReLU(alpha=0.2))\n",
    "    model.add(Dense(64, input_dim=input_dim))\n",
    "    model.add(LeakyReLU(alpha=0.2))\n",
    "    model.add(Dense(32))\n",
    "    model.add(LeakyReLU(alpha=0.2))\n",
    "    model.add(Dense(16))\n",
    "    model.add(LeakyReLU(alpha=0.2))\n",
    "    model.add(Dense(1))\n",
    "    return model\n",
    "\n",
    "# Build and compile the generator and discriminator\n",
    "noise_dim = 54 # Adjust the noise dimension as needed\n",
    "generator = build_generator(noise_dim)\n",
    "discriminator = build_discriminator(4)  # Assuming 4 input features, adjust as needed\n",
    "\n",
    "# Compile the discriminator\n",
    "discriminator.compile(optimizer=RMSprop(learning_rate=0.01), loss=wasserstein_loss)\n",
    "\n",
    "# Freeze the discriminator during generator training\n",
    "discriminator.trainable = False\n",
    "\n",
    "# Build the WGAN model\n",
    "z = Input(shape=(noise_dim,))\n",
    "generated_sample = generator(z)\n",
    "validity = discriminator(generated_sample)\n",
    "\n",
    "wgan = Model(z, validity)\n",
    "wgan.compile(optimizer=RMSprop(learning_rate=0.01), loss=wasserstein_loss)\n",
    "\n",
    "# Train the WGAN\n",
    "# Implement the training logic for the WGAN\n",
    "# You'll need to train the generator and discriminator in an alternating fashion\n",
    "# For simplicity, let's assume a function 'train_wgan()' to handle this\n",
    "# The train_wgan() function should return the trained generator\n",
    "\n",
    "# Train the WGAN\n",
    "import pandas as pd\n",
    "import numpy as np\n",
    "\n",
    "\n",
    "def train_wgan(generator, discriminator, wgan, data, noise_dim, epochs, batch_size):\n",
    "    # Convert data to a numpy array if it's a DataFrame\n",
    "    if isinstance(data, pd.DataFrame):\n",
    "        data = data.values\n",
    "    d_losses_real = []\n",
    "    d_losses_fake = []\n",
    "    g_losses = []\n",
    "    for epoch in range(epochs):\n",
    "        \n",
    "        \n",
    "        for _ in range(5):  # Train the discriminator more times than the generator\n",
    "            idx = np.random.randint(0, data.shape[0], batch_size)\n",
    "            real_samples = data[idx]\n",
    "\n",
    "            noise = np.random.randn(batch_size, noise_dim)\n",
    "            fake_samples = generator.predict(noise)\n",
    "\n",
    "            # Compute Wasserstein loss for the discriminator\n",
    "            disc_loss_real = discriminator.train_on_batch(real_samples, -np.ones((batch_size, 1)))\n",
    "            disc_loss_fake = discriminator.train_on_batch(fake_samples, np.ones((batch_size, 1)))\n",
    "            \n",
    "        \n",
    "        noise = np.random.randn(batch_size, noise_dim)\n",
    "        gen_loss = wgan.train_on_batch(noise, -np.ones((batch_size, 1)))\n",
    "        g_losses.append(gen_loss)\n",
    "        d_losses_real.append(disc_loss_real)\n",
    "        d_losses_fake.append(disc_loss_fake)\n",
    "        \n",
    "        # Print progress\n",
    "        print(f\"Epoch {epoch}, D Loss Real: {np.mean(d_losses_real)}, D Loss Fake: {np.mean(d_losses_fake)}, G Loss: {np.mean(g_losses)}\")\n",
    "    \n",
    "    return generator\n",
    "\n",
    "\n",
    "# Example usage with a DataFrame (assuming _traindf_X is a DataFrame)\n",
    "trained_generator = train_wgan(generator, discriminator, wgan, X_dd, noise_dim, epochs=1000, batch_size=64)"
   ]
  },
  {
   "cell_type": "code",
   "execution_count": 343,
   "id": "d6fa3054",
   "metadata": {},
   "outputs": [],
   "source": [
    "num_samples = 100000   # Adjust as needed\n",
    "ad_samples = trained_generator.predict(np.random.randn(num_samples, noise_dim))"
   ]
  },
  {
   "cell_type": "code",
   "execution_count": 344,
   "id": "6dd6f767",
   "metadata": {},
   "outputs": [
    {
     "data": {
      "text/plain": [
       "array([[1.9405663e-06, 2.8678769e-01, 1.5293485e-03, 1.9651063e-06],\n",
       "       [3.5960043e-06, 2.7092963e-01, 1.3913660e-03, 2.7776186e-06],\n",
       "       [2.5183009e-03, 2.9128924e-04, 2.8043472e-05, 1.3448407e-06],\n",
       "       ...,\n",
       "       [4.8377956e-03, 9.0668109e-05, 9.9379840e-06, 1.4115465e-06],\n",
       "       [1.7021256e-04, 3.4305954e-03, 1.0002050e-04, 1.7677370e-06],\n",
       "       [4.2759800e-07, 3.2890299e-01, 1.6058412e-03, 2.3066402e-06]],\n",
       "      dtype=float32)"
      ]
     },
     "execution_count": 344,
     "metadata": {},
     "output_type": "execute_result"
    }
   ],
   "source": [
    "ad_samples"
   ]
  },
  {
   "cell_type": "code",
   "execution_count": 385,
   "id": "4720b933",
   "metadata": {},
   "outputs": [],
   "source": [
    "# file_name=\"Thesis/Ad_samples_GAN\""
   ]
  },
  {
   "cell_type": "code",
   "execution_count": 386,
   "id": "bccc765e",
   "metadata": {},
   "outputs": [],
   "source": [
    "# np.save(file_name, ad_samples)"
   ]
  },
  {
   "cell_type": "markdown",
   "id": "e33a4872",
   "metadata": {},
   "source": [
    "# Evaluating Adversarial trained model with adversarial samples Genarated using GAN"
   ]
  },
  {
   "cell_type": "code",
   "execution_count": 383,
   "id": "e621858f",
   "metadata": {},
   "outputs": [
    {
     "data": {
      "text/plain": [
       "[1.0598138542366027, 0.6742]"
      ]
     },
     "execution_count": 383,
     "metadata": {},
     "output_type": "execute_result"
    }
   ],
   "source": [
    "model.evaluate(ad_samples, result_array)"
   ]
  },
  {
   "cell_type": "code",
   "execution_count": 362,
   "id": "af99a29a",
   "metadata": {},
   "outputs": [
    {
     "name": "stdout",
     "output_type": "stream",
     "text": [
      "Precision: 1.0\n",
      "Recall: 0.6742\n"
     ]
    }
   ],
   "source": [
    "y_adsam1 = Classifier.predict(ad_samples)\n",
    "y_adsam1 = np.round(y_adsam1)\n",
    "y_adsam1 = np.squeeze(y_adsam1).astype(int)\n",
    "precision = precision_score(result_array, y_adsam1)\n",
    "recall = recall_score(result_array, y_adsam1)\n",
    "\n",
    "print(\"Precision:\", precision)\n",
    "print(\"Recall:\", recall)"
   ]
  },
  {
   "cell_type": "code",
   "execution_count": 364,
   "id": "6abc8d00",
   "metadata": {},
   "outputs": [
    {
     "name": "stdout",
     "output_type": "stream",
     "text": [
      "              precision    recall  f1-score   support\n",
      "\n",
      "           0       0.00      0.00      0.00         0\n",
      "           1       1.00      0.67      0.81    100000\n",
      "\n",
      "    accuracy                           0.67    100000\n",
      "   macro avg       0.50      0.34      0.40    100000\n",
      "weighted avg       1.00      0.67      0.81    100000\n",
      "\n"
     ]
    },
    {
     "name": "stderr",
     "output_type": "stream",
     "text": [
      "C:\\Users\\Aswin\\anaconda3\\envs\\tf\\lib\\site-packages\\sklearn\\metrics\\_classification.py:1334: UndefinedMetricWarning: Recall and F-score are ill-defined and being set to 0.0 in labels with no true samples. Use `zero_division` parameter to control this behavior.\n",
      "  _warn_prf(average, modifier, msg_start, len(result))\n",
      "C:\\Users\\Aswin\\anaconda3\\envs\\tf\\lib\\site-packages\\sklearn\\metrics\\_classification.py:1334: UndefinedMetricWarning: Recall and F-score are ill-defined and being set to 0.0 in labels with no true samples. Use `zero_division` parameter to control this behavior.\n",
      "  _warn_prf(average, modifier, msg_start, len(result))\n",
      "C:\\Users\\Aswin\\anaconda3\\envs\\tf\\lib\\site-packages\\sklearn\\metrics\\_classification.py:1334: UndefinedMetricWarning: Recall and F-score are ill-defined and being set to 0.0 in labels with no true samples. Use `zero_division` parameter to control this behavior.\n",
      "  _warn_prf(average, modifier, msg_start, len(result))\n"
     ]
    }
   ],
   "source": [
    "print(classification_report(result_array, y_adsam1))"
   ]
  },
  {
   "cell_type": "code",
   "execution_count": 365,
   "id": "63f0eb15",
   "metadata": {},
   "outputs": [
    {
     "data": {
      "image/png": "[encoded data removed]",
      "text/plain": [
       "<Figure size 800x600 with 2 Axes>"
      ]
     },
     "metadata": {},
     "output_type": "display_data"
    }
   ],
   "source": [
    "import seaborn\n",
    "import numpy as np\n",
    "import matplotlib.pyplot as plt\n",
    "import seaborn as sns\n",
    "from sklearn.metrics import confusion_matrix\n",
    "cm = confusion_matrix(result_array, y_adsam1)\n",
    "\n",
    "# Plot the confusion matrix as a heatmap\n",
    "plt.figure(figsize=(8, 6))\n",
    "sns.heatmap(cm, annot=True, fmt='d', cmap='Blues', \n",
    "            xticklabels=['Class 0', 'Class 1'], \n",
    "            yticklabels=['Class 0', 'Class 1'])\n",
    "plt.xlabel('Predicted')\n",
    "plt.ylabel('True')\n",
    "plt.title('Confusion Matrix')\n",
    "plt.show()"
   ]
  },
  {
   "cell_type": "markdown",
   "id": "3ea3fe9f",
   "metadata": {},
   "source": [
    "# Evaluating Normal model with adversarial samples Genarated using GAN"
   ]
  },
  {
   "cell_type": "code",
   "execution_count": 2,
   "id": "690b68bc",
   "metadata": {},
   "outputs": [],
   "source": [
    "modeld_ = load_model('Thesis/perfectmodel.h5')"
   ]
  },
  {
   "cell_type": "code",
   "execution_count": null,
   "id": "bb42d93d",
   "metadata": {},
   "outputs": [],
   "source": []
  },
  {
   "cell_type": "code",
   "execution_count": 353,
   "id": "e6fd0404",
   "metadata": {},
   "outputs": [
    {
     "name": "stderr",
     "output_type": "stream",
     "text": [
      "C:\\Users\\Aswin\\anaconda3\\envs\\tf\\lib\\site-packages\\keras\\engine\\training_v1.py:2332: UserWarning: `Model.state_updates` will be removed in a future version. This property should not be used in TensorFlow 2.0, as `updates` are applied automatically.\n",
      "  updates = self.state_updates\n"
     ]
    },
    {
     "data": {
      "text/plain": [
       "[89.94608039794922, 0.51694]"
      ]
     },
     "execution_count": 353,
     "metadata": {},
     "output_type": "execute_result"
    }
   ],
   "source": [
    "modeld_.evaluate(ad_samples, result_array)"
   ]
  },
  {
   "cell_type": "code",
   "execution_count": 357,
   "id": "44c18504",
   "metadata": {},
   "outputs": [],
   "source": [
    "rob_classifier = KerasClassifier( model=modeld_,use_logits=False)"
   ]
  },
  {
   "cell_type": "code",
   "execution_count": 366,
   "id": "3695844a",
   "metadata": {},
   "outputs": [
    {
     "name": "stdout",
     "output_type": "stream",
     "text": [
      "Precision: 1.0\n",
      "Recall: 0.51694\n"
     ]
    }
   ],
   "source": [
    "y_adsam = rob_classifier.predict(ad_samples)\n",
    "y_adsam = np.round(y_adsam)\n",
    "y_adsam = np.squeeze(y_adsam).astype(int)\n",
    "precision = precision_score(result_array, y_adsam)\n",
    "recall = recall_score(result_array, y_adsam)\n",
    "\n",
    "print(\"Precision:\", precision)\n",
    "print(\"Recall:\", recall)"
   ]
  },
  {
   "cell_type": "code",
   "execution_count": 359,
   "id": "1a788a1b",
   "metadata": {},
   "outputs": [
    {
     "name": "stdout",
     "output_type": "stream",
     "text": [
      "              precision    recall  f1-score   support\n",
      "\n",
      "           0       0.00      0.00      0.00         0\n",
      "           1       1.00      0.52      0.68    100000\n",
      "\n",
      "    accuracy                           0.52    100000\n",
      "   macro avg       0.50      0.26      0.34    100000\n",
      "weighted avg       1.00      0.52      0.68    100000\n",
      "\n"
     ]
    },
    {
     "name": "stderr",
     "output_type": "stream",
     "text": [
      "C:\\Users\\Aswin\\anaconda3\\envs\\tf\\lib\\site-packages\\sklearn\\metrics\\_classification.py:1334: UndefinedMetricWarning: Recall and F-score are ill-defined and being set to 0.0 in labels with no true samples. Use `zero_division` parameter to control this behavior.\n",
      "  _warn_prf(average, modifier, msg_start, len(result))\n",
      "C:\\Users\\Aswin\\anaconda3\\envs\\tf\\lib\\site-packages\\sklearn\\metrics\\_classification.py:1334: UndefinedMetricWarning: Recall and F-score are ill-defined and being set to 0.0 in labels with no true samples. Use `zero_division` parameter to control this behavior.\n",
      "  _warn_prf(average, modifier, msg_start, len(result))\n",
      "C:\\Users\\Aswin\\anaconda3\\envs\\tf\\lib\\site-packages\\sklearn\\metrics\\_classification.py:1334: UndefinedMetricWarning: Recall and F-score are ill-defined and being set to 0.0 in labels with no true samples. Use `zero_division` parameter to control this behavior.\n",
      "  _warn_prf(average, modifier, msg_start, len(result))\n"
     ]
    }
   ],
   "source": [
    "print(classification_report(result_array, y_adsam))"
   ]
  },
  {
   "cell_type": "code",
   "execution_count": 360,
   "id": "bd856572",
   "metadata": {},
   "outputs": [
    {
     "data": {
      "image/png": "[encoded data removed]",
      "text/plain": [
       "<Figure size 800x600 with 2 Axes>"
      ]
     },
     "metadata": {},
     "output_type": "display_data"
    }
   ],
   "source": [
    "import seaborn\n",
    "import numpy as np\n",
    "import matplotlib.pyplot as plt\n",
    "import seaborn as sns\n",
    "from sklearn.metrics import confusion_matrix\n",
    "cm = confusion_matrix(result_array, y_adsam)\n",
    "\n",
    "# Plot the confusion matrix as a heatmap\n",
    "plt.figure(figsize=(8, 6))\n",
    "sns.heatmap(cm, annot=True, fmt='d', cmap='Blues', \n",
    "            xticklabels=['Class 0', 'Class 1'], \n",
    "            yticklabels=['Class 0', 'Class 1'])\n",
    "plt.xlabel('Predicted')\n",
    "plt.ylabel('True')\n",
    "plt.title('Confusion Matrix')\n",
    "plt.show()"
   ]
  },
  {
   "cell_type": "code",
   "execution_count": 368,
   "id": "4b1a7fb8",
   "metadata": {},
   "outputs": [],
   "source": [
    "from sklearn.metrics import precision_recall_curve, average_precision_score\n",
    "import matplotlib.pyplot as plt"
   ]
  },
  {
   "cell_type": "code",
   "execution_count": 374,
   "id": "30865108",
   "metadata": {},
   "outputs": [
    {
     "data": {
      "text/plain": [
       "array([1.     , 0.51694, 0.     ])"
      ]
     },
     "execution_count": 374,
     "metadata": {},
     "output_type": "execute_result"
    }
   ],
   "source": [
    "precision, recall, _ = precision_recall_curve(result_array, y_adsam)"
   ]
  },
  {
   "cell_type": "code",
   "execution_count": 380,
   "id": "e359409d",
   "metadata": {},
   "outputs": [
    {
     "data": {
      "image/png": "[encoded data removed]",
      "text/plain": [
       "<Figure size 640x480 with 1 Axes>"
      ]
     },
     "metadata": {},
     "output_type": "display_data"
    }
   ],
   "source": [
    "import matplotlib.pyplot as plt\n",
    "from sklearn.metrics import recall_score\n",
    "\n",
    "# Assuming 'y_true' contains true labels and 'y_scores_model1', 'y_scores_model2' contain predicted probabilities for the positive class.\n",
    "\n",
    "# Compute recall scores for both models\n",
    "recall_model1 = recall_score(result_array, y_adsam1)\n",
    "recall_model2 = recall_score(result_array, y_adsam)\n",
    "\n",
    "# Plot recall scores\n",
    "models = [ 'Adversarial Trained Model','Normal Model']\n",
    "recall_scores = [recall_model1, recall_model2]\n",
    "\n",
    "plt.bar(models, recall_scores, color=['blue', 'green'])\n",
    "plt.ylabel('Recall')\n",
    "plt.title('Recall Scores')\n",
    "plt.ylim(0, 1)  # Set the y-axis limits between 0 and 1 for recall scores\n",
    "plt.show()\n"
   ]
  },
  {
   "cell_type": "code",
   "execution_count": 384,
   "id": "30050138",
   "metadata": {},
   "outputs": [],
   "source": [
    "model.save(\"Thesis/adTrainedmodel.h5\")"
   ]
  },
  {
   "cell_type": "code",
   "execution_count": null,
   "id": "382ceda2",
   "metadata": {},
   "outputs": [],
   "source": []
  }
 ],
 "metadata": {
  "kernelspec": {
   "display_name": "Python 3.9 (tf)",
   "language": "python",
   "name": "tf"
  },
  "language_info": {
   "codemirror_mode": {
    "name": "ipython",
    "version": 3
   },
   "file_extension": ".py",
   "mimetype": "text/x-python",
   "name": "python",
   "nbconvert_exporter": "python",
   "pygments_lexer": "ipython3",
   "version": "3.9.17"
  }
 },
 "nbformat": 4,
 "nbformat_minor": 5
}
