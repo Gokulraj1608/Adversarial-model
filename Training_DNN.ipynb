{
 "cells": [
  {
   "cell_type": "code",
   "execution_count": 1,
   "id": "296debd0",
   "metadata": {},
   "outputs": [],
   "source": [
    "import pandas as pd\n",
    "import numpy as np\n",
    "import numpy as np\n",
    "import os\n",
    "from sklearn.model_selection import train_test_split\n",
    "from sklearn.preprocessing import MinMaxScaler\n",
    "from unidecode import unidecode\n",
    "from sklearn.model_selection import train_test_split\n",
    "from sklearn.preprocessing import OneHotEncoder, StandardScaler, LabelEncoder\n",
    "from keras.models import Sequential, Model\n",
    "from keras import callbacks\n",
    "from keras.layers import Dense, Activation, Flatten, Convolution1D, Dropout,Input\n",
    "from sklearn import metrics\n",
    "from hyperopt import fmin, hp, tpe, Trials, STATUS_OK\n",
    "from hyperopt.plotting import main_plot_history, main_plot_vars\n",
    "import uuid\n",
    "import gc\n",
    "from tensorflow import keras\n",
    "import tensorflow as tf\n",
    "from sklearn.metrics import confusion_matrix, precision_score, recall_score\n",
    "from sklearn.metrics import confusion_matrix , classification_report\n",
    "from sklearn.metrics import balanced_accuracy_score\n",
    "from keras.optimizers import Adam\n",
    "from keras.regularizers import l2\n",
    "import numpy as np\n",
    "import pandas as pd\n",
    "from keras.models import Sequential, Model\n",
    "from keras.layers import Dense, LeakyReLU, BatchNormalization, Input, Reshape, Flatten\n",
    "from keras.optimizers import RMSprop\n",
    "from keras import backend as K\n",
    "from keras.models import load_model\n",
    "import matplotlib.pyplot as plt\n",
    "import pickle\n",
    "from keras.callbacks import EarlyStopping"
   ]
  },
  {
   "cell_type": "code",
   "execution_count": 2,
   "id": "6a23056d",
   "metadata": {},
   "outputs": [
    {
     "name": "stdout",
     "output_type": "stream",
     "text": [
      "Read in Friday-WorkingHours-Afternoon-DDos.pcap_ISCX.csv\n",
      "Read in Friday-WorkingHours-Afternoon-PortScan.pcap_ISCX.csv\n",
      "Read in Friday-WorkingHours-Morning.pcap_ISCX.csv\n",
      "Read in Monday-WorkingHours.pcap_ISCX.csv\n",
      "Read in Thursday-WorkingHours-Afternoon-Infilteration.pcap_ISCX.csv\n",
      "Read in Thursday-WorkingHours-Morning-WebAttacks.pcap_ISCX.csv\n",
      "Read in Tuesday-WorkingHours.pcap_ISCX.csv\n",
      "Read in Wednesday-workingHours.pcap_ISCX.csv\n",
      "Finished reading in 2830743 entries\n"
     ]
    }
   ],
   "source": [
    "base_dir = \"MachineLearningCSV/MachineLearningCVE\"\n",
    "\n",
    "csv_files = os.listdir(base_dir)\n",
    "\n",
    "data_list = []\n",
    "for file in csv_files:\n",
    "  print(\"Read in {}\".format(file))\n",
    "  data_list.append((pd.read_csv(os.path.join(base_dir, file))))\n",
    "data = pd.concat(data_list, ignore_index=True)\n",
    "print(\"Finished reading in {} entries\".format(str(data.shape[0])))"
   ]
  },
  {
   "cell_type": "code",
   "execution_count": 3,
   "id": "78f18363",
   "metadata": {},
   "outputs": [],
   "source": [
    "data[\" Label\"] = data[\" Label\"].apply(unidecode)"
   ]
  },
  {
   "cell_type": "code",
   "execution_count": 4,
   "id": "511f5791",
   "metadata": {},
   "outputs": [
    {
     "data": {
      "text/plain": [
       " Label\n",
       "BENIGN                       0.803004\n",
       "DoS Hulk                     0.081630\n",
       "PortScan                     0.056144\n",
       "DDoS                         0.045227\n",
       "DoS GoldenEye                0.003636\n",
       "FTP-Patator                  0.002804\n",
       "SSH-Patator                  0.002083\n",
       "DoS slowloris                0.002048\n",
       "DoS Slowhttptest             0.001943\n",
       "Bot                          0.000695\n",
       "Web Attack  Brute Force      0.000532\n",
       "Web Attack  XSS              0.000230\n",
       "Infiltration                 0.000013\n",
       "Web Attack  Sql Injection    0.000007\n",
       "Heartbleed                   0.000004\n",
       "Name: proportion, dtype: float64"
      ]
     },
     "execution_count": 4,
     "metadata": {},
     "output_type": "execute_result"
    }
   ],
   "source": [
    "data[\" Label\"].value_counts(normalize=True)"
   ]
  },
  {
   "cell_type": "code",
   "execution_count": 5,
   "id": "87d2182a",
   "metadata": {},
   "outputs": [],
   "source": [
    "selected_feature=[' Flow Duration',' Bwd Packet Length Std', ' Average Packet Size', ' Flow IAT Std',' Label']"
   ]
  },
  {
   "cell_type": "code",
   "execution_count": 6,
   "id": "a13da902",
   "metadata": {},
   "outputs": [],
   "source": [
    "new_df=data[selected_feature]"
   ]
  },
  {
   "cell_type": "code",
   "execution_count": 7,
   "id": "f4ac8523",
   "metadata": {},
   "outputs": [],
   "source": [
    "selected_labels = ['DDoS', 'BENIGN']"
   ]
  },
  {
   "cell_type": "code",
   "execution_count": 8,
   "id": "70919e44",
   "metadata": {},
   "outputs": [
    {
     "data": {
      "text/plain": [
       "(2401124, 5)"
      ]
     },
     "execution_count": 8,
     "metadata": {},
     "output_type": "execute_result"
    }
   ],
   "source": [
    "filtered_df = new_df[new_df[' Label'].isin(selected_labels)]\n",
    "filtered_df.shape"
   ]
  },
  {
   "cell_type": "code",
   "execution_count": 9,
   "id": "0cfaad79",
   "metadata": {},
   "outputs": [],
   "source": [
    "class_counts = filtered_df[\" Label\"].value_counts()"
   ]
  },
  {
   "cell_type": "code",
   "execution_count": 10,
   "id": "e3631f2b",
   "metadata": {},
   "outputs": [
    {
     "data": {
      "image/png": "[encoded data removed]",
      "text/plain": [
       "<Figure size 1000x600 with 1 Axes>"
      ]
     },
     "metadata": {},
     "output_type": "display_data"
    }
   ],
   "source": [
    "plt.figure(figsize=(10, 6))\n",
    "plt.pie(class_counts, labels=class_counts.index, autopct='%1.1f%%')\n",
    "plt.show()"
   ]
  },
  {
   "cell_type": "code",
   "execution_count": 11,
   "id": "3ae9c948",
   "metadata": {},
   "outputs": [],
   "source": [
    "df=filtered_df.dropna(axis=0, how='any')"
   ]
  },
  {
   "cell_type": "code",
   "execution_count": 12,
   "id": "e9e9c414",
   "metadata": {},
   "outputs": [],
   "source": [
    "df = df.replace(',,', np.nan, inplace=False)"
   ]
  },
  {
   "cell_type": "code",
   "execution_count": 13,
   "id": "2ceda137",
   "metadata": {},
   "outputs": [],
   "source": [
    "df_clean = df.replace([np.inf, -np.inf], np.nan)"
   ]
  },
  {
   "cell_type": "code",
   "execution_count": 14,
   "id": "2aaa4b08",
   "metadata": {},
   "outputs": [
    {
     "name": "stdout",
     "output_type": "stream",
     "text": [
      "In column  Flow Duration the percentage of NaN is 0.0 %\n",
      "In column  Bwd Packet Length Std the percentage of NaN is 0.0 %\n",
      "In column  Average Packet Size the percentage of NaN is 0.0 %\n",
      "In column  Flow IAT Std the percentage of NaN is 0.0 %\n",
      "In column  Label the percentage of NaN is 0.0 %\n"
     ]
    }
   ],
   "source": [
    "for column in df_clean:\n",
    "    count = df_clean[column].isna().sum()\n",
    "    print(\"In column {} the percentage of NaN is {} %\".format(column, (count/df_clean.shape[0])*100 ))"
   ]
  },
  {
   "cell_type": "code",
   "execution_count": 15,
   "id": "3dd10010",
   "metadata": {},
   "outputs": [
    {
     "name": "stdout",
     "output_type": "stream",
     "text": [
      "Total columns before deleting 5\n",
      "Total rows: 2401124\n",
      "Total columns after deleting: 5\n"
     ]
    }
   ],
   "source": [
    "print(\"Total columns before deleting {}\".format(df_clean.shape[1]))\n",
    "\n",
    "for column in df_clean:\n",
    "    count = (df_clean[column] == 0).sum()\n",
    "    percent_of_zeros = (count/df_clean.shape[0])*100\n",
    "    #if(percent_of_zeros >= 70):\n",
    "    #    print('Perc of zeros in Column  {} is {} %: '.format(column, percent_of_zeros))\n",
    "    if(percent_of_zeros >= 99.0):\n",
    "        print(\"Column deleted: {}\".format(column))\n",
    "        df_clean.drop(column, inplace=True, axis=1)\n",
    "    \n",
    "print(\"Total rows: {}\".format(df_clean.shape[0]))\n",
    "print(\"Total columns after deleting: {}\" .format(df_clean.shape[1]))"
   ]
  },
  {
   "cell_type": "code",
   "execution_count": 16,
   "id": "2d87f0f3",
   "metadata": {},
   "outputs": [
    {
     "data": {
      "text/plain": [
       "(2401124, 5)"
      ]
     },
     "execution_count": 16,
     "metadata": {},
     "output_type": "execute_result"
    }
   ],
   "source": [
    "df_clean.shape"
   ]
  },
  {
   "cell_type": "code",
   "execution_count": 17,
   "id": "6068cd59",
   "metadata": {},
   "outputs": [
    {
     "name": "stdout",
     "output_type": "stream",
     "text": [
      "Number of rows before deleting rows 2401124\n",
      "Number of rows after deleting rows 2401015\n",
      "Percentage of deleted rows: 0.00453954064846297 %\n"
     ]
    }
   ],
   "source": [
    "print(\"Number of rows before deleting rows {}\".format(df_clean.shape[0]))\n",
    "for column in df_clean:\n",
    "    df_clean = df_clean[df_clean[column] != -1]\n",
    "\n",
    "print(\"Number of rows after deleting rows {}\".format(df_clean.shape[0]))\n",
    "print(\"Percentage of deleted rows: {} %\".format(((df.shape[0]-df_clean.shape[0])/df.shape[0])*100))"
   ]
  },
  {
   "cell_type": "code",
   "execution_count": 18,
   "id": "ddfa9131",
   "metadata": {},
   "outputs": [
    {
     "data": {
      "text/plain": [
       "(2401015, 5)"
      ]
     },
     "execution_count": 18,
     "metadata": {},
     "output_type": "execute_result"
    }
   ],
   "source": [
    "df_clean.shape"
   ]
  },
  {
   "cell_type": "code",
   "execution_count": 19,
   "id": "3ae53d82",
   "metadata": {},
   "outputs": [
    {
     "data": {
      "text/plain": [
       "(128027, 5)"
      ]
     },
     "execution_count": 19,
     "metadata": {},
     "output_type": "execute_result"
    }
   ],
   "source": [
    "df_clean[df_clean[' Label'] == 'DDoS'].shape"
   ]
  },
  {
   "cell_type": "code",
   "execution_count": 20,
   "id": "b0c252b5",
   "metadata": {},
   "outputs": [],
   "source": [
    "import pandas as pd\n",
    "from sklearn.model_selection import train_test_split\n",
    "df_shuffled = df_clean.sample(frac=1, random_state=42)\n",
    "split_ratio = 0.76\n",
    "model_data, gan_data = train_test_split(df_shuffled, test_size=(1 - split_ratio), random_state=42)"
   ]
  },
  {
   "cell_type": "code",
   "execution_count": 21,
   "id": "f41c7821",
   "metadata": {},
   "outputs": [
    {
     "data": {
      "text/plain": [
       "(30691, 5)"
      ]
     },
     "execution_count": 21,
     "metadata": {},
     "output_type": "execute_result"
    }
   ],
   "source": [
    "gan_data[gan_data[' Label'] == 'DDoS'].shape"
   ]
  },
  {
   "cell_type": "code",
   "execution_count": 22,
   "id": "fccd8754",
   "metadata": {},
   "outputs": [],
   "source": [
    "model_data.to_csv(\"data_training.csv\")"
   ]
  },
  {
   "cell_type": "code",
   "execution_count": 23,
   "id": "66c5537e",
   "metadata": {},
   "outputs": [],
   "source": [
    "X = model_data[list(model_data.columns)]\n",
    "y = model_data.loc[:, model_data.columns == \" Label\"]\n",
    "X_train, X_, y_train, y_ = train_test_split(X, y, test_size=0.2, random_state=1)"
   ]
  },
  {
   "cell_type": "code",
   "execution_count": 24,
   "id": "e629b0e9",
   "metadata": {},
   "outputs": [],
   "source": [
    "X_val, X_test, y_val, y_test = train_test_split(X_, y_, test_size=0.8, random_state=42)"
   ]
  },
  {
   "cell_type": "code",
   "execution_count": 25,
   "id": "339becb8",
   "metadata": {},
   "outputs": [
    {
     "name": "stdout",
     "output_type": "stream",
     "text": [
      "Train (1459816, 5) (1459816, 1)\n",
      "Test (291964, 5) (291964, 1)\n",
      "validation (72991, 5) (72991, 1)\n",
      "GAN  training data (30691, 5)\n"
     ]
    }
   ],
   "source": [
    "print('Train', X_train.shape, y_train.shape)\n",
    "print('Test', X_test.shape, y_test.shape)\n",
    "print('validation', X_val.shape, y_val.shape)\n",
    "print('GAN  training data', gan_data[gan_data[' Label'] == 'DDoS'].shape)"
   ]
  },
  {
   "cell_type": "code",
   "execution_count": 26,
   "id": "c3565b1e",
   "metadata": {},
   "outputs": [],
   "source": [
    "scaler = MinMaxScaler()"
   ]
  },
  {
   "cell_type": "code",
   "execution_count": 27,
   "id": "9da084b4",
   "metadata": {},
   "outputs": [],
   "source": [
    "cols_X = X_train.select_dtypes(include=['float64','int64']).columns\n",
    "cols_test_X = X_test.select_dtypes(include=['float64','int64']).columns\n",
    "sc_train_X = scaler.fit_transform(X_train.select_dtypes(include=['float64','int64']))\n",
    "sc_test_X = scaler.fit_transform(X_test.select_dtypes(include=['float64','int64']))\n",
    "sc_traindf_X = pd.DataFrame(sc_train_X, columns = cols_X)\n",
    "sc_testdf_X = pd.DataFrame(sc_test_X, columns = cols_test_X)\n",
    "\n",
    "cols_x_val=X_val.select_dtypes(include=['float64','int64']).columns\n",
    "sc_val_X=scaler.fit_transform(X_val.select_dtypes(include=['float64','int64']))\n",
    "sc_valdf_x=pd.DataFrame(sc_val_X, columns = cols_x_val)"
   ]
  },
  {
   "cell_type": "code",
   "execution_count": 28,
   "id": "de4d712f",
   "metadata": {},
   "outputs": [
    {
     "data": {
      "text/html": [
       "<div>\n",
       "<style scoped>\n",
       "    .dataframe tbody tr th:only-of-type {\n",
       "        vertical-align: middle;\n",
       "    }\n",
       "\n",
       "    .dataframe tbody tr th {\n",
       "        vertical-align: top;\n",
       "    }\n",
       "\n",
       "    .dataframe thead th {\n",
       "        text-align: right;\n",
       "    }\n",
       "</style>\n",
       "<table border=\"1\" class=\"dataframe\">\n",
       "  <thead>\n",
       "    <tr style=\"text-align: right;\">\n",
       "      <th></th>\n",
       "      <th>Flow Duration</th>\n",
       "      <th>Bwd Packet Length Std</th>\n",
       "      <th>Average Packet Size</th>\n",
       "      <th>Flow IAT Std</th>\n",
       "    </tr>\n",
       "  </thead>\n",
       "  <tbody>\n",
       "    <tr>\n",
       "      <th>0</th>\n",
       "      <td>5.833333e-08</td>\n",
       "      <td>0.000000</td>\n",
       "      <td>0.007962</td>\n",
       "      <td>0.000000e+00</td>\n",
       "    </tr>\n",
       "    <tr>\n",
       "      <th>1</th>\n",
       "      <td>2.565583e-04</td>\n",
       "      <td>0.264439</td>\n",
       "      <td>0.331821</td>\n",
       "      <td>1.240752e-04</td>\n",
       "    </tr>\n",
       "    <tr>\n",
       "      <th>2</th>\n",
       "      <td>7.265508e-02</td>\n",
       "      <td>0.142791</td>\n",
       "      <td>0.125398</td>\n",
       "      <td>2.794371e-02</td>\n",
       "    </tr>\n",
       "    <tr>\n",
       "      <th>3</th>\n",
       "      <td>1.214167e-05</td>\n",
       "      <td>0.000000</td>\n",
       "      <td>0.025000</td>\n",
       "      <td>1.204913e-05</td>\n",
       "    </tr>\n",
       "    <tr>\n",
       "      <th>4</th>\n",
       "      <td>5.750000e-07</td>\n",
       "      <td>0.000000</td>\n",
       "      <td>0.002055</td>\n",
       "      <td>5.253254e-07</td>\n",
       "    </tr>\n",
       "  </tbody>\n",
       "</table>\n",
       "</div>"
      ],
      "text/plain": [
       "    Flow Duration   Bwd Packet Length Std   Average Packet Size   Flow IAT Std\n",
       "0    5.833333e-08                0.000000              0.007962   0.000000e+00\n",
       "1    2.565583e-04                0.264439              0.331821   1.240752e-04\n",
       "2    7.265508e-02                0.142791              0.125398   2.794371e-02\n",
       "3    1.214167e-05                0.000000              0.025000   1.204913e-05\n",
       "4    5.750000e-07                0.000000              0.002055   5.253254e-07"
      ]
     },
     "execution_count": 28,
     "metadata": {},
     "output_type": "execute_result"
    }
   ],
   "source": [
    "sc_traindf_X.head()"
   ]
  },
  {
   "cell_type": "code",
   "execution_count": 29,
   "id": "efdd1ab9",
   "metadata": {},
   "outputs": [
    {
     "data": {
      "text/html": [
       "<div>\n",
       "<style scoped>\n",
       "    .dataframe tbody tr th:only-of-type {\n",
       "        vertical-align: middle;\n",
       "    }\n",
       "\n",
       "    .dataframe tbody tr th {\n",
       "        vertical-align: top;\n",
       "    }\n",
       "\n",
       "    .dataframe thead th {\n",
       "        text-align: right;\n",
       "    }\n",
       "</style>\n",
       "<table border=\"1\" class=\"dataframe\">\n",
       "  <thead>\n",
       "    <tr style=\"text-align: right;\">\n",
       "      <th></th>\n",
       "      <th>Flow Duration</th>\n",
       "      <th>Bwd Packet Length Std</th>\n",
       "      <th>Average Packet Size</th>\n",
       "      <th>Flow IAT Std</th>\n",
       "    </tr>\n",
       "  </thead>\n",
       "  <tbody>\n",
       "    <tr>\n",
       "      <th>0</th>\n",
       "      <td>0.043596</td>\n",
       "      <td>0.04042</td>\n",
       "      <td>0.041096</td>\n",
       "      <td>2.112564e-02</td>\n",
       "    </tr>\n",
       "    <tr>\n",
       "      <th>1</th>\n",
       "      <td>0.000793</td>\n",
       "      <td>0.00000</td>\n",
       "      <td>0.000000</td>\n",
       "      <td>0.000000e+00</td>\n",
       "    </tr>\n",
       "    <tr>\n",
       "      <th>2</th>\n",
       "      <td>0.000163</td>\n",
       "      <td>0.00000</td>\n",
       "      <td>0.047089</td>\n",
       "      <td>0.000000e+00</td>\n",
       "    </tr>\n",
       "    <tr>\n",
       "      <th>3</th>\n",
       "      <td>0.000001</td>\n",
       "      <td>0.00000</td>\n",
       "      <td>0.016010</td>\n",
       "      <td>4.664639e-07</td>\n",
       "    </tr>\n",
       "    <tr>\n",
       "      <th>4</th>\n",
       "      <td>0.000002</td>\n",
       "      <td>0.00000</td>\n",
       "      <td>0.010873</td>\n",
       "      <td>1.008944e-06</td>\n",
       "    </tr>\n",
       "  </tbody>\n",
       "</table>\n",
       "</div>"
      ],
      "text/plain": [
       "    Flow Duration   Bwd Packet Length Std   Average Packet Size   Flow IAT Std\n",
       "0        0.043596                 0.04042              0.041096   2.112564e-02\n",
       "1        0.000793                 0.00000              0.000000   0.000000e+00\n",
       "2        0.000163                 0.00000              0.047089   0.000000e+00\n",
       "3        0.000001                 0.00000              0.016010   4.664639e-07\n",
       "4        0.000002                 0.00000              0.010873   1.008944e-06"
      ]
     },
     "execution_count": 29,
     "metadata": {},
     "output_type": "execute_result"
    }
   ],
   "source": [
    "sc_testdf_X.head()"
   ]
  },
  {
   "cell_type": "code",
   "execution_count": 30,
   "id": "cf3f74b6",
   "metadata": {},
   "outputs": [
    {
     "data": {
      "text/html": [
       "<div>\n",
       "<style scoped>\n",
       "    .dataframe tbody tr th:only-of-type {\n",
       "        vertical-align: middle;\n",
       "    }\n",
       "\n",
       "    .dataframe tbody tr th {\n",
       "        vertical-align: top;\n",
       "    }\n",
       "\n",
       "    .dataframe thead th {\n",
       "        text-align: right;\n",
       "    }\n",
       "</style>\n",
       "<table border=\"1\" class=\"dataframe\">\n",
       "  <thead>\n",
       "    <tr style=\"text-align: right;\">\n",
       "      <th></th>\n",
       "      <th>Flow Duration</th>\n",
       "      <th>Bwd Packet Length Std</th>\n",
       "      <th>Average Packet Size</th>\n",
       "      <th>Flow IAT Std</th>\n",
       "    </tr>\n",
       "  </thead>\n",
       "  <tbody>\n",
       "    <tr>\n",
       "      <th>0</th>\n",
       "      <td>0.984717</td>\n",
       "      <td>0.0</td>\n",
       "      <td>0.000000</td>\n",
       "      <td>4.528737e-02</td>\n",
       "    </tr>\n",
       "    <tr>\n",
       "      <th>1</th>\n",
       "      <td>0.000001</td>\n",
       "      <td>0.0</td>\n",
       "      <td>0.028992</td>\n",
       "      <td>9.980100e-07</td>\n",
       "    </tr>\n",
       "    <tr>\n",
       "      <th>2</th>\n",
       "      <td>0.000001</td>\n",
       "      <td>0.0</td>\n",
       "      <td>0.000000</td>\n",
       "      <td>0.000000e+00</td>\n",
       "    </tr>\n",
       "    <tr>\n",
       "      <th>3</th>\n",
       "      <td>0.000601</td>\n",
       "      <td>0.0</td>\n",
       "      <td>0.001849</td>\n",
       "      <td>4.240537e-04</td>\n",
       "    </tr>\n",
       "    <tr>\n",
       "      <th>4</th>\n",
       "      <td>0.000406</td>\n",
       "      <td>0.0</td>\n",
       "      <td>0.025621</td>\n",
       "      <td>3.311361e-04</td>\n",
       "    </tr>\n",
       "  </tbody>\n",
       "</table>\n",
       "</div>"
      ],
      "text/plain": [
       "    Flow Duration   Bwd Packet Length Std   Average Packet Size   Flow IAT Std\n",
       "0        0.984717                     0.0              0.000000   4.528737e-02\n",
       "1        0.000001                     0.0              0.028992   9.980100e-07\n",
       "2        0.000001                     0.0              0.000000   0.000000e+00\n",
       "3        0.000601                     0.0              0.001849   4.240537e-04\n",
       "4        0.000406                     0.0              0.025621   3.311361e-04"
      ]
     },
     "execution_count": 30,
     "metadata": {},
     "output_type": "execute_result"
    }
   ],
   "source": [
    "sc_valdf_x.head()"
   ]
  },
  {
   "cell_type": "code",
   "execution_count": 31,
   "id": "5775febb",
   "metadata": {},
   "outputs": [
    {
     "name": "stderr",
     "output_type": "stream",
     "text": [
      "C:\\Users\\Aswin\\anaconda3\\envs\\tf\\lib\\site-packages\\sklearn\\preprocessing\\_label.py:115: DataConversionWarning: A column-vector y was passed when a 1d array was expected. Please change the shape of y to (n_samples, ), for example using ravel().\n",
      "  y = column_or_1d(y, warn=True)\n"
     ]
    },
    {
     "data": {
      "text/plain": [
       "array([0, 1, 0, ..., 0, 0, 0])"
      ]
     },
     "execution_count": 31,
     "metadata": {},
     "output_type": "execute_result"
    }
   ],
   "source": [
    "labelencoder = LabelEncoder()\n",
    "y_train_encoded = labelencoder.fit_transform(y_train)\n",
    "y_train_encoded\n",
    "# enc = OneHotEncoder()\n",
    "# y_train_encoded = y_train_encoded.reshape(-1, 1)  # Reshape to 2D\n",
    "# y_train_onehot = enc.fit_transform(y_train_encoded).toarray()\n",
    "\n",
    "# # y_train_onehot now contains the one-hot encoded labels\n",
    "# y_train_onehot.shape"
   ]
  },
  {
   "cell_type": "code",
   "execution_count": 32,
   "id": "8af6f606",
   "metadata": {},
   "outputs": [
    {
     "data": {
      "text/plain": [
       "array([0, 0, 0, ..., 0, 0, 0])"
      ]
     },
     "execution_count": 32,
     "metadata": {},
     "output_type": "execute_result"
    }
   ],
   "source": [
    "y_val_encoded = labelencoder.fit_transform(y_val)\n",
    "y_val_encoded\n",
    "# y_val_encoded = y_val_encoded.reshape(-1, 1)  # Reshape to 2D\n",
    "# y_val_onehot = enc.fit_transform(y_val_encoded).toarray()\n",
    "\n",
    "# # y_train_onehot now contains the one-hot encoded labels\n",
    "# y_val_onehot.shape"
   ]
  },
  {
   "cell_type": "markdown",
   "id": "7bc44da7",
   "metadata": {},
   "source": [
    "# Hyperparameter selection code"
   ]
  },
  {
   "cell_type": "code",
   "execution_count": 33,
   "id": "7f8a617d",
   "metadata": {},
   "outputs": [],
   "source": [
    "# # Import packages\n",
    "# import numpy as np\n",
    "# import pandas as pd\n",
    "# import matplotlib.pyplot as plt\n",
    "# import seaborn as sns\n",
    "# from sklearn.model_selection import train_test_split\n",
    "# from sklearn.model_selection import cross_val_score\n",
    "# from keras.models import Sequential\n",
    "# from keras.layers import Dense, BatchNormalization, Dropout\n",
    "# from keras.optimizers import Adam, SGD, RMSprop, Adadelta, Adagrad, Adamax, Nadam, Ftrl\n",
    "# from keras.callbacks import EarlyStopping, ModelCheckpoint\n",
    "# from keras.wrappers.scikit_learn import KerasClassifier\n",
    "# from math import floor\n",
    "# from sklearn.metrics import make_scorer, accuracy_score\n",
    "# from bayes_opt import BayesianOptimization\n",
    "# from sklearn.model_selection import StratifiedKFold\n",
    "# from keras.layers import LeakyReLU\n",
    "# LeakyReLU = LeakyReLU(alpha=0.1)\n",
    "# import warnings\n",
    "# warnings.filterwarnings('ignore')\n",
    "# pd.set_option(\"display.max_columns\", None)"
   ]
  },
  {
   "cell_type": "code",
   "execution_count": 34,
   "id": "1bc4a1cf",
   "metadata": {},
   "outputs": [],
   "source": [
    "# def train_and_evaluate_model(model):\n",
    "\n",
    "#     model.fit(sc_traindf_X, y_train_onehot, epochs=10, batch_size=32, validation_data=(sc_valdf_x, y_val_onehot))\n",
    "#     _, accuracy = model.evaluate(sc_valdf_x, y_val_onehot)\n",
    "\n",
    "#     return accuracy"
   ]
  },
  {
   "cell_type": "code",
   "execution_count": 35,
   "id": "6cb9e905",
   "metadata": {},
   "outputs": [],
   "source": [
    "# def custom_nn_cl_bo(learning_rate, dropout_rate):\n",
    "#     optimizer = Adam(learning_rate=learning_rate)\n",
    "#     model = Sequential([\n",
    "#         Dense(128, input_dim=4, activation='relu'),\n",
    "#         Dropout(dropout_rate),\n",
    "#         Dense(64, activation='relu'),\n",
    "#         Dropout(dropout_rate),\n",
    "#         Dense(32, activation='relu'),\n",
    "#         Dropout(dropout_rate),\n",
    "#         Dense(16, activation='relu'),\n",
    "#         Dropout(dropout_rate),\n",
    "#         Dense(2, activation='sigmoid')\n",
    "#     ])\n",
    "\n",
    "#     model.compile(loss='binary_crossentropy', optimizer=optimizer, metrics=[\"accuracy\"])\n",
    "    \n",
    "#     # Train your model here and return the metric you want to optimize\n",
    "#     # For demonstration, let's assume you train the model and get some metric like accuracy\n",
    "#     accuracy = train_and_evaluate_model(model)\n",
    "    \n",
    "#     return accuracy\n",
    "\n",
    "# # Define the parameter ranges for Bayesian Optimization\n",
    "# params_custom_nn = {\n",
    "#     'learning_rate': (0.01, 1),\n",
    "#     'dropout_rate': (0, 0.3)\n",
    "# }\n",
    "\n",
    "# # Run Bayesian Optimization\n",
    "# custom_nn_bo = BayesianOptimization(custom_nn_cl_bo, params_custom_nn, random_state=111)\n",
    "# custom_nn_bo.maximize(init_points=25, n_iter=4)\n",
    "\n",
    "# # Get the optimized parameters\n",
    "# params_custom_nn_optimized = custom_nn_bo.max['params']\n",
    "# params_custom_nn_optimized['optimizer'] = Adam(learning_rate=params_custom_nn_optimized['learning_rate'])\n",
    "# params_custom_nn_optimized"
   ]
  },
  {
   "cell_type": "markdown",
   "id": "1829041e",
   "metadata": {},
   "source": [
    "# Hyper parameter selection code END here"
   ]
  },
  {
   "cell_type": "code",
   "execution_count": 36,
   "id": "579ec558",
   "metadata": {},
   "outputs": [],
   "source": [
    "def precision(y_true, y_pred):\n",
    "    true_positives = tf.keras.backend.sum(tf.keras.backend.round(tf.keras.backend.clip(y_true * y_pred, 0, 1)))\n",
    "    predicted_positives = tf.keras.backend.sum(tf.keras.backend.round(tf.keras.backend.clip(y_pred, 0, 1)))\n",
    "    precision_val = true_positives / (predicted_positives + tf.keras.backend.epsilon())\n",
    "    return precision_val"
   ]
  },
  {
   "cell_type": "code",
   "execution_count": 37,
   "id": "0cde8d23",
   "metadata": {},
   "outputs": [],
   "source": [
    "learning_rate = 0.001  # Adjust this value as needed\n",
    "drop_out=.05\n",
    "# Create an instance of the Adam optimizer with the specified learning rate\n",
    "optimizer = Adam(learning_rate=learning_rate)\n",
    "modeld = keras.Sequential([\n",
    "    keras.layers.Dense(128, input_dim=4, activation='relu'),\n",
    "    keras.layers.Dropout(drop_out),\n",
    "    keras.layers.Dense(64, activation='relu'),\n",
    "    keras.layers.Dropout(drop_out),\n",
    "    keras.layers.Dense(32, activation='relu'),\n",
    "    keras.layers.Dropout(drop_out),\n",
    "    keras.layers.Dense(16, activation='relu'),\n",
    "    keras.layers.Dropout(drop_out),\n",
    "    keras.layers.Dense(1, activation='sigmoid')\n",
    "])\n",
    "\n",
    "modeld.compile(loss='binary_crossentropy', optimizer=optimizer, metrics=\"accuracy\")"
   ]
  },
  {
   "cell_type": "code",
   "execution_count": 38,
   "id": "c974b959",
   "metadata": {},
   "outputs": [],
   "source": [
    "early_stop = EarlyStopping(monitor='val_loss', patience=10, restore_best_weights=True)"
   ]
  },
  {
   "cell_type": "code",
   "execution_count": 39,
   "id": "ec04700f",
   "metadata": {},
   "outputs": [
    {
     "name": "stdout",
     "output_type": "stream",
     "text": [
      "Epoch 1/50\n",
      "4867/4867 [==============================] - 32s 6ms/step - loss: 0.0509 - accuracy: 0.9841 - val_loss: 0.0334 - val_accuracy: 0.9879\n",
      "Epoch 2/50\n",
      "4867/4867 [==============================] - 36s 7ms/step - loss: 0.0279 - accuracy: 0.9903 - val_loss: 0.0311 - val_accuracy: 0.9875\n",
      "Epoch 3/50\n",
      "4867/4867 [==============================] - 32s 7ms/step - loss: 0.0169 - accuracy: 0.9947 - val_loss: 0.0178 - val_accuracy: 0.9945\n",
      "Epoch 4/50\n",
      "4867/4867 [==============================] - 32s 7ms/step - loss: 0.0131 - accuracy: 0.9961 - val_loss: 0.0218 - val_accuracy: 0.9929\n",
      "Epoch 5/50\n",
      "4867/4867 [==============================] - 32s 7ms/step - loss: 0.0135 - accuracy: 0.9958 - val_loss: 0.0395 - val_accuracy: 0.9856\n",
      "Epoch 6/50\n",
      "4867/4867 [==============================] - 32s 6ms/step - loss: 0.0131 - accuracy: 0.9960 - val_loss: 0.0215 - val_accuracy: 0.9928\n",
      "Epoch 7/50\n",
      "4867/4867 [==============================] - 33s 7ms/step - loss: 0.0120 - accuracy: 0.9964 - val_loss: 0.0256 - val_accuracy: 0.9909\n",
      "Epoch 8/50\n",
      "4867/4867 [==============================] - 33s 7ms/step - loss: 0.0123 - accuracy: 0.9961 - val_loss: 0.0258 - val_accuracy: 0.9920\n",
      "Epoch 9/50\n",
      "4867/4867 [==============================] - 30s 6ms/step - loss: 0.0121 - accuracy: 0.9961 - val_loss: 0.0222 - val_accuracy: 0.9937\n",
      "Epoch 10/50\n",
      "4867/4867 [==============================] - 31s 6ms/step - loss: 0.0116 - accuracy: 0.9963 - val_loss: 0.0257 - val_accuracy: 0.9925\n",
      "Epoch 11/50\n",
      "4867/4867 [==============================] - 29s 6ms/step - loss: 0.0117 - accuracy: 0.9964 - val_loss: 0.0180 - val_accuracy: 0.9945\n",
      "Epoch 12/50\n",
      "4867/4867 [==============================] - 31s 6ms/step - loss: 0.0112 - accuracy: 0.9967 - val_loss: 0.0274 - val_accuracy: 0.9878\n",
      "Epoch 13/50\n",
      "4867/4867 [==============================] - 33s 7ms/step - loss: 0.0124 - accuracy: 0.9962 - val_loss: 0.0152 - val_accuracy: 0.9955\n",
      "Epoch 14/50\n",
      "4867/4867 [==============================] - 36s 7ms/step - loss: 0.0117 - accuracy: 0.9964 - val_loss: 0.0339 - val_accuracy: 0.9888\n",
      "Epoch 15/50\n",
      "4867/4867 [==============================] - 31s 6ms/step - loss: 0.0113 - accuracy: 0.9966 - val_loss: 0.0192 - val_accuracy: 0.9941\n",
      "Epoch 16/50\n",
      "4867/4867 [==============================] - 30s 6ms/step - loss: 0.0109 - accuracy: 0.9967 - val_loss: 0.0152 - val_accuracy: 0.9953\n",
      "Epoch 17/50\n",
      "4867/4867 [==============================] - 30s 6ms/step - loss: 0.0108 - accuracy: 0.9968 - val_loss: 0.0213 - val_accuracy: 0.9937\n",
      "Epoch 18/50\n",
      "4867/4867 [==============================] - 32s 7ms/step - loss: 0.0107 - accuracy: 0.9967 - val_loss: 0.0203 - val_accuracy: 0.9946\n",
      "Epoch 19/50\n",
      "4867/4867 [==============================] - 36s 7ms/step - loss: 0.0104 - accuracy: 0.9968 - val_loss: 0.0151 - val_accuracy: 0.9958\n",
      "Epoch 20/50\n",
      "4867/4867 [==============================] - 36s 7ms/step - loss: 0.0109 - accuracy: 0.9968 - val_loss: 0.0155 - val_accuracy: 0.9958\n",
      "Epoch 21/50\n",
      "4867/4867 [==============================] - 35s 7ms/step - loss: 0.0103 - accuracy: 0.9970 - val_loss: 0.0444 - val_accuracy: 0.9825\n",
      "Epoch 22/50\n",
      "4867/4867 [==============================] - 35s 7ms/step - loss: 0.0098 - accuracy: 0.9971 - val_loss: 0.0530 - val_accuracy: 0.9848\n",
      "Epoch 23/50\n",
      "4867/4867 [==============================] - 35s 7ms/step - loss: 0.0099 - accuracy: 0.9970 - val_loss: 0.0247 - val_accuracy: 0.9921\n",
      "Epoch 24/50\n",
      "4867/4867 [==============================] - 34s 7ms/step - loss: 0.0096 - accuracy: 0.9970 - val_loss: 0.0654 - val_accuracy: 0.9775\n",
      "Epoch 25/50\n",
      "4867/4867 [==============================] - 34s 7ms/step - loss: 0.0098 - accuracy: 0.9970 - val_loss: 0.0451 - val_accuracy: 0.9842\n",
      "Epoch 26/50\n",
      "4867/4867 [==============================] - 36s 7ms/step - loss: 0.0097 - accuracy: 0.9972 - val_loss: 0.0425 - val_accuracy: 0.9824\n",
      "Epoch 27/50\n",
      "4867/4867 [==============================] - 34s 7ms/step - loss: 0.0099 - accuracy: 0.9970 - val_loss: 0.0532 - val_accuracy: 0.9824\n",
      "Epoch 28/50\n",
      "4867/4867 [==============================] - 39s 8ms/step - loss: 0.0095 - accuracy: 0.9972 - val_loss: 0.0358 - val_accuracy: 0.9907\n",
      "Epoch 29/50\n",
      "4867/4867 [==============================] - 31s 6ms/step - loss: 0.0091 - accuracy: 0.9973 - val_loss: 0.0296 - val_accuracy: 0.9927\n"
     ]
    }
   ],
   "source": [
    "\n",
    "history = modeld.fit(sc_traindf_X, y_train_encoded, epochs=50, batch_size=300,\n",
    "                      validation_data=(sc_valdf_x, y_val_encoded), callbacks=[early_stop])\n",
    "# history=modeld.fit(sc_traindf_X, y_train_encoded, epochs=50, batch_size=700,validation_data=(sc_valdf_x, y_val_encoded))"
   ]
  },
  {
   "cell_type": "code",
   "execution_count": 40,
   "id": "2132fd5b",
   "metadata": {},
   "outputs": [
    {
     "name": "stderr",
     "output_type": "stream",
     "text": [
      "C:\\Users\\Aswin\\anaconda3\\envs\\tf\\lib\\site-packages\\sklearn\\preprocessing\\_label.py:115: DataConversionWarning: A column-vector y was passed when a 1d array was expected. Please change the shape of y to (n_samples, ), for example using ravel().\n",
      "  y = column_or_1d(y, warn=True)\n"
     ]
    },
    {
     "data": {
      "text/plain": [
       "array([0, 0, 0, ..., 0, 0, 0])"
      ]
     },
     "execution_count": 40,
     "metadata": {},
     "output_type": "execute_result"
    }
   ],
   "source": [
    "y_test_encoded = labelencoder.fit_transform(y_test)\n",
    "y_test_encoded\n",
    "# enc = OneHotEncoder()\n",
    "# y_test_encoded = y_test_encoded.reshape(-1, 1)  # Reshape to 2D\n",
    "# y_test_onehot = enc.fit_transform(y_test_encoded).toarray()\n",
    "\n",
    "# # y_train_onehot now contains the one-hot encoded labels\n",
    "# y_test_onehot.shape"
   ]
  },
  {
   "cell_type": "code",
   "execution_count": 41,
   "id": "a7c4d99e",
   "metadata": {},
   "outputs": [
    {
     "name": "stdout",
     "output_type": "stream",
     "text": [
      "9124/9124 [==============================] - 29s 3ms/step - loss: 0.0158 - accuracy: 0.9952\n"
     ]
    },
    {
     "data": {
      "text/plain": [
       "[0.015793491154909134, 0.9951843619346619]"
      ]
     },
     "execution_count": 41,
     "metadata": {},
     "output_type": "execute_result"
    }
   ],
   "source": [
    "modeld.evaluate(sc_testdf_X, y_test_encoded)"
   ]
  },
  {
   "cell_type": "code",
   "execution_count": 42,
   "id": "8042f219",
   "metadata": {},
   "outputs": [
    {
     "name": "stdout",
     "output_type": "stream",
     "text": [
      "9124/9124 [==============================] - 16s 2ms/step\n"
     ]
    }
   ],
   "source": [
    "y_pred = modeld.predict(sc_testdf_X)"
   ]
  },
  {
   "cell_type": "code",
   "execution_count": 43,
   "id": "4ac62496",
   "metadata": {},
   "outputs": [],
   "source": [
    "y_pred = np.round(y_pred)"
   ]
  },
  {
   "cell_type": "code",
   "execution_count": 44,
   "id": "3b5c8dbb",
   "metadata": {},
   "outputs": [
    {
     "data": {
      "text/plain": [
       "array([[0.],\n",
       "       [0.],\n",
       "       [0.],\n",
       "       ...,\n",
       "       [0.],\n",
       "       [0.],\n",
       "       [0.]], dtype=float32)"
      ]
     },
     "execution_count": 44,
     "metadata": {},
     "output_type": "execute_result"
    }
   ],
   "source": [
    "y_pred"
   ]
  },
  {
   "cell_type": "code",
   "execution_count": 45,
   "id": "bfbf30e1",
   "metadata": {},
   "outputs": [
    {
     "name": "stdout",
     "output_type": "stream",
     "text": [
      "[0 0 0 ... 0 0 0]\n"
     ]
    }
   ],
   "source": [
    "\n",
    "y_pred_1d = np.squeeze(y_pred).astype(int)\n",
    "\n",
    "# Print the resulting 1D array\n",
    "print(y_pred_1d)"
   ]
  },
  {
   "cell_type": "code",
   "execution_count": 46,
   "id": "40836f10",
   "metadata": {},
   "outputs": [
    {
     "data": {
      "text/plain": [
       "array([0, 0, 0, ..., 0, 0, 0])"
      ]
     },
     "execution_count": 46,
     "metadata": {},
     "output_type": "execute_result"
    }
   ],
   "source": [
    "y_test_encoded"
   ]
  },
  {
   "cell_type": "code",
   "execution_count": 47,
   "id": "587c81c3",
   "metadata": {},
   "outputs": [
    {
     "name": "stdout",
     "output_type": "stream",
     "text": [
      "Precision: 0.9952928950898247\n",
      "Recall: 0.9951843377950707\n"
     ]
    }
   ],
   "source": [
    "precision = precision_score(y_test_encoded, y_pred_1d,average='weighted')\n",
    "recall = recall_score(y_test_encoded, y_pred_1d,average='weighted')\n",
    "\n",
    "print(\"Precision:\", precision)\n",
    "print(\"Recall:\", recall)"
   ]
  },
  {
   "cell_type": "code",
   "execution_count": 48,
   "id": "e5ec2b6f",
   "metadata": {},
   "outputs": [
    {
     "name": "stdout",
     "output_type": "stream",
     "text": [
      "              precision    recall  f1-score   support\n",
      "\n",
      "           0       1.00      1.00      1.00    276432\n",
      "           1       0.94      0.97      0.96     15532\n",
      "\n",
      "    accuracy                           1.00    291964\n",
      "   macro avg       0.97      0.98      0.98    291964\n",
      "weighted avg       1.00      1.00      1.00    291964\n",
      "\n"
     ]
    }
   ],
   "source": [
    "print(classification_report(y_test_encoded, y_pred_1d))"
   ]
  },
  {
   "cell_type": "code",
   "execution_count": 49,
   "id": "f1a272ee",
   "metadata": {},
   "outputs": [
    {
     "name": "stdout",
     "output_type": "stream",
     "text": [
      "Balanced Accuracy: 0.9842707259487965\n"
     ]
    }
   ],
   "source": [
    "# y_test_binary = np.argmax(y_test_encoded, axis=1)\n",
    "# y_pred_binary = np.argmax(y_pred_1d, axis=1)\n",
    "# Assuming y_true contains true labels and y_pred contains predicted labels\n",
    "balanced_acc = balanced_accuracy_score(y_test_encoded, y_pred_1d)\n",
    "print(\"Balanced Accuracy:\", balanced_acc)"
   ]
  },
  {
   "cell_type": "code",
   "execution_count": 50,
   "id": "9ca0e956",
   "metadata": {},
   "outputs": [
    {
     "data": {
      "image/png": "[encoded data removed]",
      "text/plain": [
       "<Figure size 640x480 with 1 Axes>"
      ]
     },
     "metadata": {},
     "output_type": "display_data"
    }
   ],
   "source": [
    "plt.plot(history.history['loss'])\n",
    "plt.plot(history.history['val_loss'])\n",
    "plt.title('Model loss')\n",
    "plt.xlabel('Epoch')\n",
    "plt.ylabel('Loss')\n",
    "plt.legend(['Train', 'Validation'], loc='upper left')\n",
    "plt.show()"
   ]
  },
  {
   "cell_type": "code",
   "execution_count": 51,
   "id": "335aeb69",
   "metadata": {},
   "outputs": [],
   "source": [
    "# modeld.save(\"dnn_model.h5\")"
   ]
  },
  {
   "cell_type": "code",
   "execution_count": 52,
   "id": "8be0a0e3",
   "metadata": {},
   "outputs": [
    {
     "name": "stdout",
     "output_type": "stream",
     "text": [
      "Confusion Matrix:\n",
      "[[275460    972]\n",
      " [   434  15098]]\n"
     ]
    }
   ],
   "source": [
    "# y_pred_class = np.argmax(y_pred_1d, axis=1)\n",
    "# y_true_class = np.argmax(y_test_encoded, axis=1)\n",
    "cm = confusion_matrix(y_test_encoded, y_pred_1d)\n",
    "\n",
    "print(\"Confusion Matrix:\")\n",
    "print(cm)"
   ]
  },
  {
   "cell_type": "code",
   "execution_count": 53,
   "id": "6cab0f14",
   "metadata": {},
   "outputs": [
    {
     "data": {
      "image/png": "[encoded data removed]",
      "text/plain": [
       "<Figure size 800x600 with 2 Axes>"
      ]
     },
     "metadata": {},
     "output_type": "display_data"
    }
   ],
   "source": [
    "import seaborn\n",
    "import numpy as np\n",
    "import matplotlib.pyplot as plt\n",
    "import seaborn as sns\n",
    "from sklearn.metrics import confusion_matrix\n",
    "cm = confusion_matrix(y_test_encoded, y_pred_1d)\n",
    "\n",
    "# Plot the confusion matrix as a heatmap\n",
    "plt.figure(figsize=(8, 6))\n",
    "sns.heatmap(cm, annot=True, fmt='d', cmap='Blues', \n",
    "            xticklabels=['Class 0', 'Class 1'], \n",
    "            yticklabels=['Class 0', 'Class 1'])\n",
    "plt.xlabel('Predicted')\n",
    "plt.ylabel('True')\n",
    "plt.title('Confusion Matrix')\n",
    "plt.show()"
   ]
  },
  {
   "cell_type": "code",
   "execution_count": 54,
   "id": "6dc10ff2",
   "metadata": {},
   "outputs": [
    {
     "data": {
      "image/png": "[encoded data removed]",
      "text/plain": [
       "<Figure size 640x480 with 1 Axes>"
      ]
     },
     "metadata": {},
     "output_type": "display_data"
    }
   ],
   "source": [
    "plt.plot(history.history['accuracy'])\n",
    "plt.plot(history.history['val_accuracy'])\n",
    "plt.title('Model loss')\n",
    "plt.xlabel('Epoch')\n",
    "plt.ylabel('Loss')\n",
    "plt.legend(['Train', 'Validation'], loc='upper left')\n",
    "plt.show()"
   ]
  },
  {
   "cell_type": "code",
   "execution_count": 55,
   "id": "e5c1e365",
   "metadata": {},
   "outputs": [],
   "source": [
    "# with open('history.pkl', 'wb') as file:\n",
    "#     pickle.dump(history, file)"
   ]
  },
  {
   "cell_type": "code",
   "execution_count": 56,
   "id": "6fbbedd8",
   "metadata": {},
   "outputs": [],
   "source": [
    "file_path = 'gan_data.csv'\n",
    "gan_data.to_csv(file_path, index=False)"
   ]
  },
  {
   "cell_type": "code",
   "execution_count": 57,
   "id": "d8773abb",
   "metadata": {},
   "outputs": [],
   "source": [
    "gan_data1=gan_data[gan_data[' Label'] == 'DDoS']"
   ]
  },
  {
   "cell_type": "code",
   "execution_count": 58,
   "id": "b1d2c8da",
   "metadata": {},
   "outputs": [
    {
     "name": "stderr",
     "output_type": "stream",
     "text": [
      "C:\\Users\\Aswin\\AppData\\Local\\Temp\\ipykernel_13828\\3144654024.py:1: SettingWithCopyWarning: \n",
      "A value is trying to be set on a copy of a slice from a DataFrame.\n",
      "Try using .loc[row_indexer,col_indexer] = value instead\n",
      "\n",
      "See the caveats in the documentation: https://pandas.pydata.org/pandas-docs/stable/user_guide/indexing.html#returning-a-view-versus-a-copy\n",
      "  gan_data1[\" Label\"] = 1\n"
     ]
    }
   ],
   "source": [
    "gan_data1[\" Label\"] = 1"
   ]
  },
  {
   "cell_type": "code",
   "execution_count": 59,
   "id": "1c8bdb04",
   "metadata": {},
   "outputs": [],
   "source": [
    "cols_gan_data1 = gan_data1.drop(' Label', axis=1).select_dtypes(include=['float64','int64']).columns\n",
    "sc_gan_data1 = scaler.fit_transform(gan_data1.drop(' Label', axis=1).select_dtypes(include=['float64','int64']))\n",
    "sc_gan_data1 = pd.DataFrame(sc_gan_data1, columns=cols_gan_data1)"
   ]
  },
  {
   "cell_type": "code",
   "execution_count": 60,
   "id": "fee5969d",
   "metadata": {},
   "outputs": [
    {
     "data": {
      "text/plain": [
       "(30691, 4)"
      ]
     },
     "execution_count": 60,
     "metadata": {},
     "output_type": "execute_result"
    }
   ],
   "source": [
    "sc_gan_data1.shape"
   ]
  },
  {
   "cell_type": "code",
   "execution_count": 61,
   "id": "02baf2df",
   "metadata": {},
   "outputs": [],
   "source": [
    "file_path = 'pgd_data.csv'\n",
    "sc_gan_data1.to_csv(file_path, index=False)"
   ]
  },
  {
   "cell_type": "code",
   "execution_count": 62,
   "id": "1413ad24",
   "metadata": {},
   "outputs": [
    {
     "name": "stdout",
     "output_type": "stream",
     "text": [
      "<class 'pandas.core.frame.DataFrame'>\n",
      "RangeIndex: 30691 entries, 0 to 30690\n",
      "Data columns (total 4 columns):\n",
      " #   Column                  Non-Null Count  Dtype  \n",
      "---  ------                  --------------  -----  \n",
      " 0    Flow Duration          30691 non-null  float64\n",
      " 1    Bwd Packet Length Std  30691 non-null  float64\n",
      " 2    Average Packet Size    30691 non-null  float64\n",
      " 3    Flow IAT Std           30691 non-null  float64\n",
      "dtypes: float64(4)\n",
      "memory usage: 959.2 KB\n"
     ]
    }
   ],
   "source": [
    "sc_gan_data1.info()"
   ]
  },
  {
   "cell_type": "code",
   "execution_count": 63,
   "id": "9cf0758f",
   "metadata": {},
   "outputs": [],
   "source": [
    "modeld.save(\"modeld.h5\")"
   ]
  },
  {
   "cell_type": "code",
   "execution_count": 107,
   "id": "b1899a90",
   "metadata": {},
   "outputs": [],
   "source": [
    "from art.estimators.classification import KerasClassifier\n",
    "from art.attacks.evasion import FastGradientMethod, CarliniLInfMethod,BasicIterativeMethod, ProjectedGradientDescent"
   ]
  },
  {
   "cell_type": "code",
   "execution_count": null,
   "id": "e4562d2f",
   "metadata": {},
   "outputs": [],
   "source": [
    "classifier = KerasClassifier(model=model, clip_values=(0, 1))"
   ]
  }
 ],
 "metadata": {
  "kernelspec": {
   "display_name": "Python 3.9 (tf)",
   "language": "python",
   "name": "tf"
  },
  "language_info": {
   "codemirror_mode": {
    "name": "ipython",
    "version": 3
   },
   "file_extension": ".py",
   "mimetype": "text/x-python",
   "name": "python",
   "nbconvert_exporter": "python",
   "pygments_lexer": "ipython3",
   "version": "3.9.17"
  }
 },
 "nbformat": 4,
 "nbformat_minor": 5
}
